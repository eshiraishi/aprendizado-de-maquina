{
  "nbformat": 4,
  "nbformat_minor": 0,
  "metadata": {
    "colab": {
      "name": "Atividade 2 - Regressão Linear.ipynb",
      "provenance": [],
      "collapsed_sections": [],
      "include_colab_link": true
    },
    "kernelspec": {
      "name": "python3",
      "display_name": "Python 3"
    },
    "language_info": {
      "name": "python"
    }
  },
  "cells": [
    {
      "cell_type": "markdown",
      "metadata": {
        "id": "view-in-github",
        "colab_type": "text"
      },
      "source": [
        "<a href=\"https://colab.research.google.com/github/eshiraishi/aprendizado-de-maquina/blob/main/semana-2/Atividade_2_Regress%C3%A3o_Linear.ipynb\" target=\"_parent\"><img src=\"https://colab.research.google.com/assets/colab-badge.svg\" alt=\"Open In Colab\"/></a>"
      ]
    },
    {
      "cell_type": "markdown",
      "source": [
        "## Parte 1: Exercícios Teóricos\n",
        "\n",
        "Na maior parte das atividades teremos 2 partes: \n",
        "\n",
        "- Uma com exercícios teóricos, envolvendo as questões conceituas de algorimos e simulações manuais. \n",
        "\n",
        "  - Estes exercícios são baseados no livro \"Introduction to Statistical Learning\" e devem ser realizados após a leitura do capítulo correspondente. \n",
        "\n",
        "- Outra contendo exercícios práticos, com códigos em Python\n",
        "\n",
        "  - Devem ser feitos após realizar as atividades e leituras propostas nas aulas.\n",
        "\n",
        "---"
      ],
      "metadata": {
        "id": "IyWmTuuYjRCP"
      }
    },
    {
      "cell_type": "markdown",
      "source": [
        "### Exercício 1.1 - [1 ponto]\n",
        "\n",
        "Foi realizada uma pesquisa para verificar o preço de um imóvel em uma região da cidade em função da metragem e se verificou a seguinte relação:\n",
        "\n",
        "preço = 10.000 + 5.000 * área ($m^2$) + $\\epsilon$\n",
        "\n",
        "(a) Você possui um imóvel de 50$m^2$. Qual será o preço esperado de venda deste imóvel? \n"
      ],
      "metadata": {
        "id": "jAjJXeKQlrZW"
      }
    },
    {
      "cell_type": "markdown",
      "source": [
        "***Resposta:***"
      ],
      "metadata": {
        "id": "jz9uZGg9nKqz"
      }
    },
    {
      "cell_type": "markdown",
      "source": [
        "(b) Você deseja fazer o ajuste de um modelo linear para um conjunto de dados de imóveis que você recebeu. \n",
        "\n",
        "Para um modelo $Y = \\beta_0 + \\beta_1 X + ϵ$, quais seriam bons valores de $\\beta_0$ e $\\beta_1$?\n"
      ],
      "metadata": {
        "id": "xhdYusKFnMjZ"
      }
    },
    {
      "cell_type": "markdown",
      "source": [
        "***Resposta:***"
      ],
      "metadata": {
        "id": "2Ch_vg1VnMjg"
      }
    },
    {
      "cell_type": "markdown",
      "source": [
        "(c) No modelo linear existe um termo de erro $\\epsilon$. Por que este termo existe e o que ele contempla? \n"
      ],
      "metadata": {
        "id": "FItVrGJ5nM1H"
      }
    },
    {
      "cell_type": "markdown",
      "source": [
        "***Resposta:***"
      ],
      "metadata": {
        "id": "uYgvGUj7nM1J"
      }
    },
    {
      "cell_type": "markdown",
      "source": [
        "(d) Seria possível fazer um modelo onde o valor de $\\epsilon$ é zero? O que este modelo deveria conter?\n"
      ],
      "metadata": {
        "id": "w3OzU1s_nNId"
      }
    },
    {
      "cell_type": "markdown",
      "source": [
        "***Resposta:***"
      ],
      "metadata": {
        "id": "9KO61m4GnNIf"
      }
    },
    {
      "cell_type": "markdown",
      "source": [
        "### Exercício 1.2 - [2 pontos]\n",
        "\n",
        "Para estimar o salário inicial ao se formar após a formação em um dos bacharelados interdisciplinares (BCT ou BCH) da UFABC, suponha que temos um dataset com 5 atributos preditores:\n",
        "\n",
        "$X_1 → $ CR\n",
        "\n",
        "$X_2 →$ QI\n",
        "\n",
        "$X_3 →$ gênero (1 - mulheres, 0 - homens)\n",
        "\n",
        "$X_4 →$ interação entre o CR e o QI\n",
        "\n",
        "$X_5 →$ interação entre o CR e o gênero.\n",
        "\n",
        "Supondo que utilizamos o método de mínimos quadrados para ajustar o modelo e obtivemos:\n",
        "\n",
        "$\\hat\\beta_0 = 50$, $\\hat\\beta_1 = 20$, $\\hat\\beta_2 = 0.07$, $\\hat\\beta_3 = 35$, $\\hat\\beta_4 = 0.01$, $\\hat\\beta_6 = -10$\n",
        "\n",
        "Responda as questões abaixo, justificando sua resposta para todas elas:\n",
        "\n",
        "(a) Selecione a afirmativa verdadeira:\n",
        "\n",
        "i. Para um valor fixo de CR e QI, os homens ganham em média mais do que as mulheres.\n",
        "\n",
        "ii. Para um valor fixo de CR e QI, as mulheres ganham em média mais do que os homens.\n",
        "\n",
        "iii. Para um valor fixo de CR e QI, os homens ganham em média mais do que as mulheres, desde que o CR seja alto o suficiente.\n",
        "\n",
        "iv. Para um valor fixo de CR e QI, as mulheres ganham mais em média do que os homens, desde que o CR seja alto o suficiente.\n"
      ],
      "metadata": {
        "id": "ijBabNR_b8yV"
      }
    },
    {
      "cell_type": "markdown",
      "source": [
        "***Resposta:***"
      ],
      "metadata": {
        "id": "bdJNOuk9irTE"
      }
    },
    {
      "cell_type": "markdown",
      "source": [
        "(b) Estime o salário de uma mulher com QI de 110 e CR de 4,0. Estime o salário de um homem com os mesmos valores de QI e CR. \n"
      ],
      "metadata": {
        "id": "ItmaJQPsirTE"
      }
    },
    {
      "cell_type": "markdown",
      "source": [
        "***Resposta:***"
      ],
      "metadata": {
        "id": "0EOC-tLhisCz"
      }
    },
    {
      "cell_type": "markdown",
      "source": [
        "(c) Com base na sua resposta a questão anterior:\n",
        "\n",
        "i. Se você marcou a alternativa (i): selecione apenas um valor de $\\hat\\beta$ para alterar de modo a descrever um modelo em que as mulheres ganhem em média mais que os homens. \n",
        "\n",
        "ii. Se você marcou a alternativa (ii): selecione apenas um valor de $\\hat\\beta$ para alterar de modo a descrever um modelo em que os homens ganhem em média mais que as mulheres. \n",
        "\n",
        "iii. Se você marcou a alternativa (iii): qual o mínimo valor de CR para que o salário inicial dos homens supere o das mulheres?\n",
        "\n",
        "iv. Se você marcou a alternativa (iv): qual o mínimo valor de CR para que o salário inicial das mulheres supere o dos homens?\n"
      ],
      "metadata": {
        "id": "hUkonVOTisC0"
      }
    },
    {
      "cell_type": "markdown",
      "source": [
        "***Resposta:***"
      ],
      "metadata": {
        "id": "dSzCNdrkisa0"
      }
    },
    {
      "cell_type": "markdown",
      "source": [
        "(d) Verdadeiro ou falso:\n",
        "\n",
        "Como o coeficiente para o termo de interação CR-QI é muito pequeno, há pouca evidência de um efeito de interação. Justifique sua resposta."
      ],
      "metadata": {
        "id": "poP-PorRisa1"
      }
    },
    {
      "cell_type": "markdown",
      "source": [
        "***Resposta:***"
      ],
      "metadata": {
        "id": "EPyDcuYki2n2"
      }
    },
    {
      "cell_type": "markdown",
      "source": [
        "### Exercício 1.3 - [1 ponto]\n",
        "\n",
        "Um pesquisador coletou o conjunto de dados (n = 100 observações) com um único atributo e uma resposta quantitativa. Em seguida, ele ajustou separadamente:\n",
        "\n",
        "i. um modelo de regressão linear aos dados\n",
        "\n",
        "ii. um modelo de regressão cúbica, i.e., $Y = β_0 + β_1 X + \\beta_2 X^2 + β_3 X^3 + ϵ$.\n",
        "\n",
        "-\n",
        "\n",
        "(a) Supondo que X e Y se relacionam linearmente, i.e., $Y = β_0 + β_1 X + ϵ$, considere que você ajustou o modelo usando a regressão linear e cúbica. Com relação à soma dos resíduos ao quadrado (RSS, do inglês *residual sum of squares*) para os dados do conjunto de treinamento, você espera que:\n",
        "\n",
        "i. o RSS seja menor para a regressão linear \n",
        "\n",
        "ii. o RSS seja menor para a regressão cúbica\n",
        "\n",
        "iii. os RSSs sejam os mesmos\n",
        "\n",
        "iv. não há informação o suficiente para determinar. \n",
        "\n",
        "Note que os dados de treinamento são os exemplos fornecidos para fazer o ajuste do modelo linear.\n",
        "\n",
        "Justifique a sua resposta. "
      ],
      "metadata": {
        "id": "VS1jQbpLmHUu"
      }
    },
    {
      "cell_type": "markdown",
      "source": [
        "***Resposta:***"
      ],
      "metadata": {
        "id": "v8rQHmh1h-gV"
      }
    },
    {
      "cell_type": "markdown",
      "source": [
        "(b) Idem ao item (a), mas agora considere que você está calculando o RSS para um conjunto de teste, isto é, um conjunto de dados diferente daquele utilizado para o ajuste do modelo."
      ],
      "metadata": {
        "id": "qD0HAYOviFW9"
      }
    },
    {
      "cell_type": "markdown",
      "source": [
        "***Resposta:***"
      ],
      "metadata": {
        "id": "1inmAiktiAXk"
      }
    },
    {
      "cell_type": "markdown",
      "source": [
        "---\n",
        "## Parte 2: Exercícios Práticos com Python"
      ],
      "metadata": {
        "id": "5VA-yAY1hTrD"
      }
    },
    {
      "cell_type": "markdown",
      "source": [
        "### Exercício 2.1 - Regressão Linear Simples [2 pontos]\n",
        "\n",
        "Baixe o conjunto de dados `sklearn.datasets.load_diabetes` do scikit-learn, no formato **Pandas**, como no exemplo abaixo:\n",
        "\n",
        "```\n",
        "import pandas as pd\n",
        "from sklearn.datasets import load_diabetes\n",
        "\n",
        "data = load_diabetes(as_frame=True)\n",
        "\n",
        "df = data.data\n",
        "y = data.target\n",
        "```\n",
        "\n",
        "**dica:** para gerar múltiplos plots, o melhor é utilizar o comando `plt.subplot`. No link abaixo o autor colocou exemplos de como utilizar o comando `plt.subplot`:\n",
        "\n",
        "https://www.geeksforgeeks.org/multiplots-in-python-using-matplotlib/\n",
        "\n",
        "\n",
        "--\n",
        "\n",
        "a) Faça a regressão linear para cada regressor de `df` com relação à resposta `y` usando o pacote `statsmodels`. Avalie o R² da regressão e a hipótese de que o preditor está relacionado com a resposta.\n",
        "\n",
        "\n"
      ],
      "metadata": {
        "id": "CyXjpBOihZ94"
      }
    },
    {
      "cell_type": "code",
      "source": [
        "# Coloque aqui o código "
      ],
      "metadata": {
        "id": "VPnwCjzoh3l1"
      },
      "execution_count": null,
      "outputs": []
    },
    {
      "cell_type": "markdown",
      "source": [
        "***Discussão:***"
      ],
      "metadata": {
        "id": "fbIQU3Zdh3mA"
      }
    },
    {
      "cell_type": "markdown",
      "source": [
        "b) Gere gráficos de dispersão contendo o preditor *vs* resposta, e as predições do modelo. Em cada caso, discuta se parece existir uma relação de linearidade entre preditor e resposta."
      ],
      "metadata": {
        "id": "vpevxBiKfOJu"
      }
    },
    {
      "cell_type": "code",
      "source": [
        "# Coloque aqui o código "
      ],
      "metadata": {
        "id": "-ffXcef_h34Y"
      },
      "execution_count": null,
      "outputs": []
    },
    {
      "cell_type": "markdown",
      "source": [
        "***Discussão:***"
      ],
      "metadata": {
        "id": "emrifX6nh34a"
      }
    },
    {
      "cell_type": "markdown",
      "source": [
        "### Exercício 2.2 - Regressão Linear Múltipla [2 pontos]\n",
        "\n",
        "Utilizando o mesmo *dataset*, faça a regressão linear usando todos os regressores usando o `statsmodels`. \n",
        "\n",
        "a) Identifique quais preditores possuem são relevantes para a resposta, a partir dos p-valores. Compare os resultados de relevância com a regressão múltiplas com aqueles do exercício 2.1 (regressão simples). "
      ],
      "metadata": {
        "id": "ViB-C__Mgcal"
      }
    },
    {
      "cell_type": "code",
      "source": [
        "# Coloque aqui o código "
      ],
      "metadata": {
        "id": "IhtsYEczhq6y"
      },
      "execution_count": null,
      "outputs": []
    },
    {
      "cell_type": "markdown",
      "source": [
        "***Discussão:***"
      ],
      "metadata": {
        "id": "S5OPt2qGhq60"
      }
    },
    {
      "cell_type": "markdown",
      "source": [
        "b) Realize o procedimento de ir retirando um preditor de cada vez, começando com aqueles com menor valor na estatística t. Siga o procedimento até que o R² do modelo comece a ser mais fortemente impactado. Discuta o modelo final e como ele se compara com o modelo inicial."
      ],
      "metadata": {
        "id": "gd4FW1Upe4Y1"
      }
    },
    {
      "cell_type": "code",
      "source": [
        "# Coloque aqui o código "
      ],
      "metadata": {
        "id": "20KoNM-Zhtdi"
      },
      "execution_count": null,
      "outputs": []
    },
    {
      "cell_type": "markdown",
      "source": [
        "***Discussão:***"
      ],
      "metadata": {
        "id": "5WgNOpRWhtdk"
      }
    },
    {
      "cell_type": "markdown",
      "source": [
        "### Exercício 2.3 - Extensões da Regressão Linear [2 pontos]\n",
        "\n",
        "Tentaremos agora utilizar extensões da Regressão Linear para melhorar nossos ajustes.\n",
        "\n",
        "a) No item 2.1-b vimos que alguns preditores não parecem ter uma relação de linearidade com a resposta. Para os casos identificados neste item, tente encontrar alguma transformação que melhora o ajuste do *modelo simples* (apenas com uma variável). Descreva quais transformações vocês tentou realizar e se foi obtida uma melhora no ajuste."
      ],
      "metadata": {
        "id": "47JHa40OS37A"
      }
    },
    {
      "cell_type": "code",
      "source": [
        "# Coloque aqui o código "
      ],
      "metadata": {
        "id": "3BdrSeXJRreH"
      },
      "execution_count": null,
      "outputs": []
    },
    {
      "cell_type": "markdown",
      "source": [
        "***Discussão:***"
      ],
      "metadata": {
        "id": "Muq_N2fng99J"
      }
    },
    {
      "cell_type": "markdown",
      "source": [
        "b) Treine o modelo de regressão linear múltipla com os preditores usando as transformações do item (a). Discuta o resultado obtido com relação à relevância de cada preditor e qualidade do ajuste. "
      ],
      "metadata": {
        "id": "0UnXJkfuhbAe"
      }
    },
    {
      "cell_type": "code",
      "source": [
        "# Coloque aqui o código "
      ],
      "metadata": {
        "id": "cBrm-x8BhmMu"
      },
      "execution_count": null,
      "outputs": []
    },
    {
      "cell_type": "markdown",
      "source": [
        "***Discussão:***"
      ],
      "metadata": {
        "id": "isEFGmhHhmMw"
      }
    },
    {
      "cell_type": "markdown",
      "source": [
        "\n",
        "\n",
        "---\n",
        "\n"
      ],
      "metadata": {
        "id": "y_A510aaBO9_"
      }
    }
  ]
}