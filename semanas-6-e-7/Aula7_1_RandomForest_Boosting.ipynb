{
  "cells": [
    {
      "cell_type": "code",
      "execution_count": null,
      "metadata": {
        "id": "k2VRarjU6RZ9"
      },
      "outputs": [],
      "source": [
        "import numpy as np\n",
        "import matplotlib.pyplot as plt\n",
        "import pandas as pd\n",
        "from sklearn.datasets import load_diabetes\n",
        "\n",
        "from sklearn.linear_model import LinearRegression\n",
        "from sklearn.ensemble import RandomForestRegressor\n",
        "from sklearn.metrics import mean_squared_error, r2_score\n",
        "from sklearn.model_selection import train_test_split, KFold, LeaveOneOut, cross_validate"
      ]
    },
    {
      "cell_type": "code",
      "execution_count": null,
      "metadata": {
        "id": "CIw2G_jk6lHH",
        "colab": {
          "base_uri": "https://localhost:8080/",
          "height": 295
        },
        "outputId": "a40b0fa6-b21a-4549-ac1e-60abd2e36f50"
      },
      "outputs": [
        {
          "output_type": "execute_result",
          "data": {
            "text/plain": [
              "                age           sex           bmi            bp            s1  \\\n",
              "count  4.420000e+02  4.420000e+02  4.420000e+02  4.420000e+02  4.420000e+02   \n",
              "mean  -3.634285e-16  1.308343e-16 -8.045349e-16  1.281655e-16 -8.835316e-17   \n",
              "std    4.761905e-02  4.761905e-02  4.761905e-02  4.761905e-02  4.761905e-02   \n",
              "min   -1.072256e-01 -4.464164e-02 -9.027530e-02 -1.123996e-01 -1.267807e-01   \n",
              "25%   -3.729927e-02 -4.464164e-02 -3.422907e-02 -3.665645e-02 -3.424784e-02   \n",
              "50%    5.383060e-03 -4.464164e-02 -7.283766e-03 -5.670611e-03 -4.320866e-03   \n",
              "75%    3.807591e-02  5.068012e-02  3.124802e-02  3.564384e-02  2.835801e-02   \n",
              "max    1.107267e-01  5.068012e-02  1.705552e-01  1.320442e-01  1.539137e-01   \n",
              "\n",
              "                 s2            s3            s4            s5            s6  \n",
              "count  4.420000e+02  4.420000e+02  4.420000e+02  4.420000e+02  4.420000e+02  \n",
              "mean   1.327024e-16 -4.574646e-16  3.777301e-16 -3.830854e-16 -3.412882e-16  \n",
              "std    4.761905e-02  4.761905e-02  4.761905e-02  4.761905e-02  4.761905e-02  \n",
              "min   -1.156131e-01 -1.023071e-01 -7.639450e-02 -1.260974e-01 -1.377672e-01  \n",
              "25%   -3.035840e-02 -3.511716e-02 -3.949338e-02 -3.324879e-02 -3.317903e-02  \n",
              "50%   -3.819065e-03 -6.584468e-03 -2.592262e-03 -1.947634e-03 -1.077698e-03  \n",
              "75%    2.984439e-02  2.931150e-02  3.430886e-02  3.243323e-02  2.791705e-02  \n",
              "max    1.987880e-01  1.811791e-01  1.852344e-01  1.335990e-01  1.356118e-01  "
            ],
            "text/html": [
              "\n",
              "  <div id=\"df-e3125b05-a0b1-43b2-b4f3-c09dfbeaa3fb\">\n",
              "    <div class=\"colab-df-container\">\n",
              "      <div>\n",
              "<style scoped>\n",
              "    .dataframe tbody tr th:only-of-type {\n",
              "        vertical-align: middle;\n",
              "    }\n",
              "\n",
              "    .dataframe tbody tr th {\n",
              "        vertical-align: top;\n",
              "    }\n",
              "\n",
              "    .dataframe thead th {\n",
              "        text-align: right;\n",
              "    }\n",
              "</style>\n",
              "<table border=\"1\" class=\"dataframe\">\n",
              "  <thead>\n",
              "    <tr style=\"text-align: right;\">\n",
              "      <th></th>\n",
              "      <th>age</th>\n",
              "      <th>sex</th>\n",
              "      <th>bmi</th>\n",
              "      <th>bp</th>\n",
              "      <th>s1</th>\n",
              "      <th>s2</th>\n",
              "      <th>s3</th>\n",
              "      <th>s4</th>\n",
              "      <th>s5</th>\n",
              "      <th>s6</th>\n",
              "    </tr>\n",
              "  </thead>\n",
              "  <tbody>\n",
              "    <tr>\n",
              "      <th>count</th>\n",
              "      <td>4.420000e+02</td>\n",
              "      <td>4.420000e+02</td>\n",
              "      <td>4.420000e+02</td>\n",
              "      <td>4.420000e+02</td>\n",
              "      <td>4.420000e+02</td>\n",
              "      <td>4.420000e+02</td>\n",
              "      <td>4.420000e+02</td>\n",
              "      <td>4.420000e+02</td>\n",
              "      <td>4.420000e+02</td>\n",
              "      <td>4.420000e+02</td>\n",
              "    </tr>\n",
              "    <tr>\n",
              "      <th>mean</th>\n",
              "      <td>-3.634285e-16</td>\n",
              "      <td>1.308343e-16</td>\n",
              "      <td>-8.045349e-16</td>\n",
              "      <td>1.281655e-16</td>\n",
              "      <td>-8.835316e-17</td>\n",
              "      <td>1.327024e-16</td>\n",
              "      <td>-4.574646e-16</td>\n",
              "      <td>3.777301e-16</td>\n",
              "      <td>-3.830854e-16</td>\n",
              "      <td>-3.412882e-16</td>\n",
              "    </tr>\n",
              "    <tr>\n",
              "      <th>std</th>\n",
              "      <td>4.761905e-02</td>\n",
              "      <td>4.761905e-02</td>\n",
              "      <td>4.761905e-02</td>\n",
              "      <td>4.761905e-02</td>\n",
              "      <td>4.761905e-02</td>\n",
              "      <td>4.761905e-02</td>\n",
              "      <td>4.761905e-02</td>\n",
              "      <td>4.761905e-02</td>\n",
              "      <td>4.761905e-02</td>\n",
              "      <td>4.761905e-02</td>\n",
              "    </tr>\n",
              "    <tr>\n",
              "      <th>min</th>\n",
              "      <td>-1.072256e-01</td>\n",
              "      <td>-4.464164e-02</td>\n",
              "      <td>-9.027530e-02</td>\n",
              "      <td>-1.123996e-01</td>\n",
              "      <td>-1.267807e-01</td>\n",
              "      <td>-1.156131e-01</td>\n",
              "      <td>-1.023071e-01</td>\n",
              "      <td>-7.639450e-02</td>\n",
              "      <td>-1.260974e-01</td>\n",
              "      <td>-1.377672e-01</td>\n",
              "    </tr>\n",
              "    <tr>\n",
              "      <th>25%</th>\n",
              "      <td>-3.729927e-02</td>\n",
              "      <td>-4.464164e-02</td>\n",
              "      <td>-3.422907e-02</td>\n",
              "      <td>-3.665645e-02</td>\n",
              "      <td>-3.424784e-02</td>\n",
              "      <td>-3.035840e-02</td>\n",
              "      <td>-3.511716e-02</td>\n",
              "      <td>-3.949338e-02</td>\n",
              "      <td>-3.324879e-02</td>\n",
              "      <td>-3.317903e-02</td>\n",
              "    </tr>\n",
              "    <tr>\n",
              "      <th>50%</th>\n",
              "      <td>5.383060e-03</td>\n",
              "      <td>-4.464164e-02</td>\n",
              "      <td>-7.283766e-03</td>\n",
              "      <td>-5.670611e-03</td>\n",
              "      <td>-4.320866e-03</td>\n",
              "      <td>-3.819065e-03</td>\n",
              "      <td>-6.584468e-03</td>\n",
              "      <td>-2.592262e-03</td>\n",
              "      <td>-1.947634e-03</td>\n",
              "      <td>-1.077698e-03</td>\n",
              "    </tr>\n",
              "    <tr>\n",
              "      <th>75%</th>\n",
              "      <td>3.807591e-02</td>\n",
              "      <td>5.068012e-02</td>\n",
              "      <td>3.124802e-02</td>\n",
              "      <td>3.564384e-02</td>\n",
              "      <td>2.835801e-02</td>\n",
              "      <td>2.984439e-02</td>\n",
              "      <td>2.931150e-02</td>\n",
              "      <td>3.430886e-02</td>\n",
              "      <td>3.243323e-02</td>\n",
              "      <td>2.791705e-02</td>\n",
              "    </tr>\n",
              "    <tr>\n",
              "      <th>max</th>\n",
              "      <td>1.107267e-01</td>\n",
              "      <td>5.068012e-02</td>\n",
              "      <td>1.705552e-01</td>\n",
              "      <td>1.320442e-01</td>\n",
              "      <td>1.539137e-01</td>\n",
              "      <td>1.987880e-01</td>\n",
              "      <td>1.811791e-01</td>\n",
              "      <td>1.852344e-01</td>\n",
              "      <td>1.335990e-01</td>\n",
              "      <td>1.356118e-01</td>\n",
              "    </tr>\n",
              "  </tbody>\n",
              "</table>\n",
              "</div>\n",
              "      <button class=\"colab-df-convert\" onclick=\"convertToInteractive('df-e3125b05-a0b1-43b2-b4f3-c09dfbeaa3fb')\"\n",
              "              title=\"Convert this dataframe to an interactive table.\"\n",
              "              style=\"display:none;\">\n",
              "        \n",
              "  <svg xmlns=\"http://www.w3.org/2000/svg\" height=\"24px\"viewBox=\"0 0 24 24\"\n",
              "       width=\"24px\">\n",
              "    <path d=\"M0 0h24v24H0V0z\" fill=\"none\"/>\n",
              "    <path d=\"M18.56 5.44l.94 2.06.94-2.06 2.06-.94-2.06-.94-.94-2.06-.94 2.06-2.06.94zm-11 1L8.5 8.5l.94-2.06 2.06-.94-2.06-.94L8.5 2.5l-.94 2.06-2.06.94zm10 10l.94 2.06.94-2.06 2.06-.94-2.06-.94-.94-2.06-.94 2.06-2.06.94z\"/><path d=\"M17.41 7.96l-1.37-1.37c-.4-.4-.92-.59-1.43-.59-.52 0-1.04.2-1.43.59L10.3 9.45l-7.72 7.72c-.78.78-.78 2.05 0 2.83L4 21.41c.39.39.9.59 1.41.59.51 0 1.02-.2 1.41-.59l7.78-7.78 2.81-2.81c.8-.78.8-2.07 0-2.86zM5.41 20L4 18.59l7.72-7.72 1.47 1.35L5.41 20z\"/>\n",
              "  </svg>\n",
              "      </button>\n",
              "      \n",
              "  <style>\n",
              "    .colab-df-container {\n",
              "      display:flex;\n",
              "      flex-wrap:wrap;\n",
              "      gap: 12px;\n",
              "    }\n",
              "\n",
              "    .colab-df-convert {\n",
              "      background-color: #E8F0FE;\n",
              "      border: none;\n",
              "      border-radius: 50%;\n",
              "      cursor: pointer;\n",
              "      display: none;\n",
              "      fill: #1967D2;\n",
              "      height: 32px;\n",
              "      padding: 0 0 0 0;\n",
              "      width: 32px;\n",
              "    }\n",
              "\n",
              "    .colab-df-convert:hover {\n",
              "      background-color: #E2EBFA;\n",
              "      box-shadow: 0px 1px 2px rgba(60, 64, 67, 0.3), 0px 1px 3px 1px rgba(60, 64, 67, 0.15);\n",
              "      fill: #174EA6;\n",
              "    }\n",
              "\n",
              "    [theme=dark] .colab-df-convert {\n",
              "      background-color: #3B4455;\n",
              "      fill: #D2E3FC;\n",
              "    }\n",
              "\n",
              "    [theme=dark] .colab-df-convert:hover {\n",
              "      background-color: #434B5C;\n",
              "      box-shadow: 0px 1px 3px 1px rgba(0, 0, 0, 0.15);\n",
              "      filter: drop-shadow(0px 1px 2px rgba(0, 0, 0, 0.3));\n",
              "      fill: #FFFFFF;\n",
              "    }\n",
              "  </style>\n",
              "\n",
              "      <script>\n",
              "        const buttonEl =\n",
              "          document.querySelector('#df-e3125b05-a0b1-43b2-b4f3-c09dfbeaa3fb button.colab-df-convert');\n",
              "        buttonEl.style.display =\n",
              "          google.colab.kernel.accessAllowed ? 'block' : 'none';\n",
              "\n",
              "        async function convertToInteractive(key) {\n",
              "          const element = document.querySelector('#df-e3125b05-a0b1-43b2-b4f3-c09dfbeaa3fb');\n",
              "          const dataTable =\n",
              "            await google.colab.kernel.invokeFunction('convertToInteractive',\n",
              "                                                     [key], {});\n",
              "          if (!dataTable) return;\n",
              "\n",
              "          const docLinkHtml = 'Like what you see? Visit the ' +\n",
              "            '<a target=\"_blank\" href=https://colab.research.google.com/notebooks/data_table.ipynb>data table notebook</a>'\n",
              "            + ' to learn more about interactive tables.';\n",
              "          element.innerHTML = '';\n",
              "          dataTable['output_type'] = 'display_data';\n",
              "          await google.colab.output.renderOutput(dataTable, element);\n",
              "          const docLink = document.createElement('div');\n",
              "          docLink.innerHTML = docLinkHtml;\n",
              "          element.appendChild(docLink);\n",
              "        }\n",
              "      </script>\n",
              "    </div>\n",
              "  </div>\n",
              "  "
            ]
          },
          "metadata": {},
          "execution_count": 2
        }
      ],
      "source": [
        "X,y = load_diabetes(as_frame=True, return_X_y=True)\n",
        "X_train, X_vali, y_train, y_vali = train_test_split(X,y, test_size=0.20, random_state=0)\n",
        "X.describe()"
      ]
    },
    {
      "cell_type": "code",
      "source": [
        "def evaluateModel(model, X, y):\n",
        "  pred = model.predict(X)\n",
        "  mse = mean_squared_error(y, pred)\n",
        "  r2 = r2_score(y, pred)\n",
        "  return mse, r2\n",
        "\n",
        "lr = LinearRegression()\n",
        "lr.fit(X_train, y_train)\n",
        "mse, r2 = evaluateModel(lr, X_train, y_train)\n",
        "print(\"LR   - Train      - MSE: %7.2f R2: %5.3f\"%(mse,r2))\n",
        "mse, r2 = evaluateModel(lr, X_vali, y_vali)\n",
        "print(\"LR   - Validation - MSE: %7.2f R2: %5.3f\"%(mse,r2))\n",
        "cv_results = cross_validate(lr, X, y, cv=5, scoring=('r2'))\n",
        "print(\"LR   - Cross-Validation - R2: %5.3f\"%(np.mean(cv_results['test_score'])))"
      ],
      "metadata": {
        "id": "ncQ4pG4MNfcV",
        "colab": {
          "base_uri": "https://localhost:8080/"
        },
        "outputId": "d4433f68-03ff-4446-f891-1f6c66846ba4"
      },
      "execution_count": null,
      "outputs": [
        {
          "output_type": "stream",
          "name": "stdout",
          "text": [
            "LR   - Train      - MSE: 2734.73 R2: 0.554\n",
            "LR   - Validation - MSE: 3424.32 R2: 0.332\n",
            "LR   - Cross-Validation - R2: 0.482\n"
          ]
        }
      ]
    },
    {
      "cell_type": "code",
      "source": [
        "rf = RandomForestRegressor(random_state=0)\n",
        "rf.fit(X_train, y_train)\n",
        "mse, r2 = evaluateModel(rf, X_train, y_train)\n",
        "print(\"RF   - Train      - MSE: %7.2f R2: %5.3f\"%(mse,r2))\n",
        "mse, r2 = evaluateModel(rf, X_vali, y_vali)\n",
        "print(\"RF   - Validation - MSE: %7.2f R2: %5.3f\"%(mse,r2))\n",
        "cv_results = cross_validate(rf, X, y, cv=5, scoring=('r2'))\n",
        "print(\"RF   - Cross-Validation - R2: %5.3f\"%(np.mean(cv_results['test_score'])))\n",
        "\n",
        "#rf.get_params()"
      ],
      "metadata": {
        "colab": {
          "base_uri": "https://localhost:8080/"
        },
        "id": "bTQTpY18hPI2",
        "outputId": "5cdddf9a-e036-4d55-919e-1d1d9ca3c235"
      },
      "execution_count": null,
      "outputs": [
        {
          "output_type": "stream",
          "name": "stdout",
          "text": [
            "RF   - Train      - MSE:  456.59 R2: 0.926\n",
            "RF   - Validation - MSE: 3769.47 R2: 0.265\n",
            "RF   - Cross-Validation - R2: 0.423\n"
          ]
        }
      ]
    },
    {
      "cell_type": "code",
      "source": [
        "rf = RandomForestRegressor(random_state=0, oob_score=True)\n",
        "rf.fit(X_train, y_train)\n",
        "cv_results = cross_validate(rf, X, y, cv=5, scoring=('r2'))\n",
        "print(\"RF   - Cross-Validation - R2: %5.3f\"%(np.mean(cv_results['test_score'])))\n",
        "print(\"RF   -                   OOB: %5.3f\"%(rf.oob_score_))"
      ],
      "metadata": {
        "colab": {
          "base_uri": "https://localhost:8080/"
        },
        "id": "3bsUeQNFtZ3X",
        "outputId": "7b1176fd-d919-4bff-ecc7-feb343d60544"
      },
      "execution_count": null,
      "outputs": [
        {
          "output_type": "stream",
          "name": "stdout",
          "text": [
            "RF   - Cross-Validation - R2: 0.423\n",
            "RF   -                   OOB: 0.463\n"
          ]
        }
      ]
    },
    {
      "cell_type": "code",
      "source": [
        "r2_cv  = []\n",
        "r2_oob = []\n",
        "for i in range(1, 11):\n",
        "  rf = RandomForestRegressor(max_depth=i, random_state=0, oob_score=True)\n",
        "  cv_results = cross_validate(rf, X, y, cv=5, scoring=('r2'))\n",
        "  r2_cv.append(  np.mean(cv_results['test_score']) )\n",
        "  rf.fit(X_train, y_train)\n",
        "  r2_oob.append( rf.oob_score_)\n",
        "plt.plot(np.arange(1,len(r2_cv)+1),  r2_cv, \"r*-\", label='max_depth_cv')\n",
        "plt.plot(np.arange(1,len(r2_oob)+1), r2_oob,\"b*-\", label='max_depth_oob')\n",
        "plt.legend()\n",
        "plt.grid()\n",
        "plt.show()"
      ],
      "metadata": {
        "colab": {
          "base_uri": "https://localhost:8080/",
          "height": 265
        },
        "id": "2GKA-HonqHVK",
        "outputId": "1a0b111b-00e5-4c67-e0df-f9a8738cde10"
      },
      "execution_count": null,
      "outputs": [
        {
          "output_type": "display_data",
          "data": {
            "text/plain": [
              "<Figure size 432x288 with 1 Axes>"
            ],
            "image/png": "[encoded data removed]"
          },
          "metadata": {
            "needs_background": "light"
          }
        }
      ]
    },
    {
      "cell_type": "code",
      "source": [
        "r2_cv = []\n",
        "r2_oob = []\n",
        "for i in range(1, 11):\n",
        "  rf = RandomForestRegressor(max_depth=i, max_features='sqrt', random_state=0, oob_score=True, n_estimators=100)\n",
        "  cv_results = cross_validate(rf, X, y, cv=5, scoring=('r2'))\n",
        "  r2_cv.append( np.mean(cv_results['test_score']) )\n",
        "  rf.fit(X_train, y_train)\n",
        "  r2_oob.append( rf.oob_score_)  \n",
        "plt.plot(np.arange(1,len(r2_cv)+1), r2_cv,\"r*-\", label='max_depth_cv')\n",
        "plt.plot(np.arange(1,len(r2_oob)+1), r2_oob,\"b*-\", label='max_depth_oob')\n",
        "plt.legend()\n",
        "plt.grid()\n",
        "plt.show()"
      ],
      "metadata": {
        "colab": {
          "base_uri": "https://localhost:8080/",
          "height": 265
        },
        "id": "-hP8HlHXsgAX",
        "outputId": "b1c1e2a6-c0d6-478f-e26b-79f8a571ef27"
      },
      "execution_count": null,
      "outputs": [
        {
          "output_type": "display_data",
          "data": {
            "text/plain": [
              "<Figure size 432x288 with 1 Axes>"
            ],
            "image/png": "[encoded data removed]"
          },
          "metadata": {
            "needs_background": "light"
          }
        }
      ]
    },
    {
      "cell_type": "markdown",
      "source": [
        "## XGBoost"
      ],
      "metadata": {
        "id": "xutreb0sBq56"
      }
    },
    {
      "cell_type": "code",
      "source": [
        "import xgboost as xgb\n",
        "\n",
        "def evaluateModel(model, X, y, isgbm=False):\n",
        "  if isgbm:\n",
        "    dtest = xgb.DMatrix(X, label=y)\n",
        "    pred = model.predict(dtest)\n",
        "  else:\n",
        "    pred = model.predict(X)\n",
        "  mse = mean_squared_error(y, pred)\n",
        "  r2 = r2_score(y, pred)\n",
        "  return mse, r2\n",
        "\n",
        "param = {}\n",
        "param = {'max_depth':2}\n",
        "num_round = 20\n",
        "dtrain = xgb.DMatrix(X_train, label=y_train)\n",
        "bst = xgb.train(param, dtrain, num_round)\n",
        "\n",
        "# make prediction\n",
        "#dtest = xgb.DMatrix(X_vali, label=y_vali)\n",
        "#preds = bst.predict(dtest)\n",
        "\n",
        "mse, r2 = evaluateModel(bst, X_train, y_train, isgbm=True)\n",
        "print(\"BST   - Train      - MSE: %7.2f R2: %5.3f\"%(mse,r2))\n",
        "mse, r2 = evaluateModel(bst, X_vali, y_vali, isgbm=True)\n",
        "print(\"BST   - Validation - MSE: %7.2f R2: %5.3f\"%(mse,r2))\n",
        "\n"
      ],
      "metadata": {
        "colab": {
          "base_uri": "https://localhost:8080/"
        },
        "id": "btHNr2sRxTTi",
        "outputId": "048626c6-7757-4715-cc1a-b7e37740b0a4"
      },
      "execution_count": null,
      "outputs": [
        {
          "output_type": "stream",
          "name": "stdout",
          "text": [
            "BST   - Train      - MSE: 1886.34 R2: 0.692\n",
            "BST   - Validation - MSE: 3840.19 R2: 0.251\n"
          ]
        }
      ]
    },
    {
      "cell_type": "code",
      "source": [
        "def validacaoCruzadaXgb(X, y, param, num_round):\n",
        "  kf = KFold(n_splits=5, shuffle=True, random_state=20)\n",
        "  mse_cv = []\n",
        "  r2_cv  = []\n",
        "\n",
        "  for train_idx, vali_idx in kf.split(X):  \n",
        "    dtrain = xgb.DMatrix(X.iloc[train_idx], label=y[train_idx])    \n",
        "    bst = xgb.train(param, dtrain, num_round)\n",
        "\n",
        "    dvali  = xgb.DMatrix(X.iloc[vali_idx],  label=y[vali_idx])\n",
        "    pred = bst.predict(dvali)\n",
        "\n",
        "    mse_cv.append( mean_squared_error(y[vali_idx], pred) )\n",
        "    r2_cv.append( r2_score(y[vali_idx], pred) )\n",
        "  \n",
        "  return np.mean(mse_cv), np.mean(r2_cv)"
      ],
      "metadata": {
        "id": "g17QGnOH041B"
      },
      "execution_count": null,
      "outputs": []
    },
    {
      "cell_type": "code",
      "source": [
        "d_list = [1,2,3,4,5,7,10]\n",
        "for r in [10,15,20,50,100,200]:\n",
        "  r2_cv  = []\n",
        "  for d in d_list:\n",
        "    param = {'max_depth':d}\n",
        "    num_round = r\n",
        "    mse, r2 = validacaoCruzadaXgb(X, y, param, num_round)\n",
        "    r2_cv.append(  r2 )\n",
        "  plt.plot(d_list,  r2_cv, \"*-\", label=r)\n",
        "plt.legend()\n",
        "plt.grid()\n",
        "plt.show() "
      ],
      "metadata": {
        "colab": {
          "base_uri": "https://localhost:8080/",
          "height": 265
        },
        "id": "Q6bSyHRK04Zq",
        "outputId": "35f6f59a-5b90-4a9d-a0ca-c98eebae44dc"
      },
      "execution_count": null,
      "outputs": [
        {
          "output_type": "display_data",
          "data": {
            "text/plain": [
              "<Figure size 432x288 with 1 Axes>"
            ],
            "image/png": "[encoded data removed]"
          },
          "metadata": {
            "needs_background": "light"
          }
        }
      ]
    },
    {
      "cell_type": "code",
      "source": [
        "e_list = [0.01, 0.05, 0.1, 0.3, 0.5, 1.0]\n",
        "for r in [10,15,20,50,100,200]:\n",
        "  r2_cv  = []\n",
        "  for e in e_list:\n",
        "    param = {'max_depth':1, 'eta':e}\n",
        "    num_round = r\n",
        "    mse, r2 = validacaoCruzadaXgb(X, y, param, num_round)\n",
        "    r2_cv.append(  r2 )\n",
        "  plt.plot(e_list,  r2_cv, \"*-\", label=r)\n",
        "plt.legend()\n",
        "plt.xscale('log')\n",
        "plt.ylim(0, 0.5)\n",
        "plt.grid()\n",
        "plt.show() "
      ],
      "metadata": {
        "colab": {
          "base_uri": "https://localhost:8080/",
          "height": 273
        },
        "id": "ZJGutYI8B3zD",
        "outputId": "b14f5a67-d367-44b2-965f-7d4813572416"
      },
      "execution_count": null,
      "outputs": [
        {
          "output_type": "display_data",
          "data": {
            "text/plain": [
              "<Figure size 432x288 with 1 Axes>"
            ],
            "image/png": "[encoded data removed]"
          },
          "metadata": {
            "needs_background": "light"
          }
        }
      ]
    },
    {
      "cell_type": "code",
      "source": [
        "### XGBoost - Scikit learn interface"
      ],
      "metadata": {
        "id": "jgU0YN7zHJAK"
      },
      "execution_count": null,
      "outputs": []
    },
    {
      "cell_type": "code",
      "source": [
        "xgbr = xgb.XGBRegressor(n_estimators=100, max_depth=1, eta=0.1, objective='reg:squarederror')\n",
        "xgbr.fit(X_train , y_train)\n",
        "cv_results = cross_validate(xgbr, X, y, cv=5, scoring=('r2'))\n",
        "print(\"RF   - Cross-Validation - R2: %5.3f\"%(np.mean(cv_results['test_score'])))\n"
      ],
      "metadata": {
        "colab": {
          "base_uri": "https://localhost:8080/"
        },
        "id": "qqTL0rDxEk_y",
        "outputId": "358eceae-4edd-451a-ab56-afe998772627"
      },
      "execution_count": null,
      "outputs": [
        {
          "output_type": "stream",
          "name": "stdout",
          "text": [
            "RF   - Cross-Validation - R2: 0.445\n"
          ]
        }
      ]
    }
  ],
  "metadata": {
    "colab": {
      "name": "Aula7.1-RandomForest-Boosting.ipynb",
      "provenance": [],
      "collapsed_sections": []
    },
    "kernelspec": {
      "display_name": "Python 3",
      "name": "python3"
    },
    "language_info": {
      "name": "python"
    }
  },
  "nbformat": 4,
  "nbformat_minor": 0
}