{
  "cells": [
    {
      "cell_type": "markdown",
      "metadata": {
        "id": "U4enYnToPFfo"
      },
      "source": [
        "## Exercício 1 (2 pontos)\n",
        "\n",
        "a) Explique o que são GAMs e quais suas principais vantagens em relação à regressão linear. \n",
        "\n",
        "Descreva cenários onde a GAM funcionaria bem e a regressão linear teria um desempenho pior, justificando o motivo para a diferença de desempenho.\n",
        "\n",
        "\n"
      ]
    },
    {
      "cell_type": "markdown",
      "metadata": {
        "id": "GVLfW-QzzLSe"
      },
      "source": [
        "***Resposta:*** GAMs são um modelo modelo aditivo linear, mas que permite o uso de funções não lineares `$f_j(X_j)$`em cada uma das variáveis.\n",
        "\n",
        "Sua principal vantagem é permitir a modelagem de relações não lineares entre preditores e resposta, ao contrário da regressão linear, que só aceita relações lineares. Para gerar estas relação não-lineares, podemos ajustar curvas suavizadas arbitrárias. \n",
        "\n",
        "Em cenários onde a dependência entre a resposta e preditores é não-linear, como no caso de consumo de combustível e potência do motor, ou entre peso e altura de uma pessoa, a GAM provavelmente funcionará melhor. \n"
      ]
    },
    {
      "cell_type": "markdown",
      "metadata": {
        "id": "niIovAdAkHlQ"
      },
      "source": [
        "b) Explique com suas palavras o que são árvores de decisão e como elas são construídas.\n",
        "\n",
        "Além disso, explique como a profundidade e número de nós de uma árvore influenciam no viés e variância do modelo.\n"
      ]
    },
    {
      "cell_type": "markdown",
      "metadata": {
        "id": "iz17L0ypzLSg"
      },
      "source": [
        "***Resposta:*** Árvores de decisão é um algoritmo de aprendizado que se baseia na segmentação dos dados em regiões (nós internos e folhas) e que utiliza regras sobre os valores dos preditores para determinar os caminhos para a tomada de decisões.\n",
        "\n",
        "As árvores são construídas de modo iterativo. No começo, todos os dados estão em um mesmo nó, a raíz. Em seguida, para todos os atributos disponível, analisa-se qual regra possibilita o maior aumento de qualidade dos nós após a separação dos dados. Em um problema de classificação, por exemplo, a qualidade de um nó pode ser medida pelas métricas Gini Index ou Entropia. O processo é repetido para cada uma das folhas geradas, até que alguma condição de parada seja atingida.\n",
        "\n",
        "Bons exemplos para condição de parada é controlar a profundidade e/ou o número máximo de nós da árvore. Considerando um caso extremo onde os dados são separados até que cada observação esteja em um nó, teremos o overfitting que causará uma alta variância e desempenho ruim nos dados de testes. O contrário disso é uma árvore com poucos nós. Neste caso teríamos baixa variância e alto viés. Para escolher o número de nós ideal, pode-se utilizar validação cruzada com o conjunto de validação.\n",
        "\n",
        "A profundidade influencia a árvore de modo similar ao número de nós, pois quanto mais profunda a árvore, mais nós ela possui."
      ]
    },
    {
      "cell_type": "markdown",
      "metadata": {
        "id": "-xx1VfT5kIYg"
      },
      "source": [
        "c) Descreva o que são florestas aleatórias e algoritmos de boosting com árvores. Em seguida, compare ambos os algoritmos nos seguintes quesitos:\n",
        "\n",
        "i) Modo de construção das árvores\n",
        "\n",
        "ii) Principais parâmetros e como eles alteram a construção das árvores\n"
      ]
    },
    {
      "cell_type": "markdown",
      "metadata": {
        "id": "rIbXLMq7zLSj"
      },
      "source": [
        "***Resposta:*** Florestas aleatórias são um método de aprendizado composto pela combinação do resultado de diferentes arvores de decisão. Cada árvore da floresta é construída com amostras de bootstrap dos dados de treinamento, e toda vez que uma nova divisão é considerada, um número aleatório $m$ de variáveis é selecionado. Essa aleatoriedade é importante para reduzir a variância final, pois diferentes árvores irão priorizar diferentes preditores. \n",
        "\n",
        "Em um problema de classificação, a classe de uma observação de teste será escolhida pela \"contagem de votos\" do resultado de cada árvore (analise de qual nó folha a observação ficou). Já em um problema de regressão, normalmente, é tirada a média dos valores do nó folha que a observação ficou em cada árvore.\n",
        "\n",
        "Alguns dos principais parâmetros de construção de uma random forest são: \n",
        "- o número de total de árvores que serão treinadas\n",
        "- o critário de avaliação\n",
        "- quantidade máxima de preditores para considerar em cada divisão.\n",
        "\n",
        "O algoritmo de boosting também utiliza múltiplas árvores para realizar treinamento e predição, entretanto, cada árvore é treinada em um versão modificada dos dados originais. O boosting utiliza \"aprendizes fracos\", normalmente, árvores com profundidade máxima baixa, como 1 ou 2. São construídos modelos em sequência, onde cada novo modelo é treinado utilizando os resíduos das predições do modelo anterior. Desse modo, com um número grande de árvores, o resíduo é incrementalmente diminuído.\n",
        "\n",
        "Alguns dos principais parâmetros de construção do boosting são:\n",
        "- o número de árvores: se for muito pequeno, os modelos podem não conseguir ajustar os dados. Se for muito alto, pode ocorrer um ajuste excessivo sobre os dados de treino. \n",
        "- o parâmetros de penalização lambda: indica a contribuição de cada novo modelo para a predição. Para lambdas menores, o ocorre de modo mais suave com o aumento do número de árvores, mas requer mais árvores para fazer um ajuste adequado do modelo\n",
        "- o número de folhas ou profundidade máxima: controla a complexidade de cada modelo simples. Normalmente o boosting funciona melhor com um grande número de modelos de baixa complexidade\n"
      ]
    },
    {
      "cell_type": "code",
      "source": [
        ""
      ],
      "metadata": {
        "id": "7qON3BHL6K8v"
      },
      "execution_count": null,
      "outputs": []
    },
    {
      "cell_type": "markdown",
      "metadata": {
        "id": "QOISkoKIkJMB"
      },
      "source": [
        "d) Neste item focaremos nas SVMs para classificação. Usando suas palavras, explique:\n",
        "\n",
        "i) O que são SVMs lineares e como elas se diferenciam da regressão logística\n",
        "\n",
        "ii) O que são kerneis radiais e polinomiais e quais as vantagens e desvantagens destes kerneis com relação ao kernel linear.\n",
        "\n",
        "\n",
        "\n",
        "\n",
        "\n"
      ]
    },
    {
      "cell_type": "markdown",
      "metadata": {
        "id": "mfuA1s5pzLSk"
      },
      "source": [
        "***Resposta:*** (i) Conside um conjunto de treinamento com $n$ observaçõs no formato $(x_1, y_1) ... (x_n, y_n)$, em que a variável resposta $y$ é binária e pode ser um dentre $\\{-1, +1\\}$. A SVM linear é um algoritmo de classificação cujo objetivo é encontrar um `hiperplano de margem máxima` que separa os dados. \n",
        "\n",
        "A classificação de um novo ponto $x$ é feita analisando o resultado da soma dos produtos internos entre a observação $x$ e cada um dos vetores de suporte:\n",
        "\n",
        "$$ f(x) = \\beta_0 + \\sum_{i=1}^{n} \\alpha_i \\langle x, x_i \\rangle   $$\n",
        "\n",
        "Tanto a regressão logística quanto o SVM linear são modelos lineares. A principal diferença é que o SVM encontra o plano que separa as classes, de modo que cada elemento é atribuído a uma classe, enquanto a regressão logistica encontra a probabilidade de cada elemento estar em cada uma das classes. \n",
        "\n",
        "(ii) O kernel é uma função que quantifica a similaridade entre duas observações / vetores. O mais comum, é o kernel linear, que utiliza o produto interno entre vetores. Um kernel polinomial soma 1 a fórmula do kernel linear e eleva tudo a um grau $d$. Enquanto o kernel radial utiliza a distância euclidiana para medir a similaridade entre as observações e vetores de suporte. \n",
        "\n",
        "$$ \\text{Kernel linear}: K(x_i, x_i' ) = \\sum_{j=1}^{p} x_{ij}, x_{i'j}  $$\n",
        "$$ \\text{Kernel Polinomial}: K(x_i, x_i' ) = (1 + \\sum_{j=1}^{p} x_{ij}, x_{i'j})^d  $$\n",
        "$$ \\text{Kernel Radial}: K(x_i, x_i' ) = \\exp ( -\\gamma \\sum_{j=1}^{p} ( x_{ij} - x_{i'j} )^2 ) $$\n",
        "\n",
        "A principal vantagem dos métodos polinomial e radial é funcionarem em problema não linearmente separáveis. Porém, elas tem um custo maior de computação e estão mais propensas ao overfitting, pois possuem mais graus de liberdade.\n",
        "\n"
      ]
    },
    {
      "cell_type": "markdown",
      "metadata": {
        "id": "K0reHKZBPM89"
      },
      "source": [
        "---\n",
        "# Parte 2 - Prática\n",
        "\n",
        "Nos exercícios abaixo, vocês usarão um conjunto de dados relativos ao tempo de execução de aplicações em diferentes arquiteturas de computadores.\n",
        "\n",
        "Os preditores são:\n",
        "```\n",
        "'instP': número de instruções de processamento\n",
        "'clock': frequência do relógio do processador\n",
        "'pipelines': número de linhas de processamento no processador\n",
        "'instM': número de instruções de acesso à memória\n",
        "'latency': latência de acesso à memória\n",
        "'transfM': quantidade de dados usados pela aplicação\n",
        "'band': çargura de banda da memória do computador\n",
        "```\n",
        "São fornecidos 2 conjuntos de dados:\n",
        "\n",
        "`dados100.csv`: contém 100 amostras de tempo de execução e preditores\n",
        "\n",
        "`dados1000.csv`: contém 1000 amostras de tempo de execução e preditores\n",
        "\n",
        "**Importante:** Após ler o DataFrame, não esqueça de retirar a resposta y do DataFrame. Caso contrário seus modelos sempre acertarão a predição :-)\n",
        "\n",
        "Também não esqueça de normalizar seus dados com o StandardScaler. Caso contrários alguns modelos não funcionarão corretamente."
      ]
    },
    {
      "cell_type": "markdown",
      "metadata": {
        "id": "RMkFtZloevvS"
      },
      "source": [
        "## Exercício 2: (2 pontos)\n",
        "\n",
        "a) Leia os dados do arquivo `dados100.csv`, que contém 100 exemplos de execuções e realize a regressão utilizando os seguintes regressores: Regressão Linear, Árvores de Decisão, GAM, RandomForest e XGBoost. No caso do XGBoost, utilize a interface do Scikit-learn\n",
        "\n",
        "Rode com os parâmetros padrão e calcule o $r^2$ de cada modelo usando validação cruzada."
      ]
    },
    {
      "cell_type": "code",
      "execution_count": null,
      "metadata": {
        "colab": {
          "resources": {
            "http://localhost:8080/nbextensions/google.colab/files.js": {
              "data": "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",
              "ok": true,
              "headers": [
                [
                  "content-type",
                  "application/javascript"
                ]
              ],
              "status": 200,
              "status_text": ""
            }
          },
          "base_uri": "https://localhost:8080/",
          "height": 223
        },
        "id": "SxJGeu96zLSm",
        "outputId": "ef0eed1e-1c37-4018-8fc7-a408d6ad16f5"
      },
      "outputs": [
        {
          "output_type": "stream",
          "name": "stdout",
          "text": [
            "Requirement already satisfied: pygam in /usr/local/lib/python3.7/dist-packages (0.8.0)\n",
            "Requirement already satisfied: scipy in /usr/local/lib/python3.7/dist-packages (from pygam) (1.4.1)\n",
            "Requirement already satisfied: numpy in /usr/local/lib/python3.7/dist-packages (from pygam) (1.21.5)\n",
            "Requirement already satisfied: progressbar2 in /usr/local/lib/python3.7/dist-packages (from pygam) (3.38.0)\n",
            "Requirement already satisfied: future in /usr/local/lib/python3.7/dist-packages (from pygam) (0.16.0)\n",
            "Requirement already satisfied: six in /usr/local/lib/python3.7/dist-packages (from progressbar2->pygam) (1.15.0)\n",
            "Requirement already satisfied: python-utils>=2.3.0 in /usr/local/lib/python3.7/dist-packages (from progressbar2->pygam) (3.1.0)\n"
          ]
        },
        {
          "output_type": "display_data",
          "data": {
            "text/plain": [
              "<IPython.core.display.HTML object>"
            ],
            "text/html": [
              "\n",
              "     <input type=\"file\" id=\"files-b1a4738c-573a-4e70-a606-bfd8f3b8b86e\" name=\"files[]\" multiple disabled\n",
              "        style=\"border:none\" />\n",
              "     <output id=\"result-b1a4738c-573a-4e70-a606-bfd8f3b8b86e\">\n",
              "      Upload widget is only available when the cell has been executed in the\n",
              "      current browser session. Please rerun this cell to enable.\n",
              "      </output>\n",
              "      <script src=\"/nbextensions/google.colab/files.js\"></script> "
            ]
          },
          "metadata": {}
        },
        {
          "output_type": "stream",
          "name": "stdout",
          "text": [
            "Saving dados100.csv to dados100.csv\n",
            "Saving dados1000.csv to dados1000.csv\n"
          ]
        }
      ],
      "source": [
        "!pip install pygam\n",
        "\n",
        "import pandas as pd\n",
        "import numpy as np\n",
        "\n",
        "from sklearn.linear_model import LinearRegression\n",
        "from sklearn.model_selection import cross_validate, KFold\n",
        "from sklearn.ensemble import RandomForestRegressor\n",
        "from sklearn.tree import DecisionTreeRegressor\n",
        "from pygam import LinearGAM\n",
        "from xgboost import XGBRegressor\n",
        "from sklearn.metrics import mean_squared_error, r2_score\n",
        "from sklearn.preprocessing import StandardScaler\n",
        "from sklearn.metrics import r2_score\n",
        "\n",
        "\n",
        "from google.colab import files\n",
        "uploaded = files.upload()\n",
        "\n",
        "#separando y\n",
        "df = pd.read_csv('dados100.csv')\n",
        "y = df['y']\n",
        "df = df.drop(columns=['y'])\n",
        "\n",
        "#normalizando os dados\n",
        "X1 = StandardScaler().fit_transform(df)\n",
        "X = pd.DataFrame(X1, columns=df.columns)"
      ]
    },
    {
      "cell_type": "code",
      "execution_count": null,
      "metadata": {
        "id": "cugpQKeEzLSm"
      },
      "outputs": [],
      "source": [
        "def validacaoCruzada(model, X, y):\n",
        "    kf = KFold(n_splits=5)\n",
        "    metrics = []\n",
        "\n",
        "    for train, vali in kf.split(X):\n",
        "        model.fit(X.iloc[train], y[train])\n",
        "        pred = model.predict(X.iloc[vali])\n",
        "        metrics.append(r2_score(y[vali], pred))\n",
        "\n",
        "    return np.mean(metrics)"
      ]
    },
    {
      "cell_type": "code",
      "source": [
        "X.describe()"
      ],
      "metadata": {
        "colab": {
          "base_uri": "https://localhost:8080/",
          "height": 295
        },
        "id": "XZ4uyXIQSatc",
        "outputId": "e00b3c33-0c90-4465-d78b-581224e3e35f"
      },
      "execution_count": null,
      "outputs": [
        {
          "output_type": "execute_result",
          "data": {
            "text/plain": [
              "              instP         clock     pipelines         instM       latency  \\\n",
              "count  1.000000e+03  1.000000e+03  1.000000e+03  1.000000e+03  1.000000e+03   \n",
              "mean   1.980638e-16  2.210454e-16 -3.887828e-16  1.501022e-16 -2.442491e-17   \n",
              "std    1.000500e+00  1.000500e+00  1.000500e+00  1.000500e+00  1.000500e+00   \n",
              "min   -1.824604e+00 -1.749924e+00 -1.759064e+00 -1.778243e+00 -1.749187e+00   \n",
              "25%   -8.162911e-01 -8.467630e-01 -8.408433e-01 -8.839491e-01 -8.869080e-01   \n",
              "50%    3.823425e-02 -3.886560e-03  1.596526e-02  1.573799e-02  2.960319e-02   \n",
              "75%    8.650977e-01  8.464517e-01  8.864016e-01  8.626004e-01  8.766204e-01   \n",
              "max    1.689301e+00  1.756830e+00  1.664191e+00  1.672317e+00  1.709836e+00   \n",
              "\n",
              "            transfM          band  \n",
              "count  1.000000e+03  1.000000e+03  \n",
              "mean  -1.748601e-16  4.335421e-16  \n",
              "std    1.000500e+00  1.000500e+00  \n",
              "min   -1.693409e+00 -1.678044e+00  \n",
              "25%   -8.435434e-01 -9.112526e-01  \n",
              "50%   -3.507467e-02  2.556327e-02  \n",
              "75%    8.644276e-01  9.040276e-01  \n",
              "max    1.770145e+00  1.669398e+00  "
            ],
            "text/html": [
              "\n",
              "  <div id=\"df-6021a738-a30f-4344-9963-073c0810ba35\">\n",
              "    <div class=\"colab-df-container\">\n",
              "      <div>\n",
              "<style scoped>\n",
              "    .dataframe tbody tr th:only-of-type {\n",
              "        vertical-align: middle;\n",
              "    }\n",
              "\n",
              "    .dataframe tbody tr th {\n",
              "        vertical-align: top;\n",
              "    }\n",
              "\n",
              "    .dataframe thead th {\n",
              "        text-align: right;\n",
              "    }\n",
              "</style>\n",
              "<table border=\"1\" class=\"dataframe\">\n",
              "  <thead>\n",
              "    <tr style=\"text-align: right;\">\n",
              "      <th></th>\n",
              "      <th>instP</th>\n",
              "      <th>clock</th>\n",
              "      <th>pipelines</th>\n",
              "      <th>instM</th>\n",
              "      <th>latency</th>\n",
              "      <th>transfM</th>\n",
              "      <th>band</th>\n",
              "    </tr>\n",
              "  </thead>\n",
              "  <tbody>\n",
              "    <tr>\n",
              "      <th>count</th>\n",
              "      <td>1.000000e+03</td>\n",
              "      <td>1.000000e+03</td>\n",
              "      <td>1.000000e+03</td>\n",
              "      <td>1.000000e+03</td>\n",
              "      <td>1.000000e+03</td>\n",
              "      <td>1.000000e+03</td>\n",
              "      <td>1.000000e+03</td>\n",
              "    </tr>\n",
              "    <tr>\n",
              "      <th>mean</th>\n",
              "      <td>1.980638e-16</td>\n",
              "      <td>2.210454e-16</td>\n",
              "      <td>-3.887828e-16</td>\n",
              "      <td>1.501022e-16</td>\n",
              "      <td>-2.442491e-17</td>\n",
              "      <td>-1.748601e-16</td>\n",
              "      <td>4.335421e-16</td>\n",
              "    </tr>\n",
              "    <tr>\n",
              "      <th>std</th>\n",
              "      <td>1.000500e+00</td>\n",
              "      <td>1.000500e+00</td>\n",
              "      <td>1.000500e+00</td>\n",
              "      <td>1.000500e+00</td>\n",
              "      <td>1.000500e+00</td>\n",
              "      <td>1.000500e+00</td>\n",
              "      <td>1.000500e+00</td>\n",
              "    </tr>\n",
              "    <tr>\n",
              "      <th>min</th>\n",
              "      <td>-1.824604e+00</td>\n",
              "      <td>-1.749924e+00</td>\n",
              "      <td>-1.759064e+00</td>\n",
              "      <td>-1.778243e+00</td>\n",
              "      <td>-1.749187e+00</td>\n",
              "      <td>-1.693409e+00</td>\n",
              "      <td>-1.678044e+00</td>\n",
              "    </tr>\n",
              "    <tr>\n",
              "      <th>25%</th>\n",
              "      <td>-8.162911e-01</td>\n",
              "      <td>-8.467630e-01</td>\n",
              "      <td>-8.408433e-01</td>\n",
              "      <td>-8.839491e-01</td>\n",
              "      <td>-8.869080e-01</td>\n",
              "      <td>-8.435434e-01</td>\n",
              "      <td>-9.112526e-01</td>\n",
              "    </tr>\n",
              "    <tr>\n",
              "      <th>50%</th>\n",
              "      <td>3.823425e-02</td>\n",
              "      <td>-3.886560e-03</td>\n",
              "      <td>1.596526e-02</td>\n",
              "      <td>1.573799e-02</td>\n",
              "      <td>2.960319e-02</td>\n",
              "      <td>-3.507467e-02</td>\n",
              "      <td>2.556327e-02</td>\n",
              "    </tr>\n",
              "    <tr>\n",
              "      <th>75%</th>\n",
              "      <td>8.650977e-01</td>\n",
              "      <td>8.464517e-01</td>\n",
              "      <td>8.864016e-01</td>\n",
              "      <td>8.626004e-01</td>\n",
              "      <td>8.766204e-01</td>\n",
              "      <td>8.644276e-01</td>\n",
              "      <td>9.040276e-01</td>\n",
              "    </tr>\n",
              "    <tr>\n",
              "      <th>max</th>\n",
              "      <td>1.689301e+00</td>\n",
              "      <td>1.756830e+00</td>\n",
              "      <td>1.664191e+00</td>\n",
              "      <td>1.672317e+00</td>\n",
              "      <td>1.709836e+00</td>\n",
              "      <td>1.770145e+00</td>\n",
              "      <td>1.669398e+00</td>\n",
              "    </tr>\n",
              "  </tbody>\n",
              "</table>\n",
              "</div>\n",
              "      <button class=\"colab-df-convert\" onclick=\"convertToInteractive('df-6021a738-a30f-4344-9963-073c0810ba35')\"\n",
              "              title=\"Convert this dataframe to an interactive table.\"\n",
              "              style=\"display:none;\">\n",
              "        \n",
              "  <svg xmlns=\"http://www.w3.org/2000/svg\" height=\"24px\"viewBox=\"0 0 24 24\"\n",
              "       width=\"24px\">\n",
              "    <path d=\"M0 0h24v24H0V0z\" fill=\"none\"/>\n",
              "    <path d=\"M18.56 5.44l.94 2.06.94-2.06 2.06-.94-2.06-.94-.94-2.06-.94 2.06-2.06.94zm-11 1L8.5 8.5l.94-2.06 2.06-.94-2.06-.94L8.5 2.5l-.94 2.06-2.06.94zm10 10l.94 2.06.94-2.06 2.06-.94-2.06-.94-.94-2.06-.94 2.06-2.06.94z\"/><path d=\"M17.41 7.96l-1.37-1.37c-.4-.4-.92-.59-1.43-.59-.52 0-1.04.2-1.43.59L10.3 9.45l-7.72 7.72c-.78.78-.78 2.05 0 2.83L4 21.41c.39.39.9.59 1.41.59.51 0 1.02-.2 1.41-.59l7.78-7.78 2.81-2.81c.8-.78.8-2.07 0-2.86zM5.41 20L4 18.59l7.72-7.72 1.47 1.35L5.41 20z\"/>\n",
              "  </svg>\n",
              "      </button>\n",
              "      \n",
              "  <style>\n",
              "    .colab-df-container {\n",
              "      display:flex;\n",
              "      flex-wrap:wrap;\n",
              "      gap: 12px;\n",
              "    }\n",
              "\n",
              "    .colab-df-convert {\n",
              "      background-color: #E8F0FE;\n",
              "      border: none;\n",
              "      border-radius: 50%;\n",
              "      cursor: pointer;\n",
              "      display: none;\n",
              "      fill: #1967D2;\n",
              "      height: 32px;\n",
              "      padding: 0 0 0 0;\n",
              "      width: 32px;\n",
              "    }\n",
              "\n",
              "    .colab-df-convert:hover {\n",
              "      background-color: #E2EBFA;\n",
              "      box-shadow: 0px 1px 2px rgba(60, 64, 67, 0.3), 0px 1px 3px 1px rgba(60, 64, 67, 0.15);\n",
              "      fill: #174EA6;\n",
              "    }\n",
              "\n",
              "    [theme=dark] .colab-df-convert {\n",
              "      background-color: #3B4455;\n",
              "      fill: #D2E3FC;\n",
              "    }\n",
              "\n",
              "    [theme=dark] .colab-df-convert:hover {\n",
              "      background-color: #434B5C;\n",
              "      box-shadow: 0px 1px 3px 1px rgba(0, 0, 0, 0.15);\n",
              "      filter: drop-shadow(0px 1px 2px rgba(0, 0, 0, 0.3));\n",
              "      fill: #FFFFFF;\n",
              "    }\n",
              "  </style>\n",
              "\n",
              "      <script>\n",
              "        const buttonEl =\n",
              "          document.querySelector('#df-6021a738-a30f-4344-9963-073c0810ba35 button.colab-df-convert');\n",
              "        buttonEl.style.display =\n",
              "          google.colab.kernel.accessAllowed ? 'block' : 'none';\n",
              "\n",
              "        async function convertToInteractive(key) {\n",
              "          const element = document.querySelector('#df-6021a738-a30f-4344-9963-073c0810ba35');\n",
              "          const dataTable =\n",
              "            await google.colab.kernel.invokeFunction('convertToInteractive',\n",
              "                                                     [key], {});\n",
              "          if (!dataTable) return;\n",
              "\n",
              "          const docLinkHtml = 'Like what you see? Visit the ' +\n",
              "            '<a target=\"_blank\" href=https://colab.research.google.com/notebooks/data_table.ipynb>data table notebook</a>'\n",
              "            + ' to learn more about interactive tables.';\n",
              "          element.innerHTML = '';\n",
              "          dataTable['output_type'] = 'display_data';\n",
              "          await google.colab.output.renderOutput(dataTable, element);\n",
              "          const docLink = document.createElement('div');\n",
              "          docLink.innerHTML = docLinkHtml;\n",
              "          element.appendChild(docLink);\n",
              "        }\n",
              "      </script>\n",
              "    </div>\n",
              "  </div>\n",
              "  "
            ]
          },
          "metadata": {},
          "execution_count": 8
        }
      ]
    },
    {
      "cell_type": "code",
      "execution_count": null,
      "metadata": {
        "colab": {
          "base_uri": "https://localhost:8080/"
        },
        "id": "rcxxZPj8zLSm",
        "outputId": "c9a24855-3f5d-4345-d094-4a70c7162877"
      },
      "outputs": [
        {
          "output_type": "stream",
          "name": "stdout",
          "text": [
            "Resultados do modelo: LinearRegression()\n",
            "R^2 = 0.1741\n",
            "\n",
            "Resultados do modelo: DecisionTreeRegressor(random_state=0)\n",
            "R^2 = 0.0789\n",
            "\n",
            "Resultados do modelo: LinearGAM(callbacks=['deviance', 'diffs'], fit_intercept=True, \n",
            "   max_iter=100, scale=None, terms='auto', tol=0.0001, verbose=False)\n",
            "R^2 = -0.0719\n",
            "\n",
            "Resultados do modelo: RandomForestRegressor(random_state=0)\n",
            "R^2 = 0.3301\n",
            "\n",
            "Resultados do modelo: XGBRegressor()\n",
            "[09:33:18] WARNING: /workspace/src/objective/regression_obj.cu:152: reg:linear is now deprecated in favor of reg:squarederror.\n",
            "[09:33:18] WARNING: /workspace/src/objective/regression_obj.cu:152: reg:linear is now deprecated in favor of reg:squarederror.\n",
            "[09:33:18] WARNING: /workspace/src/objective/regression_obj.cu:152: reg:linear is now deprecated in favor of reg:squarederror.\n",
            "[09:33:18] WARNING: /workspace/src/objective/regression_obj.cu:152: reg:linear is now deprecated in favor of reg:squarederror.\n",
            "[09:33:18] WARNING: /workspace/src/objective/regression_obj.cu:152: reg:linear is now deprecated in favor of reg:squarederror.\n",
            "R^2 = 0.2795\n",
            "\n"
          ]
        }
      ],
      "source": [
        "lr = LinearRegression()\n",
        "dt = DecisionTreeRegressor(random_state=0)\n",
        "gam = LinearGAM()\n",
        "rf = RandomForestRegressor(random_state = 0)\n",
        "xgb = XGBRegressor()\n",
        "\n",
        "for model in [lr, dt, gam, rf, xgb]:\n",
        "    print(f'Resultados do modelo: {model.__str__()}')\n",
        "    print('R^2 = %.4f\\n'%(validacaoCruzada(model, X, y)))"
      ]
    },
    {
      "cell_type": "markdown",
      "metadata": {
        "id": "yJuBeWcCx3BI"
      },
      "source": [
        "b) Faça o mesmo procedimento que no item a, mas agora usando o arquivo `dados1000.csv`. \n",
        "\n",
        "Em seguida, na seção Discussão abaixo, discuta:\n",
        "\n",
        "i) Por que houve uma diferença tão grande entre os 2 conjuntos de dados?\n",
        "\n",
        "ii) Por que o desempenho das Árvores de Decisão,  Florestas Aleatórias, Xgboost e GAMs foram superiores à regressão Linear? "
      ]
    },
    {
      "cell_type": "code",
      "execution_count": null,
      "metadata": {
        "id": "5VncQwtnhnXp",
        "colab": {
          "base_uri": "https://localhost:8080/"
        },
        "outputId": "3545158f-54d3-4bb1-fbd6-3c338d5b25f7"
      },
      "outputs": [
        {
          "output_type": "stream",
          "name": "stdout",
          "text": [
            "Resultados do modelo: LinearRegression()\n",
            "R² = 0.3056\n",
            "\n",
            "Resultados do modelo: DecisionTreeRegressor(random_state=0)\n",
            "R² = 0.5224\n",
            "\n",
            "Resultados do modelo: LinearGAM(callbacks=['deviance', 'diffs'], fit_intercept=True, \n",
            "   max_iter=100, scale=None, terms='auto', tol=0.0001, verbose=False)\n",
            "R² = 0.4496\n",
            "\n",
            "Resultados do modelo: RandomForestRegressor(random_state=0)\n",
            "R² = 0.7800\n",
            "\n",
            "Resultados do modelo: XGBRegressor()\n",
            "[09:33:51] WARNING: /workspace/src/objective/regression_obj.cu:152: reg:linear is now deprecated in favor of reg:squarederror.\n",
            "[09:33:51] WARNING: /workspace/src/objective/regression_obj.cu:152: reg:linear is now deprecated in favor of reg:squarederror.\n",
            "[09:33:51] WARNING: /workspace/src/objective/regression_obj.cu:152: reg:linear is now deprecated in favor of reg:squarederror.\n",
            "[09:33:51] WARNING: /workspace/src/objective/regression_obj.cu:152: reg:linear is now deprecated in favor of reg:squarederror.\n",
            "[09:33:51] WARNING: /workspace/src/objective/regression_obj.cu:152: reg:linear is now deprecated in favor of reg:squarederror.\n",
            "R² = 0.8105\n",
            "\n"
          ]
        }
      ],
      "source": [
        "#separando y\n",
        "df = pd.read_csv('dados1000.csv')\n",
        "y = df['y']\n",
        "df = df.drop(columns=['y'])\n",
        "\n",
        "#normalizando os dados\n",
        "X1 = StandardScaler().fit_transform(df)\n",
        "X = pd.DataFrame(X1, columns=df.columns)\n",
        "\n",
        "lr = LinearRegression()\n",
        "dt = DecisionTreeRegressor(random_state=0)\n",
        "gam = LinearGAM()\n",
        "rf = RandomForestRegressor(random_state = 0)\n",
        "xgb = XGBRegressor()\n",
        "\n",
        "for model in [lr, dt, gam, rf, xgb]:\n",
        "    print(f'Resultados do modelo: {model.__str__()}')\n",
        "    print('R² = %.4f\\n'%(validacaoCruzada(model, X, y)))"
      ]
    },
    {
      "cell_type": "markdown",
      "metadata": {
        "id": "5ZjN7AM_x_HZ"
      },
      "source": [
        "***Discussão:***"
      ]
    },
    {
      "cell_type": "markdown",
      "metadata": {
        "id": "RneXgWbJzLSo"
      },
      "source": [
        "Para facilitar a visualização (métrica `R²`):\n",
        "\n",
        "| Modelo | dados100.csv | dados1000.csv |\n",
        "| --- | --- | --- |\n",
        "| LinearRegression() | 0.1741 | 0.3056 |\n",
        "| DecisionTreeRegressor() | 0.0789 | 0.5224 |\n",
        "| LinearGAM() | -0.0719 | 0.4496 |\n",
        "| RandomForestRegressor() | 0.3301 | 0.7800 |\n",
        "| XGBoostRegressor() | 0.2931 | 0.7953 |"
      ]
    },
    {
      "cell_type": "markdown",
      "metadata": {
        "id": "jY9d3bHHzLSo"
      },
      "source": [
        "(i) A diferença é grande por conta da quantidade de dados disponíveis para treinamento em cada base. Com a validação cruzada da base `dados100.csv`, foram apenas 80 observações por ajuste, o que é pouco considerando que temos 7 preditores, o que se refletiu nos ajustes ruins do modelo. Com a base `dados1000.csv`, foram 800 observações por ajuste, o que foi o suficiente para os modelos aprenderem as relações.\n",
        "\n",
        "(ii) a regressão linear assume relações lineares entre preditores e resposta, além de independência entre preditores. Provavelmente uma ou ambas as premissas são inválidas neste conjunto de dados. "
      ]
    },
    {
      "cell_type": "markdown",
      "metadata": {
        "id": "FlMv0DgghraW"
      },
      "source": [
        "## Exercício 3: (4 pontos)\n",
        "\n",
        "a) Veremos agora como otimizar os parâmetros dos diferentes modelos:\n",
        "\n",
        "Começaremos com as Florestas Aleatórias. Faça uma busca de parâmetros para a classe RandomForest do scikit-learn e use o OOB para estimar o erro de teste.\n",
        "\n",
        "Gere um gráfico com 3 curvas, cada uma com um diferente número de `max_features` que são usadas em cada divisão das árvores. Use os valores 'auto', 'sqrt' e 'log2'. No eixo x do gráfico, coloque qual a profundidade máxima da árvore e no eixo y o $r^2$.\n",
        "\n",
        "\n",
        "Escolha uma faixa de valores que indique qual o melhor desempenho do modelo e ajuste os eixos de modo a facilitar a visualização."
      ]
    },
    {
      "cell_type": "code",
      "execution_count": null,
      "metadata": {
        "id": "7XfRGvPvzLSp"
      },
      "outputs": [],
      "source": [
        "# Todos os exercícios da questão 3 utilizam a base dados1000.csv\n",
        "\n",
        "df = pd.read_csv('dados1000.csv')\n",
        "y = df['y']\n",
        "df = df.drop(columns=['y'])\n",
        "\n",
        "X1 = StandardScaler().fit_transform(df)\n",
        "X = pd.DataFrame(X1, columns=df.columns)"
      ]
    },
    {
      "cell_type": "code",
      "execution_count": null,
      "metadata": {
        "id": "qviOHd8yeq5F",
        "colab": {
          "base_uri": "https://localhost:8080/",
          "height": 320
        },
        "outputId": "0e86b774-6a42-4b43-d317-0a96453dda7d"
      },
      "outputs": [
        {
          "output_type": "display_data",
          "data": {
            "text/plain": [
              "<Figure size 720x360 with 1 Axes>"
            ],
            "image/png": "[encoded data removed]"
          },
          "metadata": {
            "needs_background": "light"
          }
        }
      ],
      "source": [
        "from sklearn.model_selection import train_test_split\n",
        "import matplotlib.pyplot as plt\n",
        "\n",
        "X_train, X_vali, y_train, y_vali = train_test_split(X,y, test_size=0.20, random_state=0)\n",
        "\n",
        "params = {\n",
        "    'max_features': ['auto','sqrt', 'log2'],\n",
        "    'max_depth': [1,2,3,4,5,6,7,8,9,10,11,12,13,14,15]\n",
        "}\n",
        "\n",
        "plt.figure(figsize=(10,5))\n",
        "for feat in params['max_features']:\n",
        "    r2_oob =  list()\n",
        "    for depth in params['max_depth']:\n",
        "        rf = RandomForestRegressor(max_depth=depth, max_features=feat, random_state=0, oob_score=True)\n",
        "        rf.fit(X_train, y_train)\n",
        "        r2_oob.append(rf.oob_score_)\n",
        "    plt.plot(np.arange(1, len(params['max_depth'])+1),  r2_oob, \"*-\", label=feat)\n",
        "plt.legend()\n",
        "plt.xticks(np.arange(1, len(params['max_depth'])+1))\n",
        "plt.grid()\n",
        "plt.show()\n"
      ]
    },
    {
      "cell_type": "markdown",
      "metadata": {
        "id": "rr6EoXkeyvuG"
      },
      "source": [
        "b) Faça o mesmo para o **XgBoost**. Mas agora, gere uma curva para cada valor de 'max_depth' e no eixo X coloque o valor de 'gamma'. \n",
        "\n",
        "Escolha uma faixa de valores que indique qual o melhor desempenho do modelo e ajuste os eixos de modo a facilitar a visualização.\n"
      ]
    },
    {
      "cell_type": "code",
      "execution_count": null,
      "metadata": {
        "id": "b0fw1ucgyu0z",
        "colab": {
          "base_uri": "https://localhost:8080/",
          "height": 320
        },
        "outputId": "511d2e9b-2019-473b-cc48-0f451ebd8d49"
      },
      "outputs": [
        {
          "output_type": "display_data",
          "data": {
            "text/plain": [
              "<Figure size 720x360 with 1 Axes>"
            ],
            "image/png": "[encoded data removed]"
          },
          "metadata": {
            "needs_background": "light"
          }
        }
      ],
      "source": [
        "# Curvas - 'max_depth'\n",
        "# Eixo x - 'gamma'\n",
        "# Eixo y - R²\n",
        "\n",
        "##############################################################\n",
        "\n",
        "import xgboost as xgb\n",
        "\n",
        "def validacaoCruzadaXgb(X, y, param, num_round):\n",
        "    kf = KFold(n_splits=5, shuffle=True, random_state=20)\n",
        "    r2_cv  = []\n",
        "\n",
        "    for train_idx, vali_idx in kf.split(X):  \n",
        "        dtrain = xgb.DMatrix(X.iloc[train_idx], label=y[train_idx])    \n",
        "        bst = xgb.train(param, dtrain, num_round)\n",
        "\n",
        "        dvali  = xgb.DMatrix(X.iloc[vali_idx],  label=y[vali_idx])\n",
        "        pred = bst.predict(dvali)\n",
        "\n",
        "        r2_cv.append( r2_score(y[vali_idx], pred) )\n",
        "    return np.mean(r2_cv)\n",
        "\n",
        "params = {\n",
        "    'eta': [0.075, 0.1, 0.2, 0.5, 1 ],\n",
        "    'max_depth': [1,2,3,5,10]\n",
        "}\n",
        "\n",
        "plt.figure(figsize=(10,5))\n",
        "for depth in params['max_depth']:\n",
        "    r2_cv =  []\n",
        "    for e in params['eta']:\n",
        "        param = {'max_depth': depth, 'eta': e}\n",
        "        r2 = validacaoCruzadaXgb(X, y, param, 100)\n",
        "        r2_cv.append(r2)\n",
        "    plt.plot(params['eta'],  r2_cv, \"*-\", label=depth)\n",
        "plt.legend()\n",
        "#plt.xscale('log')\n",
        "plt.grid()\n",
        "plt.show()"
      ]
    },
    {
      "cell_type": "markdown",
      "metadata": {
        "id": "4nOT7-0gy6im"
      },
      "source": [
        "c) Faça o mesmo para o SVM para regressão. No scikit-learn, a classe que implementa o regressor é a SVR. Mas agora, gere dois gráficos:\n",
        "\n",
        "1) com uma curva para cada tipo de kernel e no eixo X coloque o valor de 'epsilon'. Lembrando que o epsilon define a largura das margens para a regressão.\n",
        "\n",
        "2) escolha no item 1, para cada kernel, qual o melhor valor de 'epsilon'. Agora, gere um gráfico onde cada linha representa um kernel, o eixo X diferentes valores de 'C' e o eixo y o $r^2$. \n",
        "\n",
        "Escolha uma faixa de valores que indique qual o melhor desempenho do modelo e ajuste os eixos de modo a facilitar a visualização."
      ]
    },
    {
      "cell_type": "code",
      "execution_count": null,
      "metadata": {
        "colab": {
          "base_uri": "https://localhost:8080/",
          "height": 525
        },
        "outputId": "d56dea71-7742-4642-dd3e-117a506c8245",
        "id": "tkMtwNyLgzOT"
      },
      "outputs": [
        {
          "output_type": "stream",
          "name": "stdout",
          "text": [
            "Executing kernel: linear\n",
            "linear 1\n",
            "linear 10\n",
            "linear 100\n",
            "Executing kernel: poly\n",
            "poly 1\n",
            "poly 10\n",
            "poly 100\n",
            "Executing kernel: rbf\n",
            "rbf 1\n",
            "rbf 10\n",
            "rbf 100\n"
          ]
        },
        {
          "output_type": "display_data",
          "data": {
            "text/plain": [
              "<Figure size 720x360 with 1 Axes>"
            ],
            "image/png": "[encoded data removed]"
          },
          "metadata": {
            "needs_background": "light"
          }
        }
      ],
      "source": [
        "# Curvas - Kernel, values = {‘linear’, ‘poly’, ‘rbf’, ‘sigmoid’, ‘precomputed’}\n",
        "# Eixo x - Epsilon, default = 0.1\n",
        "# Eixo y - R²\n",
        "\n",
        "from sklearn.svm import SVR\n",
        "\n",
        "e = 0.0005 # epsilon\n",
        "params = {\n",
        "    'C': [1,10,100],\n",
        "    'kernel': ['linear', 'poly', 'rbf']\n",
        "}\n",
        "\n",
        "X_train, X_vali, y_train, y_vali = train_test_split(X,y, test_size=0.20, random_state=0)\n",
        "\n",
        "plt.figure(figsize=(10,5))\n",
        "for k in params['kernel']:\n",
        "    print(f\"Executing kernel: {k}\")\n",
        "    r2_cv =  list()\n",
        "    for c in params['C']:\n",
        "        print(k,c)\n",
        "        clf = SVR(kernel=k, epsilon=e, C=c)\n",
        "        clf.fit(X_train, y_train)\n",
        "        pred = clf.predict(X_vali)\n",
        "        r2=r2_score(y_vali, pred)\n",
        "        r2_cv.append(r2)\n",
        "    plt.plot(params['C'],  r2_cv, \"*-\", label=k)\n",
        "plt.legend()\n",
        "plt.xscale('log')\n",
        "plt.grid()\n",
        "plt.show()"
      ]
    },
    {
      "cell_type": "code",
      "execution_count": null,
      "metadata": {
        "id": "FQ9qjNiiy7sZ",
        "colab": {
          "base_uri": "https://localhost:8080/",
          "height": 525
        },
        "outputId": "a8c834c9-c65c-411c-9b3a-1ca518760349"
      },
      "outputs": [
        {
          "output_type": "stream",
          "name": "stdout",
          "text": [
            "Executing kernel: linear\n",
            "linear 1\n",
            "linear 10\n",
            "linear 100\n",
            "Executing kernel: poly\n",
            "poly 1\n",
            "poly 10\n",
            "poly 100\n",
            "Executing kernel: rbf\n",
            "rbf 1\n",
            "rbf 10\n",
            "rbf 100\n"
          ]
        },
        {
          "output_type": "display_data",
          "data": {
            "text/plain": [
              "<Figure size 720x360 with 1 Axes>"
            ],
            "image/png": "[encoded data removed]"
          },
          "metadata": {
            "needs_background": "light"
          }
        }
      ],
      "source": [
        "# Curvas - Kernel, values = {‘linear’, ‘poly’, ‘rbf’, ‘sigmoid’, ‘precomputed’}\n",
        "# Eixo x - Epsilon, default = 0.1\n",
        "# Eixo y - R²\n",
        "\n",
        "from sklearn.svm import SVR\n",
        "\n",
        "e = 0.001 # epsilon\n",
        "params = {\n",
        "    'C': [1,10,100],\n",
        "    'kernel': ['linear', 'poly', 'rbf']\n",
        "}\n",
        "\n",
        "X_train, X_vali, y_train, y_vali = train_test_split(X,y, test_size=0.20, random_state=0)\n",
        "\n",
        "plt.figure(figsize=(10,5))\n",
        "for k in params['kernel']:\n",
        "    print(f\"Executing kernel: {k}\")\n",
        "    r2_cv =  list()\n",
        "    for c in params['C']:\n",
        "        print(k,c)\n",
        "        clf = SVR(kernel=k, epsilon=e, C=c)\n",
        "        clf.fit(X_train, y_train)\n",
        "        pred = clf.predict(X_vali)\n",
        "        r2=r2_score(y_vali, pred)\n",
        "        r2_cv.append(r2)\n",
        "    plt.plot(params['C'],  r2_cv, \"*-\", label=k)\n",
        "plt.legend()\n",
        "plt.xscale('log')\n",
        "plt.grid()\n",
        "plt.show()"
      ]
    },
    {
      "cell_type": "markdown",
      "metadata": {
        "id": "WwxOMy_FutMz"
      },
      "source": [
        "d) Discuta os resultados obtidos. \n",
        "\n",
        "i) Para cada um dos modelos, quais parâmetros resultaram no melhor desempenho\n",
        "\n",
        "ii) para o SVR, qual parâmetro pareceu mais relevante, o epsilon ou 'C'?\n",
        "\n",
        "iii) Qual modelo você escolheria para o seus dados?"
      ]
    },
    {
      "cell_type": "markdown",
      "metadata": {
        "id": "28P3NLjSvDGq"
      },
      "source": [
        "***Discussão:***\n",
        "\n",
        "Para todos os kernels RBF e Poly, um epsilon=0.0005 funcionou melhor, enquanto para o linear o melhor foi para epsilon=0.001. O SVR demora um longo tempo para executar com epsilon pequenos, de modo que é difícil testar para muitos valores de epsilon. O epsilon, que mede a largura da banda para ajuste do SVR, se mostrou um parâmetro essencial para o modelo, pois com epsilons maiores os R^2 passam a ser negativos.\n",
        "\n",
        "Entre os kernels, o 'rbf' foi o que teve melhor desempenho e o valor do parâmetro de regularização C influenciou pouco nos resultados. Para o kernel 'poly' uma menor reagularização (valor maior de C) ajudou para o epsilon menor, mas piorou o resultado para o epsilon maior. Lembrando que um epsilon maior já resulta em uma maior regularização, pois as bandas são mais largas.\n",
        "\n",
        "Considerando os resultados obtidos, claramente a melhor opção é o RBF com epsilon 0.0005. Para o C, os valores testados não alteraram o resultado."
      ]
    },
    {
      "cell_type": "markdown",
      "metadata": {
        "id": "fk9QTy-dh_Lb"
      },
      "source": [
        "## Exercício 4: (2 pontos)\n",
        "\n",
        "Conhecimento de Domínio\n",
        "\n",
        "Você consultou uma especialista da área de computação e ela lhe explicou que o tempo de execução é proporcional a 3 fatores:\n",
        "- Tempo de execução das instruções: `instP/(clock*pipelines)`\n",
        "- Tempo para acesso à memória: `instM * latency` \n",
        "- Tempo para transferência de dados da memória: `transfM / band`\n",
        "\n",
        "Com base nesse conhecimento:\n",
        "\n",
        "a) Crie novas preditores compostos, dados por combinações entre os preditores já existentes (ex: `A*B`, `A/B`, `A/(B*C)`, etc.). \n",
        "\n",
        "Em seguida, tente fazer a predição usando a regressão linear, GAM e Random Forests usando os dados `dados1000.csv`. Mostre os $r^2$ obtidos com o uso de validação cruzada.\n",
        "\n"
      ]
    },
    {
      "cell_type": "code",
      "execution_count": null,
      "metadata": {
        "id": "kSQnWxZph9_Q",
        "outputId": "86e08ff9-9d5c-45b9-ba79-7d22e235b9c2"
      },
      "outputs": [
        {
          "name": "stdout",
          "output_type": "stream",
          "text": [
            "Resultados do modelo: LinearRegression()\n",
            "R² = 0.9635\n",
            "\n",
            "Resultados do modelo: LinearGAM(callbacks=['deviance', 'diffs'], fit_intercept=True, \n",
            "   max_iter=100, scale=None, terms='auto', tol=0.0001, verbose=False)\n",
            "R² = 0.9581\n",
            "\n",
            "Resultados do modelo: RandomForestRegressor(random_state=0)\n",
            "R² = 0.9406\n",
            "\n"
          ]
        }
      ],
      "source": [
        "df = pd.read_csv('dados1000.csv')\n",
        "y = df['y']\n",
        "df = df.drop(columns=['y'])\n",
        "\n",
        "df['executionTime'] = df['instP'] / ( df['clock'] * df['pipelines'] )\n",
        "df['memAccessTime'] = df['instM'] * df['latency']\n",
        "df['transferTime'] = df['transfM'] / df['band']\n",
        "\n",
        "#normalizando os dados\n",
        "X1 = StandardScaler().fit_transform(df)\n",
        "X = pd.DataFrame(X1, columns=df.columns)\n",
        "\n",
        "lr = LinearRegression()\n",
        "gam = LinearGAM()\n",
        "rf = RandomForestRegressor(random_state = 0)\n",
        "\n",
        "for model in [lr, gam, rf]:\n",
        "    print(f'Resultados do modelo: {model.__str__()}')\n",
        "    print('R² = %.4f\\n'%(validacaoCruzada(model, X, y)))"
      ]
    },
    {
      "cell_type": "markdown",
      "metadata": {
        "id": "eWwci_glzguV"
      },
      "source": [
        "b) Por que houve uma melhora tão grande nos classificadores lineares comparado com o caso dos dados originais (exercícios 2 e 3)?\n",
        "\n",
        "Discuta também qual o papel do conhecimento de domínio ao aplicar algoritmos de aprendizado de máquina."
      ]
    },
    {
      "cell_type": "markdown",
      "metadata": {
        "id": "CoAfpSu_zkZ2"
      },
      "source": [
        "***Discussão:***"
      ]
    },
    {
      "cell_type": "markdown",
      "metadata": {
        "id": "_R47LgiHzLSu"
      },
      "source": [
        "Resultados dos classificadores lineares nos exercícios anteriores:\n",
        "\n",
        "| Modelo | dados1000.csv | dados1000.csv com novas features |\n",
        "| --- | --- | --- |\n",
        "| LinearRegression() | 0.3056 | 0.9635 |\n",
        "| LinearGAM() | 0.4496 | 0.9581 |\n",
        "| RandomForestRegressor() | 0.7800 | 0.9406 |"
      ]
    },
    {
      "cell_type": "markdown",
      "metadata": {
        "id": "YfE_4gEszLSu"
      },
      "source": [
        "As variáveis do banco de dados contém informações importantes sobre a arquitetura de um computador. Entretanto, não havia uma relação de linearidade entre essas variáveis e as respostas. Agora, com as novas variáveis adicionadas, os algoritmos lineares conseguem estabeler essa relação e por isso houve essa melhora nos resultados.\n",
        "\n",
        "Ter conhecimento do problema a ser resolvido é importante, pois pode ajudar na escolha do algoritmo de aprendizado de máquina adequado. Além disso, dependendo da situação, pode até ser possível ajustar os dados para que modelos simples, como regressão linear, obtenham bons resultados."
      ]
    }
  ],
  "metadata": {
    "colab": {
      "name": "Atividade_6e7_GAMs_Florestas_SVMs_-_Gabarito.ipynb",
      "provenance": []
    },
    "kernelspec": {
      "display_name": "Python 3",
      "language": "python",
      "name": "python3"
    },
    "language_info": {
      "codemirror_mode": {
        "name": "ipython",
        "version": 3
      },
      "file_extension": ".py",
      "mimetype": "text/x-python",
      "name": "python",
      "nbconvert_exporter": "python",
      "pygments_lexer": "ipython3",
      "version": "3.8.10"
    }
  },
  "nbformat": 4,
  "nbformat_minor": 0
}