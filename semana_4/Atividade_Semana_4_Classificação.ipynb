{
  "nbformat": 4,
  "nbformat_minor": 0,
  "metadata": {
    "colab": {
      "name": "Atividade Semana 4 - Classificação",
      "provenance": []
    },
    "kernelspec": {
      "name": "python3",
      "display_name": "Python 3"
    },
    "language_info": {
      "name": "python"
    }
  },
  "cells": [
    {
      "cell_type": "markdown",
      "source": [
        "# **1. Parte teórica**"
      ],
      "metadata": {
        "id": "qk6y_bh_hio-"
      }
    },
    {
      "cell_type": "markdown",
      "source": [
        "### Exercício 1.1 [1 ponto]\n",
        "\n",
        "Para cada um dos exemplos abaixo, escolha qual seria o método (entre LDA, QDA, LR, kNN) mais adequado. ***Justifique sua escolha baseado nas características do método selecionado, como suposições sobre os preditores***.\n",
        "\n",
        "(a) Em uma disciplina, alunos podem ser aprovados (A) ou reprovados (B), e definição da aprovação na disciplina depende de uma *combinação linear* das notas em 2 atividades. \n",
        "\n",
        "Tanto para a classe A quanto R, a distribuição de notas dos alunos nas atividades seguiu uma distribuição normal, com uma mesma matriz de covariância, mas com valores médios de notas $\\mu_A$ e $\\mu_R$.\n"
      ],
      "metadata": {
        "id": "fn6sip62hsDj"
      }
    },
    {
      "cell_type": "markdown",
      "source": [
        "**Resposta:**"
      ],
      "metadata": {
        "id": "AlHUGECkkgKG"
      }
    },
    {
      "cell_type": "markdown",
      "source": [
        "\n",
        "(b) Em uma disciplina, alunos podem ser aprovados (A) ou reprovados (B), e definição da aprovação na disciplina depende de uma *combinação linear* das notas em 4 atividades. \n",
        "\n",
        "Nas atividades 1 e 2 os alunos tiveram notas que seguiram uma distribuição normal, com média $\\mu_1$ e $\\mu_2$ e desvio padrão $\\sigma_1$ e $\\sigma_2$.\n",
        "\n",
        "Nas atividades 3 e 4, os alunos tiveram notas distribuidas de modo uniforme entre $0$ e $10$. \n",
        "\n",
        "As matrizes de covariâncias nas notas para as classe A e B são claramente diferentes."
      ],
      "metadata": {
        "id": "iTf_3n1GkiaB"
      }
    },
    {
      "cell_type": "markdown",
      "source": [
        "**Resposta:**"
      ],
      "metadata": {
        "id": "x8Ki-w6xkkdl"
      }
    },
    {
      "cell_type": "markdown",
      "source": [
        "  \n",
        "(c) Em uma disciplina, alunos podem ser aprovados (A) ou reprovados (B), e definição da aprovação na disciplina depende de uma combinação ***não-linear*** complexa das notas em 3 atividades. Além disso, a distribuição das notas em cada atividade segue um tipo de distribuição diferente e não-Gaussiana. Finalmente, as matrizes de covariâncias nas notas para as classe A e B são claramente diferentes.\n"
      ],
      "metadata": {
        "id": "Xp0kb5tFkmHd"
      }
    },
    {
      "cell_type": "markdown",
      "source": [
        "**Resposta:**"
      ],
      "metadata": {
        "id": "ROeWDLqAknfB"
      }
    },
    {
      "cell_type": "markdown",
      "source": [
        "### Exercício 1.2 [3 pontos]\n",
        "\n",
        "Existem diversos tipos de métricas de desempenho e é essencial que possamos entender a diferença entre elas e suas relações. Explique, com suas palavras as seguintes métricas e sua importância:\n",
        "\n",
        "(a) Acurácia, Precisão, Cobertura, Sensitividade e Especificidade. [1 ponto]"
      ],
      "metadata": {
        "id": "L50HDpAgitLa"
      }
    },
    {
      "cell_type": "markdown",
      "source": [
        "**Resposta:**"
      ],
      "metadata": {
        "id": "lPEHf-NzkPpq"
      }
    },
    {
      "cell_type": "markdown",
      "source": [
        "(b) Cite 2 exemplos onde cada uma das medidas do item acima são úteis. [1 ponto]"
      ],
      "metadata": {
        "id": "3bMTFJX5kFc5"
      }
    },
    {
      "cell_type": "code",
      "source": [
        ""
      ],
      "metadata": {
        "id": "iK0LIvrjApaN"
      },
      "execution_count": null,
      "outputs": []
    },
    {
      "cell_type": "markdown",
      "source": [
        "**Resposta:**"
      ],
      "metadata": {
        "id": "ALQmHvxmkDEw"
      }
    },
    {
      "cell_type": "markdown",
      "source": [
        "(c) O que é a Matriz de Confusão? Cite 2 exemplos onde pode ser útil. [0.5 ponto]"
      ],
      "metadata": {
        "id": "sbalKfKlkHuu"
      }
    },
    {
      "cell_type": "markdown",
      "source": [
        "**Resposta:**"
      ],
      "metadata": {
        "id": "18NU7BTqkP8P"
      }
    },
    {
      "cell_type": "markdown",
      "source": [
        "\n",
        "(d) O que é a Curva ROC? E a métrica AUC? Cite dois exemplos onde a curva ROC e a métrica AUC podem ser úteis. [0.5 ponto]"
      ],
      "metadata": {
        "id": "5GO9kuQAkLpg"
      }
    },
    {
      "cell_type": "markdown",
      "source": [
        "**Resposta:**"
      ],
      "metadata": {
        "id": "-Fi65uUkkVg0"
      }
    },
    {
      "cell_type": "markdown",
      "source": [
        "# **2. Parte Prática**"
      ],
      "metadata": {
        "id": "r5njE3CJk9i3"
      }
    },
    {
      "cell_type": "markdown",
      "source": [
        "Para a Parte Prática desta atividade, utilizaremos o Dataset Breast cancer wisconsin (diagnostic) dataset, descrito neste [link](https://scikit-learn.org/stable/datasets/toy_dataset.html), e com exemplo de uso neste [link](https://scikit-learn.org/stable/modules/generated/sklearn.datasets.load_breast_cancer.html).\n"
      ],
      "metadata": {
        "id": "WLqU6qjQlIOD"
      }
    },
    {
      "cell_type": "markdown",
      "source": [
        "### Exercício 2.1 [2 pontos]:"
      ],
      "metadata": {
        "id": "yHqVzvNllMow"
      }
    },
    {
      "cell_type": "markdown",
      "source": [
        "Utilizando todos os preditores do dataset e todas as amostras lá disponíveis (sem separação em conjuntos de treinamento e teste):\n",
        "\n",
        "1. Faça a classificação com Regressão Logística (LR), o Linear Discriminant Analysis (LDA) e o Quadratic Discriminant Analysis (QDA). \n",
        "\n",
        "2. Apresente a matriz de confusão, a cobertura e a precisão para cada para cada classificador. \n",
        "\n",
        "3. Compare e discuta os resultados obtidos com os 3 classificadores."
      ],
      "metadata": {
        "id": "Kg96aZHFlena"
      }
    },
    {
      "cell_type": "code",
      "source": [
        "#Código aqui!"
      ],
      "metadata": {
        "id": "Br0_IOGzlh_i"
      },
      "execution_count": null,
      "outputs": []
    },
    {
      "cell_type": "markdown",
      "source": [
        "***Discussão:***"
      ],
      "metadata": {
        "id": "sMbv-mG7EAlF"
      }
    },
    {
      "cell_type": "markdown",
      "source": [
        "### Exercício 2.2 [2 pontos]:"
      ],
      "metadata": {
        "id": "SMJ0oOrtlmsm"
      }
    },
    {
      "cell_type": "markdown",
      "source": [
        "Usando o mesmo dataset, veremos agora como mudanças nos limiares de probabilidade causam mudanças nos classificadores.\n",
        "\n",
        "Mas desta vez, faça a separação dos dados em 2 conjuntos: treino (80%) e validação (20%). Não usaremos o conjunto de teste aqui."
      ],
      "metadata": {
        "id": "FaVmWnl7Dk1X"
      }
    },
    {
      "cell_type": "markdown",
      "source": [
        "(a) Treine 3 classificadores usando a Regressão Logistica, o LDA e o QDA. \n",
        "\n",
        "1. Gere a matriz de confusão, a cobertura e precisão para cada classificador, usando 3 limiares de probabilidade para o diagnóstico positivo (p>0.25, p>0.50 e p>0.75). Use os dados de ***validação*** para avaliar o desempenho dos modelos.\n",
        "\n",
        "\n",
        "\n",
        "2. Discuta os resultados, avaliando como as probabilidades mudaram as métricas medidas."
      ],
      "metadata": {
        "id": "cdQTHrG1lxSP"
      }
    },
    {
      "cell_type": "code",
      "source": [
        "#Código aqui!"
      ],
      "metadata": {
        "id": "TEknwI9Qmxx-"
      },
      "execution_count": null,
      "outputs": []
    },
    {
      "cell_type": "markdown",
      "source": [
        "**Discussão:**"
      ],
      "metadata": {
        "id": "lX6JMObim45T"
      }
    },
    {
      "cell_type": "markdown",
      "source": [
        "(b) Iremos agora avaliar as curvas ROC e a métrica AUC. \n",
        "\n",
        "1. Gere a curva ROC tanto para o conjunto de treino e de validação para cada um dos 3 modelos. \n",
        "\n",
        "2. Para cada uma das curvas geradas calcule a métrica AUC (Exemplo: https://scikit-learn.org/stable/modules/generated/sklearn.metrics.auc.html).\n",
        "\n",
        "3. Discuta os rsultados obtidos"
      ],
      "metadata": {
        "id": "5tagnQqcl857"
      }
    },
    {
      "cell_type": "code",
      "source": [
        "#Código aqui!"
      ],
      "metadata": {
        "id": "7jy_81D9myqq"
      },
      "execution_count": null,
      "outputs": []
    },
    {
      "cell_type": "markdown",
      "source": [
        "**Discussão:**"
      ],
      "metadata": {
        "id": "lrSCV4hKm9gl"
      }
    },
    {
      "cell_type": "markdown",
      "source": [
        "### Exercício 2.3 [2 pontos]"
      ],
      "metadata": {
        "id": "AMbR7QxCmM9D"
      }
    },
    {
      "cell_type": "markdown",
      "source": [
        "Faremos agora a simulação de um processo de escolha entre os modelos LDA, QDA, LR e kNN para o dataset, determinando qual o modelo mais adequado.\n",
        "\n",
        "Separe o conjunto de dados em treinamento (80%) e teste (20%). *O conjunto de teste, que equivale a pacientes nunca vistos durante o treinamento e escolha do modelo, será utilizado apenas no item (c)*. \n",
        "\n",
        "(a) Usando apenas os dados de treinamento, separe 75% dos dados como treino e 25% como validação. Em seguida treine cada um dos modelos (LDA, QDA, LR e kNN) e calcule as métricas accurácia e AUC. Note que é essencial que os dados usados em cada um dos modelos sejam os mesmos."
      ],
      "metadata": {
        "id": "9uoGwmUSmWMl"
      }
    },
    {
      "cell_type": "code",
      "source": [
        "#Código aqui!"
      ],
      "metadata": {
        "id": "WJcrSEOOmzmA"
      },
      "execution_count": null,
      "outputs": []
    },
    {
      "cell_type": "markdown",
      "source": [
        "(b) Execute o processo do item a) 10 vezes para cada métrica e modelo. Em seguida, gere 3 gráficos, um contendo os boxplots de cada modelo para a acurácia, outro para precisão e outro para cobertura. \n",
        "\n",
        "Não esqueça que para cada execução é preciso gerar novos conjuntos de treino e validação.\n",
        "\n",
        "A partir dos resultados obtidos, escolha um dos métodos como aquele que você utilizará para predições de pacientes nunca vistos. ***Discuta qual o motivo para a escolha daquele modelo em particular.***"
      ],
      "metadata": {
        "id": "iN7vZzHFmnCi"
      }
    },
    {
      "cell_type": "code",
      "source": [
        "#Código aqui!"
      ],
      "metadata": {
        "id": "lNSUgS4gm0ix"
      },
      "execution_count": null,
      "outputs": []
    },
    {
      "cell_type": "markdown",
      "source": [
        "***Discussão:***"
      ],
      "metadata": {
        "id": "4xWn9CVVJnH-"
      }
    },
    {
      "cell_type": "markdown",
      "source": [
        "(c) Agora simularemos o caso onde utilizaremos o modelo em pacientes nunca vistos durante o treinamento e escolha do modelo.\n",
        "\n",
        "1. Treine cada um dos modelos com todos os dados de treinamento. Em seguida, verifique qual acurácia, precisão e cobertura destes modelos nos dados de teste.\n",
        "\n",
        "2. Verifique se o modelo que você escolheu no item b) foi o que teve melhor desempenho no conjunto de testes. Discuta os resultados obtidos com a validação e com os dados de teste.\n"
      ],
      "metadata": {
        "id": "r9RFGi48mq2e"
      }
    },
    {
      "cell_type": "code",
      "source": [
        "#Código aqui!"
      ],
      "metadata": {
        "id": "KD1bKoKBm1Or"
      },
      "execution_count": null,
      "outputs": []
    },
    {
      "cell_type": "markdown",
      "source": [
        "***Discussão:***"
      ],
      "metadata": {
        "id": "b6kTb3UrLAD4"
      }
    }
  ]
}