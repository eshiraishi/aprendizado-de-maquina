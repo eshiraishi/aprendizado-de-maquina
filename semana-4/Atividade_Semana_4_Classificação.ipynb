{
  "cells": [
    {
      "cell_type": "markdown",
      "metadata": {
        "id": "qk6y_bh_hio-"
      },
      "source": [
        "# **1. Parte teórica**"
      ]
    },
    {
      "cell_type": "markdown",
      "metadata": {
        "id": "fn6sip62hsDj"
      },
      "source": [
        "### Exercício 1.1 [1 ponto]\n",
        "\n",
        "Para cada um dos exemplos abaixo, escolha qual seria o método (entre LDA, QDA, LR, kNN) mais adequado. ***Justifique sua escolha baseado nas características do método selecionado, como suposições sobre os preditores***.\n",
        "\n",
        "(a) Em uma disciplina, alunos podem ser aprovados (A) ou reprovados (B), e definição da aprovação na disciplina depende de uma *combinação linear* das notas em 2 atividades. \n",
        "\n",
        "Tanto para a classe A quanto R, a distribuição de notas dos alunos nas atividades seguiu uma distribuição normal, com uma mesma matriz de covariância, mas com valores médios de notas $\\mu_A$ e $\\mu_R$.\n"
      ]
    },
    {
      "cell_type": "markdown",
      "metadata": {
        "id": "AlHUGECkkgKG"
      },
      "source": [
        "**Resposta:** LDA, porque a combinação das variáveis é linear, a distribuição é normal e a matriz de covariância é a mesma para as duas classes, informações que são assumidas como verdadeiras nessa técnica, e como sabemos que essas características dos dados são verdadeiras, podemos assumir que o LDA terá um desempenho melhor nesse cenário que outras técnicas mais flexíveis."
      ]
    },
    {
      "cell_type": "markdown",
      "metadata": {
        "id": "iTf_3n1GkiaB"
      },
      "source": [
        "\n",
        "(b) Em uma disciplina, alunos podem ser aprovados (A) ou reprovados (B), e definição da aprovação na disciplina depende de uma *combinação linear* das notas em 4 atividades. \n",
        "\n",
        "Nas atividades 1 e 2 os alunos tiveram notas que seguiram uma distribuição normal, com média $\\mu_1$ e $\\mu_2$ e desvio padrão $\\sigma_1$ e $\\sigma_2$.\n",
        "\n",
        "Nas atividades 3 e 4, os alunos tiveram notas distribuidas de modo uniforme entre $0$ e $10$. \n",
        "\n",
        "As matrizes de covariâncias nas notas para as classe A e B são claramente diferentes."
      ]
    },
    {
      "cell_type": "markdown",
      "metadata": {
        "id": "x8Ki-w6xkkdl"
      },
      "source": [
        "**Resposta:** QDA, porque a combinação das variáveis é linear, as distribuições não são normais e as matrizes de covariância são diferentes. Dada essa complexidade adicional faz sentido usar uma técnica mais flexível como o QDA (que assume que as matrizes de covariância são diferentes), resultando em um melhor desempenho na predição das classes."
      ]
    },
    {
      "cell_type": "markdown",
      "metadata": {
        "id": "Xp0kb5tFkmHd"
      },
      "source": [
        "  \n",
        "(c) Em uma disciplina, alunos podem ser aprovados (A) ou reprovados (B), e definição da aprovação na disciplina depende de uma combinação ***não-linear*** complexa das notas em 3 atividades. Além disso, a distribuição das notas em cada atividade segue um tipo de distribuição diferente e não-Gaussiana. Finalmente, as matrizes de covariâncias nas notas para as classe A e B são claramente diferentes.\n"
      ]
    },
    {
      "cell_type": "markdown",
      "metadata": {
        "id": "ROeWDLqAknfB"
      },
      "source": [
        "**Resposta:** KNN, já que a relação dos dados é não linear e complexa, a forma das distribuições é desconhecida e a matriz de covariância não é igual. Sendo assim, um modelo muito flexível como o KNN pode identificar as relações complexas por não fazer assunções sobre as relações entre as variáveis e a resposta, resultando em um modelo mais ajustado que os demais."
      ]
    },
    {
      "cell_type": "markdown",
      "metadata": {
        "id": "L50HDpAgitLa"
      },
      "source": [
        "### Exercício 1.2 [3 pontos]\n",
        "\n",
        "Existem diversos tipos de métricas de desempenho e é essencial que possamos entender a diferença entre elas e suas relações. Explique, com suas palavras as seguintes métricas e sua importância:\n",
        "\n",
        "(a) Acurácia, Precisão, Cobertura, Sensitividade e Especificidade. [1 ponto]"
      ]
    },
    {
      "cell_type": "markdown",
      "metadata": {
        "id": "lPEHf-NzkPpq"
      },
      "source": [
        "**Resposta:**\n",
        "\n",
        "* **Acurácia**: É a porcentagem de acertos (verdadeiros positivos e verdadeiros negativos) entre todas as tentativas (todos os positivos e negativos). Maior acurácia significa um melhor desempenho geral no modelo, porém a acurácia não indica a taxa proporcional de erro em cenários específicos, como falsos positivos ou falsos negativos, que são informações críticas em certos cenários. Logo, não pode ser usada como a única métrica de avaliação de um modelo.\n",
        "$$\n",
        "\\text{Ac} = \\frac {VP + VN}{VP + VN + FP + FN}\n",
        "$$\n",
        "* **Precisão**: É a porcentagem de verdadeiros positivos entre os positivos (verdadeiros e falsos). A precisão aumenta quando o limiar é mais alto e maior precisão indica mais verdadeiros positivos. Esse comportamento pode ser desejado em certas situações mas não em todas e é necessário avaliar qual tipo de erro é mais impactante no cenário.\n",
        "$$\n",
        "\\text{Pr} = \\frac {VP}{VP + FP}\n",
        "$$\n",
        "* **Cobertura ou sensitividade**: É a porcentagem de verdadeiros positivos entre as predições corretas (verdadeiros positivos e negativos). A cobertura costuma aumentar quando o limiar é mais baixo e maior cobertura indica menos falsos negativos. Esse comportamento pode ser desejado em certas situações mas não em todas e é necessário avaliar qual tipo de erro é mais impactante no cenário.\n",
        "$$\n",
        "\\text{Cb} = \\frac {VP}{VP + FN}\n",
        "$$\n",
        "\n",
        "* **Especificidade**: É a porcentagem de verdadeiros negativos entre todos os negativos (verdadeiros negativos e os falsos positivos). Maior especificidade indica um maior número de falsos postivos.\n",
        "$$\n",
        "\\text{Es} = \\frac {VN}{VN + FP}\n",
        "$$"
      ]
    },
    {
      "cell_type": "markdown",
      "metadata": {
        "id": "3bMTFJX5kFc5"
      },
      "source": [
        "(b) Cite 2 exemplos onde cada uma das medidas do item acima são úteis. [1 ponto]"
      ]
    },
    {
      "cell_type": "markdown",
      "metadata": {
        "id": "ALQmHvxmkDEw"
      },
      "source": [
        "**Resposta:**\n",
        "\n",
        "* **Acurácia**:\n",
        "    * Veículos autônomos possuem sistemas que classificam a presença de pessoas na câmera frontal (em frente ao carro). Nesse contexto falsos positivos e negativos possuem alto custo associado (ambos podem causar acidentes de trânsito e com pedestres). Sendo assim, é importante obter alta acurácia em todas as situações.\n",
        "    * Modelos que indicam o aumento do valor de ações no mercado de futuros possuem alto custo atrelado a falsos positivos e negativos (falsos negativos são investimentos potenciais perdidos e falsos positivos podem ser muito custosos). Sendo assim, é importante obter alta acurácia em todas as situações.\n",
        "* **Precisão**:\n",
        "    * No contexto de um modelo de reconhecimento facial em câmeras, falsos positivos (reconhecer um rosto quando não há um na imagem) são mais custosos que falsos negativos (não identificar um rosto quando há um imagem).\n",
        "    * Classificadores de spam precisam obter poucos falsos positivos por serem mais inconvenientes que falsos negativos (remover spam da caixa de entrada é menos intrusivo que procurar por e-mails importantes no spam / lixeira).\n",
        "* **Cobertura**:\n",
        "    * Modelos que predizem se uma transação bancária é uma fraude, um falso negativo (marcar que uma transação fraudulenta não é fraudulenta) é muito mais custoso que um falso positivo (marcar que uma transação não fraudulenta é fraudulenta).\n",
        "    * Um filtro de conteúdo impróprio em redes sociais precisa minimizar falsos negativos, já que permitir que o conteúdo impróprio seja visto livremente é mais grave que restaurar uma publicação normal após análise (falso positivo).\n",
        "* **Especificidade**:\n",
        "    * No caso de sistemas que reconhecem muitas classes (por exemplo, reconhecimento de objetos em sensores de carros dirigidos automaticamente) pode ser mais importante maximizar a separação entre as classes que otimizar várias classes individualmente. Nesses casos garantir uma alta taxa de verdadeiros negativos entre as classes pode indicar um modelo mais ajustado.\n",
        "    * No caso de modelos de diagnóstico de doenças é importante obter um modelo que indica que os pacientes que testam negativo realmente não estão doentes (maximizar os verdadeiros negativos)."
      ]
    },
    {
      "cell_type": "markdown",
      "metadata": {
        "id": "sbalKfKlkHuu"
      },
      "source": [
        "(c) O que é a Matriz de Confusão? Cite 2 exemplos onde pode ser útil. [0.5 ponto]"
      ]
    },
    {
      "cell_type": "markdown",
      "metadata": {
        "id": "18NU7BTqkP8P"
      },
      "source": [
        "**Resposta:** Para um modelo que classifica n classes, a matriz de confusão desse modelo possui linhas representando os valores reais e colunas representando as predições e cada elemento possui o número de vezes que um dado pertencia a uma classe, mas foi predito pertencendo a outra (respectivos à linha e coluna). Sendo assim, além de conseguir obter outras métricas como precisão, cobertura e acurácia é possível analisar a confusão no modelo em relação a classes específicas, o que pode trazer ideias para ajustar o modelo."
      ]
    },
    {
      "cell_type": "markdown",
      "metadata": {
        "id": "5GO9kuQAkLpg"
      },
      "source": [
        "\n",
        "(d) O que é a Curva ROC? E a métrica AUC? Cite dois exemplos onde a curva ROC e a métrica AUC podem ser úteis. [0.5 ponto]"
      ]
    },
    {
      "cell_type": "markdown",
      "metadata": {
        "id": "-Fi65uUkkVg0"
      },
      "source": [
        "**Resposta:** A Curva ROC descreve a relação entre a taxa de verdadeiros positivos e falsos positivos. Para um modelo, cada ponto na curva representa um limiar escolhido. A área abaixo da curva (AUC) define o desempenho do modelo. Idealmente a curva ocupa todo o quadrante e a área é igual a 1. Como a curva ROC não depende do limiar escolhido para medir o desempenho, pode ser usada para comparar modelos com limiares diferentes.\n",
        "\n",
        "A curva ROC pode ser usada para delimitar casos onde o equilíbrio entre falsos positivos e negativos é importante, ou seja, praticamente todos os modelos. Podemos citar por exemplo reconhecimento de propensão à uma doença a partir do genoma de um indivíduo ou reconhecimento de palavras chave em um áudio (como usado em assistentes virtuais)."
      ]
    },
    {
      "cell_type": "markdown",
      "metadata": {
        "id": "r5njE3CJk9i3"
      },
      "source": [
        "# **2. Parte Prática**"
      ]
    },
    {
      "cell_type": "markdown",
      "metadata": {
        "id": "WLqU6qjQlIOD"
      },
      "source": [
        "Para a Parte Prática desta atividade, utilizaremos o Dataset Breast cancer wisconsin (diagnostic) dataset, descrito neste [link](https://scikit-learn.org/stable/datasets/toy_dataset.html), e com exemplo de uso neste [link](https://scikit-learn.org/stable/modules/generated/sklearn.datasets.load_breast_cancer.html).\n"
      ]
    },
    {
      "cell_type": "markdown",
      "metadata": {
        "id": "yHqVzvNllMow"
      },
      "source": [
        "### Exercício 2.1 [2 pontos]:"
      ]
    },
    {
      "cell_type": "markdown",
      "metadata": {
        "id": "Kg96aZHFlena"
      },
      "source": [
        "Utilizando todos os preditores do dataset e todas as amostras lá disponíveis (sem separação em conjuntos de treinamento e teste):\n",
        "\n",
        "1. Faça a classificação com Regressão Logística (LR), o Linear Discriminant Analysis (LDA) e o Quadratic Discriminant Analysis (QDA). \n",
        "\n",
        "2. Apresente a matriz de confusão, a cobertura e a precisão para cada para cada classificador. \n",
        "\n",
        "3. Compare e discuta os resultados obtidos com os 3 classificadores."
      ]
    },
    {
      "cell_type": "code",
      "execution_count": 7,
      "metadata": {
        "id": "Br0_IOGzlh_i"
      },
      "outputs": [],
      "source": [
        "from sklearn.datasets import load_breast_cancer\n",
        "\n",
        "from sklearn.linear_model import LogisticRegression\n",
        "from sklearn.discriminant_analysis import LinearDiscriminantAnalysis, QuadraticDiscriminantAnalysis\n",
        "from sklearn.neighbors import KNeighborsClassifier\n",
        "\n",
        "from sklearn.model_selection import train_test_split\n",
        "\n",
        "from sklearn.metrics import accuracy_score, precision_score, recall_score, confusion_matrix, roc_curve, roc_auc_score\n",
        "\n",
        "import matplotlib.pyplot as plt\n",
        "%matplotlib inline"
      ]
    },
    {
      "cell_type": "code",
      "execution_count": 2,
      "metadata": {},
      "outputs": [],
      "source": [
        "X, y = load_breast_cancer(as_frame=True, return_X_y=True)"
      ]
    },
    {
      "cell_type": "markdown",
      "metadata": {},
      "source": [
        "#### Regressão Logística"
      ]
    },
    {
      "cell_type": "code",
      "execution_count": 3,
      "metadata": {},
      "outputs": [
        {
          "name": "stdout",
          "output_type": "stream",
          "text": [
            "Precisão: 97.48%\n",
            "Cobertura: 95.87%\n",
            "[[197  15]\n",
            " [  9 348]]\n"
          ]
        }
      ],
      "source": [
        "lr = LogisticRegression(solver='newton-cg')\n",
        "lr.fit(X, y)\n",
        "\n",
        "y_pred_lr = lr.predict(X)\n",
        "\n",
        "precision_lr = precision_score(y_pred_lr, y)\n",
        "print(f'Precisão: {precision_lr:.2%}')\n",
        "\n",
        "recall_lr = recall_score(y_pred_lr, y)\n",
        "print(f'Cobertura: {recall_lr:.2%}')\n",
        "\n",
        "print(confusion_matrix(y, y_pred_lr))"
      ]
    },
    {
      "cell_type": "markdown",
      "metadata": {},
      "source": [
        "#### LDA"
      ]
    },
    {
      "cell_type": "code",
      "execution_count": 4,
      "metadata": {},
      "outputs": [
        {
          "name": "stdout",
          "output_type": "stream",
          "text": [
            "Precisão: 99.44%\n",
            "Cobertura: 95.17%\n",
            "[[194  18]\n",
            " [  2 355]]\n"
          ]
        }
      ],
      "source": [
        "lda = LinearDiscriminantAnalysis()\n",
        "lda.fit(X, y)\n",
        "\n",
        "y_pred_lda = lda.predict(X)\n",
        "\n",
        "precision_lda = precision_score(y_pred_lda, y)\n",
        "print(f'Precisão: {precision_lda:.2%}')\n",
        "\n",
        "recall_lda = recall_score(y_pred_lda, y)\n",
        "print(f'Cobertura: {recall_lda:.2%}')\n",
        "\n",
        "print(confusion_matrix(y, y_pred_lda))"
      ]
    },
    {
      "cell_type": "markdown",
      "metadata": {},
      "source": [
        "#### QDA"
      ]
    },
    {
      "cell_type": "code",
      "execution_count": 5,
      "metadata": {},
      "outputs": [
        {
          "name": "stdout",
          "output_type": "stream",
          "text": [
            "Precisão: 98.60%\n",
            "Cobertura: 97.24%\n",
            "[[202  10]\n",
            " [  5 352]]\n"
          ]
        }
      ],
      "source": [
        "qda = QuadraticDiscriminantAnalysis()\n",
        "qda.fit(X, y)\n",
        "\n",
        "y_pred_qda = qda.predict(X)\n",
        "\n",
        "precision_qda = precision_score(y_pred_qda, y)\n",
        "print(f'Precisão: {precision_qda:.2%}')\n",
        "\n",
        "recall_qda = recall_score(y_pred_qda, y)\n",
        "print(f'Cobertura: {recall_qda:.2%}')\n",
        "\n",
        "print(confusion_matrix(y, y_pred_qda))"
      ]
    },
    {
      "cell_type": "markdown",
      "metadata": {
        "id": "sMbv-mG7EAlF"
      },
      "source": [
        "***Discussão:***\n",
        "\n",
        "|Métrica  |LR      |LDA   |QDA    |\n",
        "|---------|--------|------|-------|\n",
        "|Precisão | 97.48% |99.44%| 98.60%|\n",
        "|Cobertura| 95.87% |95.17%| 97.24%|\n",
        "\n",
        "Todos os resultados são satisfatórios observando as métricas do conjunto de teste, porém LDA obteve a melhor precisão e QDA obteve a melhor cobertura.\n",
        "\n",
        "De uma forma geral, o QDA parece ser o modelo com o melhor desempenho entre os três (assumindo que não há prioridade entre precisão e cobertura).\n",
        "\n",
        "Há alguma variação nessa regra possivelmente causada pela baixa quantidade de dados, porém é notável que as duas métricas aumentam conforme a flexibilidade dos modelos aumenta, o que é um comportamento esperado analisando as métricas de teste usando os conjuntos de treino, já que todos esses dados foram usados para ajustar o modelo, o que causa um viés no resultado das métricas."
      ]
    },
    {
      "cell_type": "markdown",
      "metadata": {
        "id": "SMJ0oOrtlmsm"
      },
      "source": [
        "### Exercício 2.2 [2 pontos]:"
      ]
    },
    {
      "cell_type": "markdown",
      "metadata": {
        "id": "FaVmWnl7Dk1X"
      },
      "source": [
        "Usando o mesmo dataset, veremos agora como mudanças nos limiares de probabilidade causam mudanças nos classificadores.\n",
        "\n",
        "Mas desta vez, faça a separação dos dados em 2 conjuntos: treino (80%) e validação (20%). Não usaremos o conjunto de teste aqui."
      ]
    },
    {
      "cell_type": "markdown",
      "metadata": {
        "id": "cdQTHrG1lxSP"
      },
      "source": [
        "(a) Treine 3 classificadores usando a Regressão Logistica, o LDA e o QDA. \n",
        "\n",
        "1. Gere a matriz de confusão, a cobertura e precisão para cada classificador, usando 3 limiares de probabilidade para o diagnóstico positivo (p>0.25, p>0.50 e p>0.75). Use os dados de ***validação*** para avaliar o desempenho dos modelos.\n",
        "\n",
        "\n",
        "\n",
        "2. Discuta os resultados, avaliando como as probabilidades mudaram as métricas medidas."
      ]
    },
    {
      "cell_type": "code",
      "execution_count": 6,
      "metadata": {},
      "outputs": [],
      "source": [
        "X_train, X_vali, y_train, y_vali = train_test_split(X, y, test_size=0.2, random_state=40)"
      ]
    },
    {
      "cell_type": "markdown",
      "metadata": {},
      "source": [
        "#### LR"
      ]
    },
    {
      "cell_type": "code",
      "execution_count": 7,
      "metadata": {},
      "outputs": [
        {
          "name": "stdout",
          "output_type": "stream",
          "text": [
            "Limiar: 0.25\n",
            "Precisão: 97.33%\n",
            "Cobertura: 98.65%\n",
            "\n",
            "[[38  2]\n",
            " [ 1 73]]\n",
            "\n",
            "Limiar: 0.5\n",
            "Precisão: 97.33%\n",
            "Cobertura: 98.65%\n",
            "\n",
            "[[38  2]\n",
            " [ 1 73]]\n",
            "\n",
            "Limiar: 0.75\n",
            "Precisão: 90.67%\n",
            "Cobertura: 98.55%\n",
            "\n",
            "[[38  7]\n",
            " [ 1 68]]\n",
            "\n"
          ]
        }
      ],
      "source": [
        "lr = LogisticRegression(solver='newton-cg')\n",
        "lr.fit(X_train, y_train)\n",
        "y_pred_lr = {}\n",
        "for i in [0.25, 0.5, 0.75]:\n",
        "    y_pred_lr[i] = (lr.predict_proba(X_vali)[:, 1] > i) * 1\n",
        "\n",
        "    print(f\"Limiar: {i}\")\n",
        "\n",
        "    precision = precision_score(y_pred_lr[i], y_vali)\n",
        "    print(f'Precisão: {precision:.2%}')\n",
        "\n",
        "    recall = recall_score(y_pred_lr[i], y_vali)\n",
        "    print(f'Cobertura: {recall:.2%}\\n')\n",
        "\n",
        "    cm = confusion_matrix(y_pred_lr[i], y_vali)\n",
        "    print(cm)\n",
        "    print()"
      ]
    },
    {
      "cell_type": "markdown",
      "metadata": {},
      "source": [
        "#### LDA"
      ]
    },
    {
      "cell_type": "code",
      "execution_count": 8,
      "metadata": {},
      "outputs": [
        {
          "name": "stdout",
          "output_type": "stream",
          "text": [
            "Limiar: 0.25\n",
            "Precisão: 100.00%\n",
            "Cobertura: 93.75%\n",
            "\n",
            "[[34  0]\n",
            " [ 5 75]]\n",
            "\n",
            "Limiar: 0.5\n",
            "Precisão: 100.00%\n",
            "Cobertura: 94.94%\n",
            "\n",
            "[[35  0]\n",
            " [ 4 75]]\n",
            "\n",
            "Limiar: 0.75\n",
            "Precisão: 100.00%\n",
            "Cobertura: 94.94%\n",
            "\n",
            "[[35  0]\n",
            " [ 4 75]]\n",
            "\n"
          ]
        }
      ],
      "source": [
        "lda = LinearDiscriminantAnalysis()\n",
        "lda.fit(X_train, y_train)\n",
        "y_pred_lda = {}\n",
        "for i in [0.25, 0.5, 0.75]:\n",
        "    y_pred_lda[i] = (lda.predict_proba(X_vali)[:, 1] > i) * 1\n",
        "\n",
        "    print(f\"Limiar: {i}\")\n",
        "\n",
        "    precision = precision_score(y_pred_lda[i], y_vali)\n",
        "    print(f'Precisão: {precision:.2%}')\n",
        "\n",
        "    recall = recall_score(y_pred_lda[i], y_vali)\n",
        "    print(f'Cobertura: {recall:.2%}\\n')\n",
        "\n",
        "    cm = confusion_matrix(y_pred_lda[i], y_vali)\n",
        "    print(cm)\n",
        "    print()"
      ]
    },
    {
      "cell_type": "markdown",
      "metadata": {},
      "source": [
        "#### QDA"
      ]
    },
    {
      "cell_type": "code",
      "execution_count": 9,
      "metadata": {},
      "outputs": [
        {
          "name": "stdout",
          "output_type": "stream",
          "text": [
            "Limiar: 0.25\n",
            "Precisão: 97.33%\n",
            "Cobertura: 97.33%\n",
            "\n",
            "[[37  2]\n",
            " [ 2 73]]\n",
            "\n",
            "Limiar: 0.5\n",
            "Precisão: 94.67%\n",
            "Cobertura: 97.26%\n",
            "\n",
            "[[37  4]\n",
            " [ 2 71]]\n",
            "\n",
            "Limiar: 0.75\n",
            "Precisão: 94.67%\n",
            "Cobertura: 97.26%\n",
            "\n",
            "[[37  4]\n",
            " [ 2 71]]\n",
            "\n"
          ]
        }
      ],
      "source": [
        "qda = QuadraticDiscriminantAnalysis()\n",
        "qda.fit(X_train, y_train)\n",
        "y_pred_qda = {}\n",
        "for i in [0.25, 0.5, 0.75]:\n",
        "    y_pred_qda[i] = (qda.predict_proba(X_vali)[:, 1] > i) * 1\n",
        "\n",
        "    print(f\"Limiar: {i}\")\n",
        "\n",
        "    precision = precision_score(y_pred_qda[i], y_vali)\n",
        "    print(f'Precisão: {precision:.2%}')\n",
        "\n",
        "    recall = recall_score(y_pred_qda[i], y_vali)\n",
        "    print(f'Cobertura: {recall:.2%}\\n')\n",
        "\n",
        "    cm = confusion_matrix(y_pred_qda[i], y_vali)\n",
        "    print(cm)\n",
        "    print()"
      ]
    },
    {
      "cell_type": "markdown",
      "metadata": {
        "id": "lX6JMObim45T"
      },
      "source": [
        "**Discussão:**\n",
        "\n",
        "**Usando o conjunto de treino:**\n",
        "\n",
        "|Métrica  |LR      |LDA   |QDA    |\n",
        "|---------|--------|------|-------|\n",
        "|Precisão | 97.48% |99.44%| 98.60%|\n",
        "|Cobertura| 95.87% |95.17%| 97.24%|\n",
        "\n",
        "**Usando o conjunto de validação:**\n",
        "\n",
        "**Limiar: 0.25**\n",
        "\n",
        "|Métrica  |LR    |LDA    |QDA   |\n",
        "|---------|------|-------|------|\n",
        "|Precisão |97.33%|100.00%|97.33%|\n",
        "|Cobertura|98.65%|93.75% |97.33%|\n",
        "\n",
        "**Limiar: 0.5**\n",
        "\n",
        "|Métrica  |LR    |LDA    |QDA   |\n",
        "|---------|------|-------|------|\n",
        "|Precisão |97.33%|100.00%|94.67%|\n",
        "|Cobertura|98.65%|94.94% |97.26%|\n",
        "\n",
        "**Limiar: 0.75**\n",
        "\n",
        "|Métrica  |LR    |LDA    |QDA   |\n",
        "|---------|------|-------|------|\n",
        "|Precisão |90.67%|100.00%|94.67%|\n",
        "|Cobertura|98.55%|94.94% |97.26%|\n",
        "\n",
        "Usando o conjunto de avaliação LDA era o modelo com melhor precisão, QDA o modelo com melhor cobertura e de forma geral, o QDA parecia ser a técnica mais adequada para a situação. Porém, podemos observar que usando o conjunto de validação, o LDA obtém a melhor precisão entre todos os modelos e em todos os limiares e a LR obtém a melhor cobertura entre todos os modelos e em todos os limiares, contradizendo os resultados anteriores.\n",
        "\n",
        "Isso contradiz a ideia de que o QDA é o modelo mais adequado no geral, talvez pelo conjunto de dados não ser complexo o bastante para ser descrito corretamente por essa técnica e os altos usando os dados de treino fossem resultantes de uma alta variância no QDA."
      ]
    },
    {
      "cell_type": "markdown",
      "metadata": {
        "id": "5tagnQqcl857"
      },
      "source": [
        "(b) Iremos agora avaliar as curvas ROC e a métrica AUC. \n",
        "\n",
        "1. Gere a curva ROC tanto para o conjunto de treino e de validação para cada um dos 3 modelos. \n",
        "\n",
        "2. Para cada uma das curvas geradas calcule a métrica AUC (Exemplo: https://scikit-learn.org/stable/modules/generated/sklearn.metrics.auc.html).\n",
        "\n",
        "3. Discuta os rsultados obtidos"
      ]
    },
    {
      "cell_type": "markdown",
      "metadata": {},
      "source": [
        "#### LR"
      ]
    },
    {
      "cell_type": "code",
      "execution_count": 24,
      "metadata": {},
      "outputs": [
        {
          "data": {
            "image/png": "[encoded data removed]",
            "text/plain": [
              "<Figure size 432x288 with 1 Axes>"
            ]
          },
          "metadata": {
            "needs_background": "light"
          },
          "output_type": "display_data"
        },
        {
          "name": "stdout",
          "output_type": "stream",
          "text": [
            "ROC AUC (treino): 99.39%\n"
          ]
        }
      ],
      "source": [
        "tpr_list = [] \n",
        "fpr_list = [] \n",
        "\n",
        "X_train, X_vali, y_train, y_vali = train_test_split(X, y, test_size=0.20, random_state=40)\n",
        "\n",
        "lr  = LogisticRegression(solver='newton-cg').fit(X_train, y_train)\n",
        "pred_proba = lr.predict_proba(X_train)\n",
        "\n",
        "for i in range(0,101):\n",
        "    threshold = i / 100    \n",
        "    pred = (pred_proba[:,1]>threshold)*1\n",
        "    cm = confusion_matrix(y_train, pred)\n",
        "    tpr_list.append(cm[1][1] / (cm[1][0] + cm[1][1]))\n",
        "    fpr_list.append(cm[0][1] / (cm[0][0] + cm[0][1]))\n",
        "\n",
        "plt.plot(fpr_list, tpr_list,\".-\")\n",
        "plt.show()\n",
        "\n",
        "fpr, tpr, thresholds = roc_curve(y_train, pred_proba[:,1])\n",
        "print(f'ROC AUC (treino): {roc_auc_score(y_train, pred_proba[:,1]):.2%}')"
      ]
    },
    {
      "cell_type": "code",
      "execution_count": 25,
      "metadata": {},
      "outputs": [
        {
          "data": {
            "image/png": "[encoded data removed]",
            "text/plain": [
              "<Figure size 432x288 with 1 Axes>"
            ]
          },
          "metadata": {
            "needs_background": "light"
          },
          "output_type": "display_data"
        },
        {
          "name": "stdout",
          "output_type": "stream",
          "text": [
            "ROC AUC (validação): 99.56%\n"
          ]
        }
      ],
      "source": [
        "tpr_list = [] \n",
        "fpr_list = [] \n",
        "\n",
        "X_train, X_vali, y_train, y_vali = train_test_split(X, y, test_size=0.20, random_state=40)\n",
        "\n",
        "lr  = LogisticRegression(solver='newton-cg').fit(X_train, y_train)\n",
        "pred_proba = lr.predict_proba(X_vali)\n",
        "\n",
        "for i in range(0,101):\n",
        "    threshold = i / 100    \n",
        "    pred = (pred_proba[:,1]>threshold)*1\n",
        "    cm = confusion_matrix(y_vali, pred)\n",
        "    tpr_list.append(cm[1][1] / (cm[1][0] + cm[1][1]))\n",
        "    fpr_list.append(cm[0][1] / (cm[0][0] + cm[0][1]))\n",
        "\n",
        "plt.plot(fpr_list, tpr_list,\".-\")\n",
        "plt.show()\n",
        "\n",
        "fpr, tpr, thresholds = roc_curve(y_vali, pred_proba[:,1])\n",
        "print(f'ROC AUC (validação): {roc_auc_score(y_vali, pred_proba[:,1]):.2%}')"
      ]
    },
    {
      "cell_type": "markdown",
      "metadata": {},
      "source": [
        "#### LDA"
      ]
    },
    {
      "cell_type": "code",
      "execution_count": 27,
      "metadata": {},
      "outputs": [
        {
          "data": {
            "image/png": "[encoded data removed]",
            "text/plain": [
              "<Figure size 432x288 with 1 Axes>"
            ]
          },
          "metadata": {
            "needs_background": "light"
          },
          "output_type": "display_data"
        },
        {
          "name": "stdout",
          "output_type": "stream",
          "text": [
            "ROC AUC (treino): 99.69%\n"
          ]
        }
      ],
      "source": [
        "tpr_list = [] \n",
        "fpr_list = [] \n",
        "\n",
        "X_train, X_vali, y_train, y_vali = train_test_split(X, y, test_size=0.20, random_state=40)\n",
        "\n",
        "lda  = LinearDiscriminantAnalysis().fit(X_train, y_train)\n",
        "pred_proba = lda.predict_proba(X_train)\n",
        "\n",
        "for i in range(0,101):\n",
        "    threshold = i / 100    \n",
        "    pred = (pred_proba[:,1]>threshold)*1\n",
        "    cm = confusion_matrix(y_train, pred)\n",
        "    tpr_list.append(cm[1][1] / (cm[1][0] + cm[1][1]))\n",
        "    fpr_list.append(cm[0][1] / (cm[0][0] + cm[0][1]))\n",
        "\n",
        "plt.plot(fpr_list, tpr_list,\".-\")\n",
        "plt.show()\n",
        "\n",
        "_ = roc_curve(y_train, pred_proba[:,1])\n",
        "print(f'ROC AUC (treino): {roc_auc_score(y_train, pred_proba[:,1]):.2%}')"
      ]
    },
    {
      "cell_type": "code",
      "execution_count": 28,
      "metadata": {},
      "outputs": [
        {
          "data": {
            "image/png": "[encoded data removed]",
            "text/plain": [
              "<Figure size 432x288 with 1 Axes>"
            ]
          },
          "metadata": {
            "needs_background": "light"
          },
          "output_type": "display_data"
        },
        {
          "name": "stdout",
          "output_type": "stream",
          "text": [
            "ROC AUC (validação): 99.62%\n"
          ]
        }
      ],
      "source": [
        "tpr_list = [] \n",
        "fpr_list = [] \n",
        "\n",
        "X_train, X_vali, y_train, y_vali = train_test_split(X, y, test_size=0.20, random_state=40)\n",
        "\n",
        "lda  = LinearDiscriminantAnalysis().fit(X_train, y_train)\n",
        "pred_proba = lda.predict_proba(X_vali)\n",
        "\n",
        "for i in range(0,101):\n",
        "    threshold = i / 100    \n",
        "    pred = (pred_proba[:,1]>threshold)*1\n",
        "    cm = confusion_matrix(y_vali, pred)\n",
        "    tpr_list.append(cm[1][1] / (cm[1][0] + cm[1][1]))\n",
        "    fpr_list.append(cm[0][1] / (cm[0][0] + cm[0][1]))\n",
        "\n",
        "plt.plot(fpr_list, tpr_list,\".-\")\n",
        "plt.show()\n",
        "\n",
        "_ = roc_curve(y_vali, pred_proba[:,1])\n",
        "print(f'ROC AUC (validação): {roc_auc_score(y_vali, pred_proba[:,1]):.2%}')"
      ]
    },
    {
      "cell_type": "markdown",
      "metadata": {},
      "source": [
        "#### QDA"
      ]
    },
    {
      "cell_type": "code",
      "execution_count": 29,
      "metadata": {},
      "outputs": [
        {
          "data": {
            "image/png": "[encoded data removed]",
            "text/plain": [
              "<Figure size 432x288 with 1 Axes>"
            ]
          },
          "metadata": {
            "needs_background": "light"
          },
          "output_type": "display_data"
        },
        {
          "name": "stdout",
          "output_type": "stream",
          "text": [
            "ROC AUC (treino): 99.66%\n"
          ]
        }
      ],
      "source": [
        "tpr_list = [] \n",
        "fpr_list = [] \n",
        "\n",
        "X_train, X_vali, y_train, y_vali = train_test_split(X, y, test_size=0.20, random_state=40)\n",
        "\n",
        "qda  = QuadraticDiscriminantAnalysis().fit(X_train, y_train)\n",
        "pred_proba = qda.predict_proba(X_train)\n",
        "\n",
        "for i in range(0,101):\n",
        "    threshold = i / 100    \n",
        "    pred = (pred_proba[:,1]>threshold)*1\n",
        "    cm = confusion_matrix(y_train, pred)\n",
        "    tpr_list.append(cm[1][1] / (cm[1][0] + cm[1][1]))\n",
        "    fpr_list.append(cm[0][1] / (cm[0][0] + cm[0][1]))\n",
        "\n",
        "plt.plot(fpr_list, tpr_list,\".-\")\n",
        "plt.show()\n",
        "\n",
        "_ = roc_curve(y_train, pred_proba[:,1])\n",
        "print(f'ROC AUC (treino): {roc_auc_score(y_train, pred_proba[:,1]):.2%}')"
      ]
    },
    {
      "cell_type": "code",
      "execution_count": 30,
      "metadata": {},
      "outputs": [
        {
          "data": {
            "image/png": "[encoded data removed]",
            "text/plain": [
              "<Figure size 432x288 with 1 Axes>"
            ]
          },
          "metadata": {
            "needs_background": "light"
          },
          "output_type": "display_data"
        },
        {
          "name": "stdout",
          "output_type": "stream",
          "text": [
            "ROC AUC (treino): 99.28%\n"
          ]
        }
      ],
      "source": [
        "tpr_list = [] \n",
        "fpr_list = [] \n",
        "\n",
        "X_train, X_vali, y_train, y_vali = train_test_split(X, y, test_size=0.20, random_state=40)\n",
        "\n",
        "qda  = QuadraticDiscriminantAnalysis().fit(X_train, y_train)\n",
        "pred_proba = qda.predict_proba(X_vali)\n",
        "\n",
        "for i in range(0,101):\n",
        "    threshold = i / 100    \n",
        "    pred = (pred_proba[:,1]>threshold)*1\n",
        "    cm = confusion_matrix(y_vali, pred)\n",
        "    tpr_list.append(cm[1][1] / (cm[1][0] + cm[1][1]))\n",
        "    fpr_list.append(cm[0][1] / (cm[0][0] + cm[0][1]))\n",
        "\n",
        "plt.plot(fpr_list, tpr_list,\".-\")\n",
        "plt.show()\n",
        "\n",
        "_ = roc_curve(y_vali, pred_proba[:,1])\n",
        "print(f'ROC AUC (treino): {roc_auc_score(y_vali, pred_proba[:,1]):.2%}')"
      ]
    },
    {
      "cell_type": "markdown",
      "metadata": {},
      "source": [
        "#### Discussão:\n",
        "\n",
        "|Modelo|ROC AUC (treino)|ROC AUC (teste)|\n",
        "|------|----------------|---------------|\n",
        "|LR    |99.39%          |99.56%         |\n",
        "|LDA   |99.69%          |99.62%         |\n",
        "|QDA   |99.66%          |99.28%         |\n",
        "\n",
        "Todos os modelos obtiveram ótimos resultados nas métricas de treino e validação, porém os valores são menores no conjunto de validação em todos os casos com a exceção da regressão logística. Em especial, a maior queda relativa foi no QDA. A redução no ROC AUC conforme a flexibilidade do modelo aumenta pode ser evidência de que os dados não são complexos o suficiente para precisarem de mais flexibilidade, o que faz com que os modelos mais complexos sofram de maior variância."
      ]
    },
    {
      "cell_type": "markdown",
      "metadata": {
        "id": "AMbR7QxCmM9D"
      },
      "source": [
        "### Exercício 2.3 [2 pontos]"
      ]
    },
    {
      "cell_type": "markdown",
      "metadata": {
        "id": "9uoGwmUSmWMl"
      },
      "source": [
        "Faremos agora a simulação de um processo de escolha entre os modelos LDA, QDA, LR e kNN para o dataset, determinando qual o modelo mais adequado.\n",
        "\n",
        "Separe o conjunto de dados em treinamento (80%) e teste (20%). *O conjunto de teste, que equivale a pacientes nunca vistos durante o treinamento e escolha do modelo, será utilizado apenas no item (c)*. \n",
        "\n",
        "(a) Usando apenas os dados de treinamento, separe 75% dos dados como treino e 25% como validação. Em seguida treine cada um dos modelos (LDA, QDA, LR e kNN) e calcule as métricas accurácia e AUC. Note que é essencial que os dados usados em cada um dos modelos sejam os mesmos."
      ]
    },
    {
      "cell_type": "code",
      "execution_count": 11,
      "metadata": {},
      "outputs": [],
      "source": [
        "X_train, X_test, y_train, y_test = train_test_split(X, y, test_size=0.2, random_state=40)\n",
        "X_train, X_vali, y_train, y_vali = train_test_split(X, y, test_size=0.25, random_state=40)"
      ]
    },
    {
      "cell_type": "markdown",
      "metadata": {},
      "source": [
        "#### LDA"
      ]
    },
    {
      "cell_type": "code",
      "execution_count": 12,
      "metadata": {},
      "outputs": [
        {
          "name": "stdout",
          "output_type": "stream",
          "text": [
            "Precisão: 100.00%\n",
            "Cobertura: 96.08%\n",
            "ROC AUC : 95.56%\n",
            "[[41  0]\n",
            " [ 4 98]]\n"
          ]
        }
      ],
      "source": [
        "lda = LinearDiscriminantAnalysis()\n",
        "lda.fit(X_train, y_train)\n",
        "y_pred_lda = lda.predict(X_vali)\n",
        "\n",
        "precision = precision_score(y_pred_lda, y_vali)\n",
        "print(f'Precisão: {precision:.2%}')\n",
        "\n",
        "recall = recall_score(y_pred_lda, y_vali)\n",
        "print(f'Cobertura: {recall:.2%}')\n",
        "\n",
        "roc_auc = roc_auc_score(y_vali, y_pred_lda)\n",
        "print(f'ROC AUC : {roc_auc:.2%}')\n",
        "\n",
        "cm = confusion_matrix(y_pred_lda, y_vali)\n",
        "print(cm)\n"
      ]
    },
    {
      "cell_type": "markdown",
      "metadata": {},
      "source": [
        "#### QDA"
      ]
    },
    {
      "cell_type": "code",
      "execution_count": 13,
      "metadata": {},
      "outputs": [
        {
          "name": "stdout",
          "output_type": "stream",
          "text": [
            "Precisão: 96.94%\n",
            "Cobertura: 97.94%\n",
            "ROC AUC : 96.25%\n",
            "[[43  3]\n",
            " [ 2 95]]\n"
          ]
        }
      ],
      "source": [
        "qda = QuadraticDiscriminantAnalysis()\n",
        "qda.fit(X_train, y_train)\n",
        "y_pred_qda = qda.predict(X_vali)\n",
        "\n",
        "precision = precision_score(y_pred_qda, y_vali)\n",
        "print(f'Precisão: {precision:.2%}')\n",
        "\n",
        "recall = recall_score(y_pred_qda, y_vali)\n",
        "print(f'Cobertura: {recall:.2%}')\n",
        "\n",
        "roc_auc = roc_auc_score(y_vali, y_pred_qda)\n",
        "print(f'ROC AUC : {roc_auc:.2%}')\n",
        "\n",
        "cm = confusion_matrix(y_pred_qda, y_vali)\n",
        "print(cm)\n"
      ]
    },
    {
      "cell_type": "markdown",
      "metadata": {},
      "source": [
        "#### LR"
      ]
    },
    {
      "cell_type": "code",
      "execution_count": 14,
      "metadata": {},
      "outputs": [
        {
          "name": "stdout",
          "output_type": "stream",
          "text": [
            "Precisão: 96.94%\n",
            "Cobertura: 98.96%\n",
            "ROC AUC : 97.36%\n",
            "[[44  3]\n",
            " [ 1 95]]\n"
          ]
        }
      ],
      "source": [
        "lr = LogisticRegression(solver='newton-cg')\n",
        "lr.fit(X_train, y_train)\n",
        "y_pred_lr = lr.predict(X_vali)\n",
        "\n",
        "precision = precision_score(y_pred_lr, y_vali)\n",
        "print(f'Precisão: {precision:.2%}')\n",
        "\n",
        "recall = recall_score(y_pred_lr, y_vali)\n",
        "print(f'Cobertura: {recall:.2%}')\n",
        "\n",
        "roc_auc = roc_auc_score(y_vali, y_pred_lr)\n",
        "print(f'ROC AUC : {roc_auc:.2%}')\n",
        "\n",
        "cm = confusion_matrix(y_pred_lr, y_vali)\n",
        "print(cm)"
      ]
    },
    {
      "cell_type": "markdown",
      "metadata": {},
      "source": [
        "#### KNN"
      ]
    },
    {
      "cell_type": "code",
      "execution_count": 15,
      "metadata": {},
      "outputs": [
        {
          "name": "stdout",
          "output_type": "stream",
          "text": [
            "Precisão: 96.94%\n",
            "Cobertura: 95.00%\n",
            "ROC AUC : 92.91%\n",
            "[[40  3]\n",
            " [ 5 95]]\n"
          ]
        }
      ],
      "source": [
        "knn = KNeighborsClassifier()\n",
        "knn.fit(X_train, y_train)\n",
        "\n",
        "y_pred_knn = knn.predict(X_vali)\n",
        "\n",
        "precision = precision_score(y_pred_knn, y_vali)\n",
        "print(f'Precisão: {precision:.2%}')\n",
        "\n",
        "recall = recall_score(y_pred_knn, y_vali)\n",
        "print(f'Cobertura: {recall:.2%}')\n",
        "\n",
        "roc_auc = roc_auc_score(y_vali, y_pred_knn)\n",
        "print(f'ROC AUC : {roc_auc:.2%}')\n",
        "\n",
        "cm = confusion_matrix(y_pred_knn, y_vali)\n",
        "print(cm)"
      ]
    },
    {
      "cell_type": "markdown",
      "metadata": {
        "id": "iN7vZzHFmnCi"
      },
      "source": [
        "(b) Execute o processo do item a) 10 vezes para cada métrica e modelo. Em seguida, gere 3 gráficos, um contendo os boxplots de cada modelo para a acurácia, outro para precisão e outro para cobertura. \n",
        "\n",
        "Não esqueça que para cada execução é preciso gerar novos conjuntos de treino e validação.\n",
        "\n",
        "A partir dos resultados obtidos, escolha um dos métodos como aquele que você utilizará para predições de pacientes nunca vistos. ***Discuta qual o motivo para a escolha daquele modelo em particular.***"
      ]
    },
    {
      "cell_type": "code",
      "execution_count": 32,
      "metadata": {
        "id": "lNSUgS4gm0ix"
      },
      "outputs": [
        {
          "data": {
            "image/png": "[encoded data removed]",
            "text/plain": [
              "<Figure size 1080x360 with 3 Axes>"
            ]
          },
          "metadata": {
            "needs_background": "light"
          },
          "output_type": "display_data"
        }
      ],
      "source": [
        "def models_dict():\n",
        "    return {\n",
        "        'lda': [],\n",
        "        'qda': [],\n",
        "        'lr': [],\n",
        "        'knn': []\n",
        "    }\n",
        "\n",
        "metrics = {\n",
        "    'accuracy': models_dict(),\n",
        "    'precision': models_dict(),\n",
        "    'recall': models_dict()\n",
        "}\n",
        "\n",
        "for i in range(10):\n",
        "    X_train, X_test, y_train, y_test = train_test_split(X, y, test_size=0.2)\n",
        "    X_train, X_vali, y_train, y_vali = train_test_split(X, y, test_size=0.25)\n",
        "\n",
        "    for model_type in ['lda', 'qda', 'lr', 'knn']:\n",
        "        if model_type == 'lda':\n",
        "            model = LinearDiscriminantAnalysis()\n",
        "        elif model_type == 'qda':\n",
        "            model = QuadraticDiscriminantAnalysis()\n",
        "        elif model_type == 'lr':\n",
        "            model = LogisticRegression(solver='newton-cg')\n",
        "        elif model_type == 'knn':\n",
        "            model = KNeighborsClassifier()\n",
        "    \n",
        "        model.fit(X_train, y_train)\n",
        "\n",
        "        y_pred = model.predict(X_vali)\n",
        "\n",
        "        metrics['accuracy'][model_type].append(accuracy_score(y_vali, y_pred))\n",
        "        metrics['precision'][model_type].append(precision_score(y_vali, y_pred))\n",
        "        metrics['recall'][model_type].append(recall_score(y_vali, y_pred))\n",
        "\n",
        "figure = plt.figure(figsize=(15, 5), tight_layout=True)\n",
        "axs = figure.subplots(1, 3)\n",
        "for ax, title, metric in zip(axs, metrics.keys(), metrics.values()):\n",
        "    bp = ax.boxplot(\n",
        "        metric.values(),\n",
        "        patch_artist=True,\n",
        "        medianprops={\n",
        "            'color': 'black'\n",
        "        },\n",
        "    )\n",
        "    ax.set(\n",
        "        title=title.capitalize(),\n",
        "        xticklabels = [model.upper() for model in metric.keys()]\n",
        "    )\n",
        "\n",
        "    for spine in ax.spines.values():\n",
        "        spine.set_visible(False)\n",
        "    colors = ['#FF8080', '#BFFF80', '#80FFFF', '#BF80FF']\n",
        "    for patch, color in zip(bp['boxes'], colors):\n",
        "        patch.set(facecolor=color)"
      ]
    },
    {
      "cell_type": "markdown",
      "metadata": {},
      "source": [
        "***Discussão:*** Analisando os gráficos podemos ver que o QDA possui maiores medianas em acurácia e precisão, porém a alta variância dessas métricas sugere que o QDA está sofrendo de alta variância, o que reduz o ajuste do modelo aos dados. Em comparação, os valores da LR é similar ou melhor que os do QDA em todas as métricas e com a exceção da cobertura, a variância é significativamente melhor. Como esse modelo é menos flexível que o QDA e as métricas são satisfatórias, o modelo com maior potencial é o LR."
      ]
    },
    {
      "cell_type": "markdown",
      "metadata": {
        "id": "r9RFGi48mq2e"
      },
      "source": [
        "(c) Agora simularemos o caso onde utilizaremos o modelo em pacientes nunca vistos durante o treinamento e escolha do modelo.\n",
        "\n",
        "1. Treine cada um dos modelos com todos os dados de treinamento. Em seguida, verifique qual acurácia, precisão e cobertura destes modelos nos dados de teste.\n",
        "\n",
        "2. Verifique se o modelo que você escolheu no item b) foi o que teve melhor desempenho no conjunto de testes. Discuta os resultados obtidos com a validação e com os dados de teste.\n"
      ]
    },
    {
      "cell_type": "code",
      "execution_count": 17,
      "metadata": {
        "id": "KD1bKoKBm1Or"
      },
      "outputs": [
        {
          "name": "stdout",
          "output_type": "stream",
          "text": [
            "LDA\n",
            "Accuracy: 96.49%\n",
            "Precision: 94.94%\n",
            "Recall: 100.00%\n",
            "\n",
            "QDA\n",
            "Accuracy: 94.74%\n",
            "Precision: 97.26%\n",
            "Recall: 94.67%\n",
            "\n",
            "LR\n",
            "Accuracy: 97.37%\n",
            "Precision: 98.65%\n",
            "Recall: 97.33%\n",
            "\n",
            "KNN\n",
            "Accuracy: 93.86%\n",
            "Precision: 94.74%\n",
            "Recall: 96.00%\n",
            "\n"
          ]
        }
      ],
      "source": [
        "def metrics_dict():\n",
        "    return {\n",
        "        'accuracy': 0,\n",
        "        'precision': 0,\n",
        "        'recall': 0,\n",
        "    }\n",
        "\n",
        "models = {\n",
        "    'lda': metrics_dict(),\n",
        "    'qda': metrics_dict(),\n",
        "    'lr': metrics_dict(),\n",
        "    'knn': metrics_dict()\n",
        "}\n",
        "\n",
        "X_train, X_test, y_train, y_test = train_test_split(X, y, test_size=0.2, random_state=40)\n",
        "for model_type in ['lda', 'qda', 'lr', 'knn']:\n",
        "    if model_type == 'lda':\n",
        "        model = LinearDiscriminantAnalysis()\n",
        "    elif model_type == 'qda':\n",
        "        model = QuadraticDiscriminantAnalysis()\n",
        "    elif model_type == 'lr':\n",
        "        model = LogisticRegression(solver='newton-cg')\n",
        "    elif model_type == 'knn':\n",
        "        model = KNeighborsClassifier()\n",
        "\n",
        "    model.fit(X_train, y_train)\n",
        "\n",
        "    y_pred = model.predict(X_test)\n",
        "\n",
        "    models[model_type]['accuracy'] = accuracy_score(y_test, y_pred)\n",
        "    models[model_type]['precision'] = precision_score(y_test, y_pred)\n",
        "    models[model_type]['recall'] = recall_score(y_test, y_pred)\n",
        "\n",
        "for name, metrics in models.items():\n",
        "    print(f'{name.upper()}')\n",
        "    for metric_type, value in metrics.items():\n",
        "        print(f'{metric_type.capitalize()}: {value:.2%}')\n",
        "    print()"
      ]
    },
    {
      "cell_type": "markdown",
      "metadata": {
        "id": "b6kTb3UrLAD4"
      },
      "source": [
        "***Discussão:*** De forma geral a LR obteve o melhor desempenho entre os três modelos, e o QDA obteve desempenho relativamente inferior aos demais modelos em todas as áreas, o que reforça o argumento do exercício anterior."
      ]
    }
  ],
  "metadata": {
    "colab": {
      "name": "Atividade Semana 4 - Classificação",
      "provenance": []
    },
    "kernelspec": {
      "display_name": "Python 3",
      "name": "python3"
    },
    "language_info": {
      "codemirror_mode": {
        "name": "ipython",
        "version": 3
      },
      "file_extension": ".py",
      "mimetype": "text/x-python",
      "name": "python",
      "nbconvert_exporter": "python",
      "pygments_lexer": "ipython3",
      "version": "3.9.2"
    }
  },
  "nbformat": 4,
  "nbformat_minor": 0
}
