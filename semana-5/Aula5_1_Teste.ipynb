{
  "cells": [
    {
      "cell_type": "code",
      "execution_count": null,
      "metadata": {
        "id": "k2VRarjU6RZ9"
      },
      "outputs": [],
      "source": [
        "import numpy as np\n",
        "import matplotlib.pyplot as plt\n",
        "import pandas as pd\n",
        "from sklearn.datasets import load_diabetes\n",
        "\n",
        "from sklearn.linear_model import LinearRegression\n",
        "from sklearn.metrics import mean_squared_error, r2_score\n",
        "from sklearn.model_selection import train_test_split, KFold, LeaveOneOut, cross_validate"
      ]
    },
    {
      "cell_type": "code",
      "execution_count": null,
      "metadata": {
        "id": "CIw2G_jk6lHH",
        "colab": {
          "base_uri": "https://localhost:8080/"
        },
        "outputId": "1dde790c-2b84-4b49-89b9-7921d74f4aea"
      },
      "outputs": [
        {
          "output_type": "stream",
          "name": "stdout",
          "text": [
            "          age       sex       bmi        bp        s1        s2        s3  \\\n",
            "0    0.038076  0.050680  0.061696  0.021872 -0.044223 -0.034821 -0.043401   \n",
            "1   -0.001882 -0.044642 -0.051474 -0.026328 -0.008449 -0.019163  0.074412   \n",
            "2    0.085299  0.050680  0.044451 -0.005671 -0.045599 -0.034194 -0.032356   \n",
            "3   -0.089063 -0.044642 -0.011595 -0.036656  0.012191  0.024991 -0.036038   \n",
            "4    0.005383 -0.044642 -0.036385  0.021872  0.003935  0.015596  0.008142   \n",
            "..        ...       ...       ...       ...       ...       ...       ...   \n",
            "437  0.041708  0.050680  0.019662  0.059744 -0.005697 -0.002566 -0.028674   \n",
            "438 -0.005515  0.050680 -0.015906 -0.067642  0.049341  0.079165 -0.028674   \n",
            "439  0.041708  0.050680 -0.015906  0.017282 -0.037344 -0.013840 -0.024993   \n",
            "440 -0.045472 -0.044642  0.039062  0.001215  0.016318  0.015283 -0.028674   \n",
            "441 -0.045472 -0.044642 -0.073030 -0.081414  0.083740  0.027809  0.173816   \n",
            "\n",
            "           s4        s5        s6  \n",
            "0   -0.002592  0.019908 -0.017646  \n",
            "1   -0.039493 -0.068330 -0.092204  \n",
            "2   -0.002592  0.002864 -0.025930  \n",
            "3    0.034309  0.022692 -0.009362  \n",
            "4   -0.002592 -0.031991 -0.046641  \n",
            "..        ...       ...       ...  \n",
            "437 -0.002592  0.031193  0.007207  \n",
            "438  0.034309 -0.018118  0.044485  \n",
            "439 -0.011080 -0.046879  0.015491  \n",
            "440  0.026560  0.044528 -0.025930  \n",
            "441 -0.039493 -0.004220  0.003064  \n",
            "\n",
            "[442 rows x 10 columns]\n",
            "0      151.0\n",
            "1       75.0\n",
            "2      141.0\n",
            "3      206.0\n",
            "4      135.0\n",
            "       ...  \n",
            "437    178.0\n",
            "438    104.0\n",
            "439    132.0\n",
            "440    220.0\n",
            "441     57.0\n",
            "Name: target, Length: 442, dtype: float64\n"
          ]
        }
      ],
      "source": [
        "X,y = load_diabetes(as_frame=True, return_X_y=True)\n",
        "print(X)\n",
        "print(y)"
      ]
    },
    {
      "cell_type": "code",
      "source": [
        "def evaluateModel(model, X, y, printRes = True):\n",
        "  pred = model.predict(X)\n",
        "  mse = mean_squared_error(y, pred)\n",
        "  r2 = r2_score(y, pred)\n",
        "\n",
        "  if (printRes):\n",
        "    #print(\"Coefficients: \\n\", model.coef_)\n",
        "    print(\"Coefficients: %.2f\"%(np.sum(model.coef_)))\n",
        "    for i in model.coef_:\n",
        "      print(\"%8.2f \"%i, end='')\n",
        "    print(\"\\nMean squared error: %.2f\" % mse)\n",
        "    print(\"Coefficient of determination: %.2f\" % r2)\n",
        "\n",
        "  return mse, r2"
      ],
      "metadata": {
        "id": "ncQ4pG4MNfcV"
      },
      "execution_count": null,
      "outputs": []
    },
    {
      "cell_type": "code",
      "source": [
        "X_train, X_test, y_train, y_test = train_test_split(X,y, test_size=0.20)\n",
        "\n",
        "# Validação Simples \n",
        "X_train, X_vali, y_train, y_vali = train_test_split(X_train,y_train, test_size=0.25)\n",
        "\n",
        "lr = LinearRegression()\n",
        "lr.fit(X_train, y_train)\n",
        "evaluateModel(lr, X_vali, y_vali)\n",
        "evaluateModel(lr, X_test, y_test)\n"
      ],
      "metadata": {
        "colab": {
          "base_uri": "https://localhost:8080/"
        },
        "id": "yDTG4u1aeFTy",
        "outputId": "f6c9210d-6591-4eeb-f0f1-7d73644ab94f"
      },
      "execution_count": null,
      "outputs": [
        {
          "output_type": "stream",
          "name": "stdout",
          "text": [
            "Coefficients: 1154.39\n",
            "   -0.72  -276.07   525.13   398.89  -649.94   348.23    -0.74   153.83   678.04   -22.25 \n",
            "Mean squared error: 2126.89\n",
            "Coefficient of determination: 0.61\n",
            "Coefficients: 1154.39\n",
            "   -0.72  -276.07   525.13   398.89  -649.94   348.23    -0.74   153.83   678.04   -22.25 \n",
            "Mean squared error: 3361.09\n",
            "Coefficient of determination: 0.43\n"
          ]
        },
        {
          "output_type": "execute_result",
          "data": {
            "text/plain": [
              "(3361.086645229173, 0.4284741905250603)"
            ]
          },
          "metadata": {},
          "execution_count": 6
        }
      ]
    },
    {
      "cell_type": "code",
      "source": [
        "mse_train = []\n",
        "mse_vali  = []\n",
        "r2_train  = []\n",
        "r2_vali   = []\n",
        "\n",
        "\n",
        "for i in range(10):\n",
        "  X_train, X_vali, y_train, y_vali = train_test_split(X,y, test_size=0.20)\n",
        "\n",
        "  lr = LinearRegression()\n",
        "  lr.fit(X_train, y_train)\n",
        "\n",
        "  mse, r2 = evaluateModel(lr, X_train, y_train, printRes = False)\n",
        "  mse_train.append(mse)\n",
        "  r2_train.append(r2)\n",
        "\n",
        "  mse, r2 = evaluateModel(lr, X_vali, y_vali, printRes = False)\n",
        "  mse_vali.append(mse)\n",
        "  r2_vali.append(r2)\n",
        "\n",
        "  \n",
        "fig, axs = plt.subplots(1,2, figsize=(8, 3) )\n",
        "axs[0].plot(mse_train, mse_vali, \".\")\n",
        "axs[1].plot(r2_train, r2_vali, \".\")\n",
        "plt.show()\n",
        "\n",
        "fig, axs = plt.subplots(1,2, figsize=(8, 3) )\n",
        "axs[0].boxplot([mse_train, mse_vali], labels=['mse_train','mse_vali']);\n",
        "axs[1].boxplot([r2_train,  r2_vali],  labels=['r2_train', 'r2_vali' ]);\n",
        "plt.show()\n",
        "\n",
        "\n"
      ],
      "metadata": {
        "colab": {
          "base_uri": "https://localhost:8080/",
          "height": 406
        },
        "id": "0nyO--KVfpzD",
        "outputId": "3358b0bf-a6c9-4edb-fe7a-89b4196d4dc6"
      },
      "execution_count": null,
      "outputs": [
        {
          "output_type": "display_data",
          "data": {
            "image/png": "[encoded data removed]",
            "text/plain": [
              "<Figure size 576x216 with 2 Axes>"
            ]
          },
          "metadata": {
            "needs_background": "light"
          }
        },
        {
          "output_type": "display_data",
          "data": {
            "image/png": "[encoded data removed]",
            "text/plain": [
              "<Figure size 576x216 with 2 Axes>"
            ]
          },
          "metadata": {
            "needs_background": "light"
          }
        }
      ]
    },
    {
      "cell_type": "code",
      "source": [
        "#X_train, X_test, y_train, y_test = train_test_split(X,y, test_size=0.20)\n",
        "\n",
        "def validacaoCruzada(model, X, y):\n",
        "  kf = KFold(n_splits=10, shuffle=True)\n",
        "  mse_cv = []\n",
        "  r2_cv  = []\n",
        "\n",
        "  for train_idx, vali_idx in kf.split(X):    \n",
        "    model.fit(X.iloc[train_idx], y[train_idx])\n",
        "    mse, r2 = evaluateModel(model, X.iloc[vali_idx], y[vali_idx], printRes = False)\n",
        "    mse_cv.append(mse)\n",
        "    r2_cv.append(r2)\n",
        "  \n",
        "  return np.mean(mse_cv), np.mean(r2_cv)\n",
        "\n",
        "lr = LinearRegression()\n",
        "mse, r2 = validacaoCruzada(lr, X, y)\n",
        "print('MSE=%.2f'%mse)\n",
        "print('R2 =%.4f'%r2)"
      ],
      "metadata": {
        "colab": {
          "base_uri": "https://localhost:8080/"
        },
        "id": "L3-loW1RpTVQ",
        "outputId": "6694efda-efd4-49f9-e6f9-24acb3a1b867"
      },
      "execution_count": null,
      "outputs": [
        {
          "output_type": "stream",
          "name": "stdout",
          "text": [
            "MSE=3025.03\n",
            "R2 =0.4520\n"
          ]
        }
      ]
    },
    {
      "cell_type": "code",
      "source": [
        "mse_cv  = []\n",
        "r2_cv   = []\n",
        "for i in range(10):\n",
        "  mse, r2 = validacaoCruzada(lr, X, y)\n",
        "  mse_cv.append(mse)\n",
        "  r2_cv.append(r2)\n",
        "\n",
        "fig, axs = plt.subplots(1,2, figsize=(8, 3) )\n",
        "axs[0].boxplot([mse_vali, mse_cv], labels=['mse_vali', 'mse_cv']);\n",
        "axs[1].boxplot([r2_vali,  r2_cv],  labels=['r2_vali',  'r2_cv' ]);\n",
        "plt.show()\n"
      ],
      "metadata": {
        "colab": {
          "base_uri": "https://localhost:8080/",
          "height": 212
        },
        "id": "lzexx8Belra8",
        "outputId": "9830a70d-3380-49a3-d7de-a213d7401c24"
      },
      "execution_count": null,
      "outputs": [
        {
          "output_type": "display_data",
          "data": {
            "image/png": "[encoded data removed]",
            "text/plain": [
              "<Figure size 576x216 with 2 Axes>"
            ]
          },
          "metadata": {
            "needs_background": "light"
          }
        }
      ]
    },
    {
      "cell_type": "code",
      "source": [
        "#X_train, X_test, y_train, y_test = train_test_split(X,y, test_size=0.20)\n",
        "\n",
        "def evaluateMse(model, X, y, printRes = True):\n",
        "  pred = lr.predict(X)\n",
        "  mse = mean_squared_error(y, pred)\n",
        "  if (printRes):\n",
        "    print(\"Coefficients: \\n\", lr.coef_)\n",
        "    print(\"Coefficient of determination: %.2f\" % r2)\n",
        "  return mse\n",
        "\n",
        "def validacaoLOO(model, X, y):\n",
        "  loo = LeaveOneOut()\n",
        "  mse_cv = []\n",
        "\n",
        "  for train_idx, vali_idx in loo.split(X):    \n",
        "    model.fit(X.iloc[train_idx], y[train_idx])\n",
        "    mse = evaluateMse(model, X.iloc[vali_idx], y[vali_idx], printRes = False)\n",
        "    mse_cv.append(mse)\n",
        "  \n",
        "  return np.mean(mse_cv)\n",
        "\n",
        "\n",
        "mse = validacaoLOO(lr, X, y)\n",
        "print('MSE=%.2f'%mse)"
      ],
      "metadata": {
        "colab": {
          "base_uri": "https://localhost:8080/"
        },
        "id": "3zbsUOiSs25H",
        "outputId": "dbf4bd2e-585f-4e68-adff-f1c2c3ec3fc1"
      },
      "execution_count": null,
      "outputs": [
        {
          "output_type": "stream",
          "name": "stdout",
          "text": [
            "MSE=3001.75\n"
          ]
        }
      ]
    },
    {
      "cell_type": "code",
      "source": [
        "mse_loo = validacaoLOO(lr, X, y) \n",
        "\n",
        "fig, axs = plt.subplots(1,2, figsize=(8, 3) )\n",
        "axs[0].boxplot([mse_vali, mse_cv, mse_loo], labels=['mse_vali', 'mse_cv', 'mse_loo']);\n",
        "axs[1].boxplot([r2_vali,  r2_cv], labels=['r2_vali',  'r2_cv',]);\n",
        "plt.show()\n"
      ],
      "metadata": {
        "colab": {
          "base_uri": "https://localhost:8080/",
          "height": 267
        },
        "id": "kR8kz8u6uEQb",
        "outputId": "c00587e6-3cb8-4d00-b493-cfc8f9d92fed"
      },
      "execution_count": null,
      "outputs": [
        {
          "output_type": "stream",
          "name": "stderr",
          "text": [
            "/usr/local/lib/python3.7/dist-packages/matplotlib/cbook/__init__.py:1376: VisibleDeprecationWarning: Creating an ndarray from ragged nested sequences (which is a list-or-tuple of lists-or-tuples-or ndarrays with different lengths or shapes) is deprecated. If you meant to do this, you must specify 'dtype=object' when creating the ndarray.\n",
            "  X = np.atleast_1d(X.T if isinstance(X, np.ndarray) else np.asarray(X))\n"
          ]
        },
        {
          "output_type": "display_data",
          "data": {
            "image/png": "[encoded data removed]",
            "text/plain": [
              "<Figure size 576x216 with 2 Axes>"
            ]
          },
          "metadata": {
            "needs_background": "light"
          }
        }
      ]
    },
    {
      "cell_type": "code",
      "source": [
        "cv_results = cross_validate(lr, X, y, cv=10, scoring=('r2', 'neg_mean_squared_error'))\n",
        "print(np.mean(cv_results['test_r2']))\n",
        "print(np.mean(cv_results['test_neg_mean_squared_error']))"
      ],
      "metadata": {
        "colab": {
          "base_uri": "https://localhost:8080/"
        },
        "id": "UMJPdUs6xMh0",
        "outputId": "08f6dacc-6b44-4049-a23c-7fd848cdb87b"
      },
      "execution_count": null,
      "outputs": [
        {
          "output_type": "stream",
          "name": "stdout",
          "text": [
            "0.461962361958337\n",
            "-3000.3810328390514\n"
          ]
        }
      ]
    },
    {
      "cell_type": "code",
      "source": [
        "kf = KFold(n_splits=10, shuffle=True)\n",
        "cv_results = cross_validate(lr, X, y, cv=kf, scoring=('r2', 'neg_mean_squared_error'))\n",
        "print(np.mean(cv_results['test_r2']))\n",
        "print(np.mean(cv_results['test_neg_mean_squared_error']))"
      ],
      "metadata": {
        "colab": {
          "base_uri": "https://localhost:8080/"
        },
        "id": "c96LCfe40QuL",
        "outputId": "c35bdb47-bdcf-47dd-d1fc-ae2f58965582"
      },
      "execution_count": null,
      "outputs": [
        {
          "output_type": "stream",
          "name": "stdout",
          "text": [
            "0.4565707176862346\n",
            "-3041.1292253168676\n"
          ]
        }
      ]
    },
    {
      "cell_type": "code",
      "source": [
        "mse_sk  = []\n",
        "r2_sk   = []\n",
        "for i in range(10):\n",
        "  kf = KFold(n_splits=10, shuffle=True)\n",
        "  cv_results = cross_validate(lr, X, y, cv=kf, scoring=('r2', 'neg_mean_squared_error'))\n",
        "  mse, r2 = validacaoCruzada(lr, X, y)\n",
        "  mse_sk.append(-np.mean(cv_results['test_neg_mean_squared_error']))\n",
        "  r2_sk.append(np.mean(cv_results['test_r2']))\n",
        "\n",
        "\n",
        "fig, axs = plt.subplots(1,2, figsize=(8, 3) )\n",
        "axs[0].boxplot([mse_cv, mse_sk], labels=['mse_cv', 'mse_scikit']);\n",
        "axs[1].boxplot([r2_cv,  r2_sk], labels=['r2_cv', 'r2_scikit']);\n",
        "plt.show()"
      ],
      "metadata": {
        "colab": {
          "base_uri": "https://localhost:8080/",
          "height": 212
        },
        "id": "b6pD_0bxzDqX",
        "outputId": "13f41cca-46c4-46db-cd56-e508c2a2e947"
      },
      "execution_count": null,
      "outputs": [
        {
          "output_type": "display_data",
          "data": {
            "image/png": "[encoded data removed]",
            "text/plain": [
              "<Figure size 576x216 with 2 Axes>"
            ]
          },
          "metadata": {
            "needs_background": "light"
          }
        }
      ]
    },
    {
      "cell_type": "markdown",
      "source": [
        "# Bootstrap\n"
      ],
      "metadata": {
        "id": "blHdFhiwwuRc"
      }
    },
    {
      "cell_type": "code",
      "source": [
        "coefs = []\n",
        "\n",
        "for i in range(100):\n",
        "  \n",
        "  X_train, X_test, y_train, y_test = train_test_split(X,y, test_size=0.20)\n",
        "\n",
        "  lr = LinearRegression()\n",
        "  lr.fit(X_train, y_train)\n",
        "  coefs.append(lr.coef_)\n",
        "\n",
        "plt.boxplot(np.array(coefs), labels = X.columns);\n",
        "plt.grid()\n",
        "plt.show()"
      ],
      "metadata": {
        "colab": {
          "base_uri": "https://localhost:8080/",
          "height": 265
        },
        "id": "JqoFZGkvwtvg",
        "outputId": "b5581a59-6840-4745-95d5-3b6281ddccbf"
      },
      "execution_count": null,
      "outputs": [
        {
          "output_type": "display_data",
          "data": {
            "image/png": "[encoded data removed]",
            "text/plain": [
              "<Figure size 432x288 with 1 Axes>"
            ]
          },
          "metadata": {
            "needs_background": "light"
          }
        }
      ]
    },
    {
      "cell_type": "code",
      "source": [
        "import statsmodels.api as sm\n",
        "\n",
        "results = sm.OLS(y, sm.add_constant(X)).fit()\n",
        "print(results.summary())\n",
        "#print(results.rsquared)\n",
        "print(np.sqrt(results.mse_total))"
      ],
      "metadata": {
        "colab": {
          "base_uri": "https://localhost:8080/"
        },
        "id": "8PWLkDDSApmK",
        "outputId": "86e41824-715e-47b9-b439-c527038425de"
      },
      "execution_count": null,
      "outputs": [
        {
          "output_type": "stream",
          "name": "stderr",
          "text": [
            "/usr/local/lib/python3.7/dist-packages/statsmodels/tools/_testing.py:19: FutureWarning: pandas.util.testing is deprecated. Use the functions in the public API at pandas.testing instead.\n",
            "  import pandas.util.testing as tm\n"
          ]
        },
        {
          "output_type": "stream",
          "name": "stdout",
          "text": [
            "                            OLS Regression Results                            \n",
            "==============================================================================\n",
            "Dep. Variable:                 target   R-squared:                       0.518\n",
            "Model:                            OLS   Adj. R-squared:                  0.507\n",
            "Method:                 Least Squares   F-statistic:                     46.27\n",
            "Date:                Wed, 09 Mar 2022   Prob (F-statistic):           3.83e-62\n",
            "Time:                        20:43:04   Log-Likelihood:                -2386.0\n",
            "No. Observations:                 442   AIC:                             4794.\n",
            "Df Residuals:                     431   BIC:                             4839.\n",
            "Df Model:                          10                                         \n",
            "Covariance Type:            nonrobust                                         \n",
            "==============================================================================\n",
            "                 coef    std err          t      P>|t|      [0.025      0.975]\n",
            "------------------------------------------------------------------------------\n",
            "const        152.1335      2.576     59.061      0.000     147.071     157.196\n",
            "age          -10.0122     59.749     -0.168      0.867    -127.448     107.424\n",
            "sex         -239.8191     61.222     -3.917      0.000    -360.151    -119.488\n",
            "bmi          519.8398     66.534      7.813      0.000     389.069     650.610\n",
            "bp           324.3904     65.422      4.958      0.000     195.805     452.976\n",
            "s1          -792.1842    416.684     -1.901      0.058   -1611.169      26.801\n",
            "s2           476.7458    339.035      1.406      0.160    -189.621    1143.113\n",
            "s3           101.0446    212.533      0.475      0.635    -316.685     518.774\n",
            "s4           177.0642    161.476      1.097      0.273    -140.313     494.442\n",
            "s5           751.2793    171.902      4.370      0.000     413.409    1089.150\n",
            "s6            67.6254     65.984      1.025      0.306     -62.065     197.316\n",
            "==============================================================================\n",
            "Omnibus:                        1.506   Durbin-Watson:                   2.029\n",
            "Prob(Omnibus):                  0.471   Jarque-Bera (JB):                1.404\n",
            "Skew:                           0.017   Prob(JB):                        0.496\n",
            "Kurtosis:                       2.726   Cond. No.                         227.\n",
            "==============================================================================\n",
            "\n",
            "Warnings:\n",
            "[1] Standard Errors assume that the covariance matrix of the errors is correctly specified.\n",
            "77.09300453299109\n"
          ]
        },
        {
          "output_type": "stream",
          "name": "stderr",
          "text": [
            "/usr/local/lib/python3.7/dist-packages/statsmodels/tsa/tsatools.py:117: FutureWarning: In a future version of pandas all arguments of concat except for the argument 'objs' will be keyword-only\n",
            "  x = pd.concat(x[::order], 1)\n"
          ]
        }
      ]
    }
  ],
  "metadata": {
    "colab": {
      "name": "Aula5.1-Teste.ipynb",
      "provenance": []
    },
    "kernelspec": {
      "display_name": "Python 3",
      "name": "python3"
    },
    "language_info": {
      "name": "python"
    }
  },
  "nbformat": 4,
  "nbformat_minor": 0
}