{
  "cells": [
    {
      "cell_type": "code",
      "execution_count": null,
      "metadata": {
        "id": "k2VRarjU6RZ9"
      },
      "outputs": [],
      "source": [
        "import numpy as np\n",
        "import matplotlib.pyplot as plt\n",
        "import pandas as pd\n",
        "from sklearn.datasets import load_diabetes\n",
        "\n",
        "from sklearn.linear_model import LinearRegression\n",
        "from sklearn.metrics import mean_squared_error, r2_score\n",
        "from sklearn.model_selection import train_test_split, KFold, LeaveOneOut, cross_validate"
      ]
    },
    {
      "cell_type": "code",
      "execution_count": null,
      "metadata": {
        "id": "CIw2G_jk6lHH"
      },
      "outputs": [],
      "source": [
        "X,y = load_diabetes(as_frame=True, return_X_y=True)"
      ]
    },
    {
      "cell_type": "code",
      "source": [
        "def evaluateModel(model, X, y, printRes = True):\n",
        "  pred = model.predict(X)\n",
        "  mse = mean_squared_error(y, pred)\n",
        "  r2 = r2_score(y, pred)\n",
        "\n",
        "  if (printRes):\n",
        "    #print(\"Coefficients: \\n\", model.coef_)\n",
        "    print(\"Coefficients: %.2f\"%(np.sum(model.coef_)))\n",
        "    for i in model.coef_:\n",
        "      print(\"%8.2f \"%i, end='')\n",
        "    print(\"\\nMean squared error: %.2f\" % mse)\n",
        "    print(\"Coefficient of determination: %.2f\" % r2)\n",
        "\n",
        "  return mse, r2"
      ],
      "metadata": {
        "id": "ncQ4pG4MNfcV"
      },
      "execution_count": null,
      "outputs": []
    },
    {
      "cell_type": "code",
      "source": [
        "X_train, X_vali, y_train, y_vali = train_test_split(X,y, test_size=0.20)\n",
        "\n",
        "lr = LinearRegression()\n",
        "lr.fit(X_train, y_train)\n",
        "evaluateModel(lr, X_train, y_train)\n",
        "evaluateModel(lr, X_vali, y_vali)\n"
      ],
      "metadata": {
        "colab": {
          "base_uri": "https://localhost:8080/"
        },
        "id": "yDTG4u1aeFTy",
        "outputId": "7e0b6f16-89dd-42af-e494-8fdf64345c3c"
      },
      "execution_count": null,
      "outputs": [
        {
          "output_type": "stream",
          "name": "stdout",
          "text": [
            "Coefficients: 1318.94\n",
            "  -25.04  -312.01   498.46   332.52  -715.57   421.46    89.39    77.27   848.97   103.50 \n",
            "Mean squared error: 2767.35\n",
            "Coefficient of determination: 0.54\n",
            "Coefficients: 1318.94\n",
            "  -25.04  -312.01   498.46   332.52  -715.57   421.46    89.39    77.27   848.97   103.50 \n",
            "Mean squared error: 3452.43\n",
            "Coefficient of determination: 0.36\n"
          ]
        },
        {
          "output_type": "execute_result",
          "data": {
            "text/plain": [
              "(3452.430784115008, 0.36190081177923783)"
            ]
          },
          "metadata": {},
          "execution_count": 5
        }
      ]
    },
    {
      "cell_type": "code",
      "source": [
        "from itertools import combinations\n",
        "\n",
        "def selectFromAll(model, X,y):\n",
        "  best_r2   = []\n",
        "  best_pair  = []\n",
        "  for k in range(1, len(X.columns)+1):\n",
        "    # Gera todas as combinações\n",
        "    comb = combinations(X.columns, k) \n",
        "    r2_set  = []\n",
        "    pairs   = []\n",
        "    for i in list(comb):\n",
        "      model.fit(X[list(i)], y)       \n",
        "      mse, r2 = evaluateModel(model, X[list(i)], y, printRes = False)\n",
        "      pairs.append(list(i))\n",
        "      r2_set.append(r2)\n",
        "      \n",
        "    # Escolhe a melhor\n",
        "    best_pos = np.argmax(r2_set)\n",
        "    best_r2.append( r2_set[best_pos] )\n",
        "    best_pair.append( pairs[best_pos] )\n",
        "\n",
        "  return best_r2, best_pair\n",
        "\n",
        "lr = LinearRegression()\n",
        "best_r2, best_pair = selectFromAll(lr, X, y)\n",
        "plt.plot(np.arange(1,len(X.columns)+1), best_r2,\"r*-\", label='training')\n",
        "best_r2_cv = []\n",
        "for i in range(len(best_pair)):\n",
        "  cv_results = cross_validate(lr, X[best_pair[i]], y, cv=10, scoring=('r2'))\n",
        "  best_r2_cv.append( np.mean(cv_results['test_score']) )\n",
        "plt.plot(np.arange(1,len(X.columns)+1), best_r2_cv,\"b*-\", label='validation')\n",
        "plt.legend()\n",
        "plt.grid()\n",
        "plt.show()\n",
        "\n",
        "print(best_pair)\n",
        "print(best_r2)\n",
        "\n"
      ],
      "metadata": {
        "colab": {
          "base_uri": "https://localhost:8080/",
          "height": 319
        },
        "id": "0nyO--KVfpzD",
        "outputId": "788fda62-6cd0-4ba5-9619-7d13ec4ce903"
      },
      "execution_count": null,
      "outputs": [
        {
          "output_type": "display_data",
          "data": {
            "image/png": "[encoded data removed]",
            "text/plain": [
              "<Figure size 432x288 with 1 Axes>"
            ]
          },
          "metadata": {
            "needs_background": "light"
          }
        },
        {
          "output_type": "stream",
          "name": "stdout",
          "text": [
            "[['bmi'], ['bmi', 's5'], ['bmi', 'bp', 's5'], ['bmi', 'bp', 's1', 's5'], ['sex', 'bmi', 'bp', 's3', 's5'], ['sex', 'bmi', 'bp', 's1', 's2', 's5'], ['sex', 'bmi', 'bp', 's1', 's2', 's4', 's5'], ['sex', 'bmi', 'bp', 's1', 's2', 's4', 's5', 's6'], ['sex', 'bmi', 'bp', 's1', 's2', 's3', 's4', 's5', 's6'], ['age', 'sex', 'bmi', 'bp', 's1', 's2', 's3', 's4', 's5', 's6']]\n",
            "[0.3439237602253803, 0.4594852440167805, 0.48008281990946056, 0.49201619828699905, 0.5086324897618718, 0.5148848325387045, 0.5162912373528604, 0.5174713510884763, 0.5177180065591446, 0.5177494254132934]\n"
          ]
        }
      ]
    },
    {
      "cell_type": "code",
      "source": [
        "def selectForward(model, X,y):\n",
        "\n",
        "  fwd_r2   = []\n",
        "  fwd_pair  = []\n",
        "  best = []\n",
        "  predictors = X.columns.to_list()\n",
        "  for k in range(1, len(X.columns)+1):    \n",
        "    r2_set  = []\n",
        "    pairs   = []\n",
        "    for i in list(predictors):\n",
        "      pair = best+[i]\n",
        "      model.fit(X[pair], y)       \n",
        "      mse, r2 = evaluateModel(model, X[pair], y, printRes = False)\n",
        "      pairs.append(pair)\n",
        "      r2_set.append(r2)\n",
        "      \n",
        "    # Escolhe a melhor\n",
        "    best_pos = np.argmax(r2_set)    \n",
        "    fwd_r2.append( r2_set[best_pos] )    \n",
        "    best = pairs[best_pos]\n",
        "    predictors.remove( best[-1] )\n",
        "    fwd_pair.append( best )\n",
        "\n",
        "  return fwd_r2, fwd_pair\n",
        "\n",
        "lr = LinearRegression()\n",
        "fwd_r2, fwd_pair = selectForward(lr, X, y)\n",
        "plt.plot(np.arange(1,len(X.columns)+1), fwd_r2,\"*-\", label='training')\n",
        "fwd_r2_cv = []\n",
        "for i in range(len(best_pair)):\n",
        "  cv_results = cross_validate(lr, X[fwd_pair[i]], y, cv=10, scoring=('r2'))\n",
        "  fwd_r2_cv.append( np.mean(cv_results['test_score']) )\n",
        "plt.plot(np.arange(1,len(X.columns)+1), fwd_r2_cv,\"b*-\", label='validation-fwd')\n",
        "plt.plot(np.arange(1,len(X.columns)+1), best_r2_cv,\"g*-\", label='validation-best')\n",
        "plt.legend()\n",
        "plt.show()\n",
        "\n",
        "print(fwd_pair)\n",
        "print(fwd_r2)"
      ],
      "metadata": {
        "colab": {
          "base_uri": "https://localhost:8080/",
          "height": 319
        },
        "id": "f33oEAneDWyR",
        "outputId": "549636ba-663b-4447-81ab-f1e97f771903"
      },
      "execution_count": null,
      "outputs": [
        {
          "output_type": "display_data",
          "data": {
            "image/png": "[encoded data removed]",
            "text/plain": [
              "<Figure size 432x288 with 1 Axes>"
            ]
          },
          "metadata": {
            "needs_background": "light"
          }
        },
        {
          "output_type": "stream",
          "name": "stdout",
          "text": [
            "[['bmi'], ['bmi', 's5'], ['bmi', 's5', 'bp'], ['bmi', 's5', 'bp', 's1'], ['bmi', 's5', 'bp', 's1', 'sex'], ['bmi', 's5', 'bp', 's1', 'sex', 's2'], ['bmi', 's5', 'bp', 's1', 'sex', 's2', 's4'], ['bmi', 's5', 'bp', 's1', 'sex', 's2', 's4', 's6'], ['bmi', 's5', 'bp', 's1', 'sex', 's2', 's4', 's6', 's3'], ['bmi', 's5', 'bp', 's1', 'sex', 's2', 's4', 's6', 's3', 'age']]\n",
            "[0.3439237602253803, 0.4594852440167805, 0.48008281990946045, 0.49201619828699916, 0.49986101067387156, 0.5148848325387045, 0.5162912373528603, 0.5174713510884762, 0.5177180065591446, 0.5177494254132934]\n"
          ]
        }
      ]
    },
    {
      "cell_type": "markdown",
      "source": [
        "# Regularização\n",
        "\n",
        "[Linear Regression no Scikit-learn](https://scikit-learn.org/stable/modules/linear_model.html)"
      ],
      "metadata": {
        "id": "blHdFhiwwuRc"
      }
    },
    {
      "cell_type": "code",
      "source": [
        "from sklearn.linear_model import Ridge, Lasso\n",
        "\n",
        "X_train, X_vali, y_train, y_vali = train_test_split(X,y, test_size=0.20)\n",
        "\n",
        "ridge = Ridge()\n",
        "ridge.fit(X_train, y_train)\n",
        "evaluateModel(ridge, X_train, y_train)\n",
        "evaluateModel(ridge, X_vali, y_vali)\n"
      ],
      "metadata": {
        "id": "JqoFZGkvwtvg",
        "colab": {
          "base_uri": "https://localhost:8080/"
        },
        "outputId": "5b4f11ad-eb89-41ad-a253-eeafddfc06bc"
      },
      "execution_count": null,
      "outputs": [
        {
          "output_type": "stream",
          "name": "stdout",
          "text": [
            "Coefficients: 723.94\n",
            "   12.40   -85.11   292.16   166.88    18.06   -12.99  -146.31   129.98   241.34   107.53 \n",
            "Mean squared error: 3227.31\n",
            "Coefficient of determination: 0.45\n",
            "Coefficients: 723.94\n",
            "   12.40   -85.11   292.16   166.88    18.06   -12.99  -146.31   129.98   241.34   107.53 \n",
            "Mean squared error: 3799.89\n",
            "Coefficient of determination: 0.37\n"
          ]
        },
        {
          "output_type": "execute_result",
          "data": {
            "text/plain": [
              "(3799.89066700602, 0.36586119955848284)"
            ]
          },
          "metadata": {},
          "execution_count": 22
        }
      ]
    },
    {
      "cell_type": "code",
      "source": [
        "lr = LinearRegression()\n",
        "ridge = Ridge()\n",
        "lasso = Lasso()\n",
        "\n",
        "kf = KFold(n_splits=5)#, shuffle=True)\n",
        "#cv_results = cross_validate(lr, X, y, cv=kf, scoring=('r2', 'neg_mean_squared_error'))\n",
        "cv_results = cross_validate(lr, X, y, cv=kf, scoring=('r2'))\n",
        "print('LR mean R2 =', np.mean(cv_results['test_score']))\n",
        "print(cv_results['test_score'])\n",
        "\n",
        "cv_results = cross_validate(ridge, X, y, cv=kf, scoring=('r2'))\n",
        "print('Ridge mean R2 =', np.mean(cv_results['test_score']))\n",
        "print(cv_results['test_score'])\n",
        "\n",
        "cv_results = cross_validate(lasso, X, y, cv=kf, scoring=('r2'))\n",
        "print('Lasso mean R2 =', np.mean(cv_results['test_score']))\n",
        "print(cv_results['test_score'])\n",
        "\n",
        "# Dados já vem normalizados, mas se não viessem , poderia usar o StandardScaler do Python"
      ],
      "metadata": {
        "colab": {
          "base_uri": "https://localhost:8080/"
        },
        "id": "za-tMKqW0NEH",
        "outputId": "ba8606b0-bf54-4cf5-d394-45b573a93577"
      },
      "execution_count": null,
      "outputs": [
        {
          "output_type": "stream",
          "name": "stdout",
          "text": [
            "LR mean R2 = 0.48231812211149394\n",
            "[0.42955643 0.52259828 0.4826784  0.42650827 0.55024923]\n",
            "Ridge mean R2 = 0.4101758336587286\n",
            "[0.32166426 0.44048429 0.42210466 0.42466353 0.44196242]\n",
            "Lasso mean R2 = 0.3375597834274946\n",
            "[0.28349047 0.35157959 0.3533813  0.33481474 0.36453281]\n"
          ]
        }
      ]
    },
    {
      "cell_type": "code",
      "source": [
        "ridge_l = []\n",
        "lasso_l = []\n",
        "lr_l = []\n",
        "\n",
        "ls = [0.01, 0.025, 0.05, 0.1, 0.25, 0.5]\n",
        "kf = KFold(n_splits=50, shuffle=True, random_state=21)\n",
        "for l in ls:\n",
        "  lr = LinearRegression()\n",
        "  ridge = Ridge(alpha=l)\n",
        "  lasso = Lasso(alpha=l)\n",
        "\n",
        "  #cv_results = cross_validate(lr, X, y, cv=kf, scoring=('r2', 'neg_mean_squared_error'))\n",
        "  cv_results = cross_validate(lr, X, y, cv=kf, scoring=('r2'))\n",
        "  lr_l.append( np.mean(cv_results['test_score'] ))\n",
        "\n",
        "  cv_results = cross_validate(ridge, X, y, cv=kf, scoring=('r2'))\n",
        "  ridge_l.append( np.mean(cv_results['test_score']))  \n",
        "\n",
        "  cv_results = cross_validate(lasso, X, y, cv=kf, scoring=('r2'))\n",
        "  lasso_l.append( np.mean(cv_results['test_score']))\n",
        "\n",
        "plt.plot (ls, lr_l, '-*', label = 'lr')\n",
        "plt.plot (ls, ridge_l, '-*',label = 'ridge')\n",
        "plt.plot (ls, lasso_l, '-*',label = 'lasso')\n",
        "plt.xlabel('Lambda')\n",
        "plt.ylabel('R2 CV')\n",
        "plt.xscale('log')\n",
        "plt.legend()\n",
        "plt.show()\n"
      ],
      "metadata": {
        "colab": {
          "base_uri": "https://localhost:8080/",
          "height": 283
        },
        "id": "ODGVvqTV4YhF",
        "outputId": "202e798e-7599-4fe2-ca2d-084d73c59acf"
      },
      "execution_count": null,
      "outputs": [
        {
          "output_type": "display_data",
          "data": {
            "image/png": "[encoded data removed]",
            "text/plain": [
              "<Figure size 432x288 with 1 Axes>"
            ]
          },
          "metadata": {
            "needs_background": "light"
          }
        }
      ]
    },
    {
      "cell_type": "code",
      "source": [
        "X_train, X_vali, y_train, y_vali = train_test_split(X,y, test_size=0.20)\n",
        "\n",
        "print(X.columns)\n",
        "\n",
        "print(\"\\n=== LR ===\")\n",
        "lr = LinearRegression()\n",
        "lr.fit(X_train, y_train)\n",
        "#evaluateModel(lr, X_train, y_train)\n",
        "evaluateModel(lr, X_vali, y_vali)\n",
        "\n",
        "print(\"\\n=== Lasso ===\")\n",
        "lasso = Lasso(alpha=0.05)\n",
        "lasso.fit(X_train, y_train)\n",
        "#evaluateModel(lasso, X_train, y_train)\n",
        "evaluateModel(lasso, X_vali, y_vali)\n",
        "\n",
        "print(\"\\n=== Ridge ===\")\n",
        "ridge = Ridge(alpha=0.1)\n",
        "ridge.fit(X_train, y_train)\n",
        "#evaluateModel(ridge, X_train, y_train)\n",
        "evaluateModel(ridge, X_vali, y_vali)\n"
      ],
      "metadata": {
        "colab": {
          "base_uri": "https://localhost:8080/"
        },
        "id": "Gp0frTMs7s6i",
        "outputId": "cce35460-b5c4-4bcb-8865-2ec8b9bb986a"
      },
      "execution_count": null,
      "outputs": [
        {
          "output_type": "stream",
          "name": "stdout",
          "text": [
            "Index(['age', 'sex', 'bmi', 'bp', 's1', 's2', 's3', 's4', 's5', 's6'], dtype='object')\n",
            "\n",
            "=== LR ===\n",
            "Coefficients: 1397.31\n",
            "   19.95  -247.37   528.45   351.03  -729.05   378.77    99.79   283.50   684.14    28.11 \n",
            "Mean squared error: 3210.01\n",
            "Coefficient of determination: 0.45\n",
            "\n",
            "=== Lasso ===\n",
            "Coefficients: 947.48\n",
            "    0.00  -196.27   534.22   327.57  -130.81    -0.00  -187.21    88.29   492.92    18.77 \n",
            "Mean squared error: 3193.17\n",
            "Coefficient of determination: 0.45\n",
            "\n",
            "=== Ridge ===\n",
            "Coefficients: 914.52\n",
            "   26.70  -205.31   490.61   319.81   -74.41   -88.68  -189.25   166.73   409.18    59.15 \n",
            "Mean squared error: 3215.82\n",
            "Coefficient of determination: 0.44\n"
          ]
        },
        {
          "output_type": "execute_result",
          "data": {
            "text/plain": [
              "(3215.8245465783684, 0.44488544048356227)"
            ]
          },
          "metadata": {},
          "execution_count": 34
        }
      ]
    }
  ],
  "metadata": {
    "colab": {
      "name": "Aula5.2-Teste.ipynb",
      "provenance": []
    },
    "kernelspec": {
      "display_name": "Python 3",
      "name": "python3"
    },
    "language_info": {
      "name": "python"
    }
  },
  "nbformat": 4,
  "nbformat_minor": 0
}